{
 "cells": [
  {
   "cell_type": "markdown",
   "id": "65793139",
   "metadata": {},
   "source": [
    "# 1. Load cultural references"
   ]
  },
  {
   "cell_type": "code",
   "execution_count": 2,
   "id": "ff7db367",
   "metadata": {},
   "outputs": [],
   "source": [
    "import pandas as pd\n",
    "import os\n",
    "import spacy\n",
    "from tqdm import tqdm\n",
    "import numpy as np\n",
    "nlp = spacy.load('en_core_web_sm')\n",
    "nlp.max_length = 3000000\n",
    "import random\n",
    "\n",
    "import matplotlib.pyplot as plt"
   ]
  },
  {
   "cell_type": "code",
   "execution_count": 37,
   "id": "9d56dcfb",
   "metadata": {},
   "outputs": [],
   "source": [
    "authors=['bachman','harris', 'straub', 'koontz', 'king']\n",
    "with open(\"bachman_all-cultural-references.txt\", encoding='utf8') as f:\n",
    "    entities = f.readlines()"
   ]
  },
  {
   "cell_type": "code",
   "execution_count": 44,
   "id": "e9091900",
   "metadata": {},
   "outputs": [
    {
     "data": {
      "text/plain": [
       "\"A&S Tires, A. Gordon Pym, AP wire, Abdul Allhazred, Adreizi Brothers, Agatha Christie, Ahab, Albert Einstein, Alfie, Alligators All Around, American Express, Amoco, Amos ’n Andy, Amway, Anacin, Anaïs, And Justice for All, Andy Devine, Annie Oakley, Apple, Arco, Arlene Dahl, Art Linkletter, Aureomycin, Avis, B&O, BMW, Bach, Bally, Band-Aid, Banjo Rag, Banker’s Life Insurance, Barbie, Bausch & Lomb, Be-Bop, Be-bop-a-lula, she's my baby, Beach Boys, Beatles, Beechcraft, Ben Alexander, Bermuda, Bertrand Russell, Beverly Hill-billies, Big Mac, Bill Cullen, Black Jack gum, Blackglama, Bob Hope, Bobby Sherman, Bombardier Skidoo, Bonneville, Brain from Planet Arous, Brian Wilson, Briggs & Stratton, Broderick Crawford, Bruce Springsteen, Bud, Budweiser, Buick, Burger King, Buttercup, Cadillac, Caesar's Palace, Calvin Klein, Camel, Campbell, Canada Mints, Captain Midnight, Captain Queeg, Chancellor-Brinkley, Chargers, Charles Manson, Charmin, Chatty Cathy, Cheez-Doodles, Chesterfield, Chevrolet, Chevy, Chevy Impala, Chevy Nova, Chipwich, Chivas, Chris-Craft, Chrysler Imperial, Chryster, Chuck Berry, Cimarron, Clint Eastwood, Coca-Cola, Coke, Colt, Colt Woodsman, Con-Tact, Cracker Jack, Curly, D-Con, Dairy Freez, Dallas Cowgirls, Dan Fortune, Dannon, Darvocet, Darvon, Datsun, David Cassidy, David Janssen, Delco, Delta 88, Denny's, Detroit Redwings, Detroit Tigers, Dial M for Murder, Dialing for Dollars, Diamond International, Dick Cavett, Dingo, Dior, Dirty Harry, Disney, Disney World, Dodge, Dodge Custom Cab, Dolby, Don Rickles, Donald Westlake, Dorito, Dorothy Sayers, Dos Passos, Dotto, Dr. Caligari, Dr. Scholl, Dragnet, Dungeons and Dragons, Duz, Dylan, Eames, Eberhard Faber, Econoline, Edith Head, Electrolux, Ellery Queen, Elton John, Elvis, Empirin, Ernest Hemingway, Exorcist, Exxon, F Troop, Facing the Lions, Family Feud, Fantasia, Farmer Brown, Fat Sammy's, Father Brown, Ferrari, Field and Stream, Firebird, Flair Fineliners, Flatt and Scruggs, Fontainbleau, Ford, Ford Pinto, Formica, Forrest Tucker, Francis Gary Powers, Frederick’s of Hollywood, Frisbee, GI Joe, GM, Garfield, Garry Moore, Gary Davis, Ghidra, Gilligan’s Island, Gisele MacKenzie, Glade Pine Fresh, Godzilla, Good-bye Yellow Brick Road, Goodwill, Gravy Train, Great Northern, Great Western, Green Door, Greenbriar Boys, Greyhound, Griff, Gucci, Gulf, Guy Lombardo, Guy Madison, H. Rider Haggard, HBO, Hal March, Hamburger Helper, Hammond Innes, Henry Glassman, Henry James, Henry Youngman, Herman Wouk, Hertz, Hesse, Hexlite, Hey, Mr. Sun, Highway Patrol, Hogan’s Heroes, Holiday Inn, Home Box Office, Honda, Horchow, Hot Stuff, Howard Cosell, Howdy Doody, Hula Hoops, Humphrey Bogart, I Dream of Jeannie, I Love Lucy, Incredible Shrinking Man, J. C. Penney’s, J. Press, J. W. Dant, J.C. Whitney, J.J. Cale, Jack Barry, Jack Benny Program, Jack Narz, Jack and Jill, James Bond, James Cain, Jaws, JayCee, Jell-O, Jerry Jeff Walker, Jimmy Cagney, Jimmy Stewart, Jingles, Jock Mahoney, Joe Friday, John Agar, John Carradine, John Chancellor, John Cheever, John Cougar Mellancamp, John D. MacDonald, John Travolta, Joker’s Wild, Jordache, Judy Blume, Julia Child, KLH, Kalishnikov, Karen Carpenter, Kent, Kewpie, King Kong, Kitty Carlisle, Kleenex, Kluge, Kodachrome, Krazy Glue, Kurt Vonnegut, LTD, Lacoste, Larry, Lawrence Belch, Lee Strasberg, Lenny Bruce, Let It Be, Let it Bleed, Let’s Make a Deal, Levi’s, Lionel Richie, Lipton, Lobstermen, Long Island Dragway, Loony Tunes, Lorne Greene, Louis Lamour, Mace, Malboros, Mammoth Mart, Manhattan Transfer, Mantovani, Marcus Welby, Marlboro, Marlboro Light, Marty Milner, Maurice Sendak, Mauser, Max Von Sydow, Maxwell House, McDonald, McDonald’s, Mercedes, Mercury, Merv Griffin, Mets, Michael Jackson, Michelangelo, Mick Jagger, Mickey Mouse, Midnight Rambler, Milky Way, Miller, Miller Lite, Miracle Chopper, Moe, Molotov, Monkey Man, Monkey Trial, Monocle, Monopoly, Monte Hall, Morns, Mothra, Motorola, Mr. Bojangles, Mr. Hyde Jekyll, Mr. Rogers, Mr. T., Muenster cheese, Mustangs, Myron Floren, NFL, National Enquirer, National Geographic, National Lampoon, New Paltz, New York Times, Nike, Niques, Nite Owl, Nivea, Norman Bates, Norman Vincent Peale, Num-Zit, O. Henry, OK Corral, Olds, Oldsmobile Ninety-Eight, Olivetti, Olivia Newton John, Omar the Tentmaker, Oshkosh, Outdoor Life, Pall Mall, Panthers, Pat Benatar, Paul Harvey, Paul Stuart, Pavlov, Peanuts comic strips, Peggy Sue, Penthouse, Pepsi, Pepsi-Cola, Pepto-Bismol, Pequod, Perrier, Perry Mason, Peter Rabbit, Philco, Phillies Cheroot, Phillips, Pig Pen, Piper Cub, Plymouth, Polaroid, Ponderosa golf, Pontiac, Porsche, Psycho, Q-tip, Quoddy, RCA, REA express, Radio Shack, Ramada Inn, Range Rider, Raquel Welch, Ravi Shankar, Reader’s Digest, Red Sox, Richard Petty, Richard Stark, Richard Widmark, Rin Tin Tin, Ring-Dings, Rinso, Ripley’s Believe It Or Not, Ritz, Ritz crackers, Robert Redford, Rodan, Rolaids, Rolex, Rollerdrome, Rolling Stones, Rolls-Royce, Ronald McDonald, S&H Green Stamps, SOI, Saab, Sadie Hawkins, Saf-T-Glass, Salvation Army, Samsonite, Sara Lee cheesecake, Saran Wrap, Saville Row, Schooner, Schwinn, Scripto, Seargeant Preston, Sears, Seven Flags Over Georgia, Seven-Up, Shell, Sheraton, Sherman tank, Shop and Save, Shop ’n Save, Shop ’n’ Save, Slaughterhouse Five, Slurpies, Slurpy, Smith & Wesson, Sony, Soo Line, Soupy Sales, Souther Comfort, Southern Pacific, Space Command, Spencer Tracy, Spider John Koemer, Star Trek, Starsky and Hutch, Sterno, Stetsons, Sting, Stop and Shop, Stranger in Paradise, Subaru, Sunoco, Sylvester Stallone, T. S. Eliot, TRS-80, Tarr Brothers, Technicolor, Tensor, Tensor study lamps, Texaco, The $64,000 Question, The Ballad of John and Yoko, The Day the Earth Stood Still, The Gift of the Magi, The Gong Show, The Guardian, The Manchester Guardian, The New Price is Right, The New York Review of Books, The Postman Always Rings Twice, This Is Your Life, This Savage Rapture, Thomas Carlyle, Thousand Island dressing, Three Stooges, Three’s Company, Thunderbird, Thus Spake Zarathustra, Tic Tac Dough, Time Magazine, Timex, Tinkertoys, To Tell the Truth, Tolkien, Tom Paxton, Tom Rush, Tom Wicker, Tony Curtis, Toyota, Toys Are Joys, Trans Am, Trifles, Trix, True Argosy, Tukkan the Terrible, Twenty One, Twinkies, Twinky, Universal Pictures, VW, Vantage 100, Victor Canning, Vince Lombardi, Volvo, Von Ronk, WGAN-TV, Waldenbooks, Waldorf-Astoria, Walkman, Wall Street Journal, Walt Disney, Walter Cronkite, Warner Anderson, Warner Brothers, Washex, We Gotta Get It On Again, Weatherby, Wet-Nap, What’s My Line, Where are They Now, Whoppers, Wild Bill Hickok, Wilt Chamberlain, Winslow Homer, Wizard of Oz, Woody Woodpecker, Wranglers, Wyatt Earp, Yankees, Yorick, You can’t always get what you want, Your Hit Parade, Your Show of Shows, Zenith, Zippo, lazy Susan\""
      ]
     },
     "execution_count": 44,
     "metadata": {},
     "output_type": "execute_result"
    }
   ],
   "source": [
    "\", \".join(sorted(list(set([(entity.strip())  for entity in entities if len(entity.strip()) > 0]))))"
   ]
  },
  {
   "cell_type": "code",
   "execution_count": 3,
   "id": "755f1634",
   "metadata": {},
   "outputs": [
    {
     "data": {
      "text/plain": [
       "True"
      ]
     },
     "execution_count": 3,
     "metadata": {},
     "output_type": "execute_result"
    }
   ],
   "source": [
    "import re \n",
    "\n",
    "\n",
    "def clean_quotes(string):\n",
    "    return re.sub(\"[\\'’]\", '', string )"
   ]
  },
  {
   "cell_type": "code",
   "execution_count": 4,
   "id": "d0079031",
   "metadata": {},
   "outputs": [
    {
     "data": {
      "text/plain": [
       "['kalishnikov',\n",
       " 'lionel richie',\n",
       " 'arlene dahl',\n",
       " 'chipwich',\n",
       " 'ring-dings',\n",
       " 'mcdonald',\n",
       " 'hula hoops',\n",
       " 'good-bye yellow brick road',\n",
       " 'national geographic',\n",
       " 'facing the lions',\n",
       " 'garfield',\n",
       " 'slurpy',\n",
       " 'nike',\n",
       " 'trans am',\n",
       " 'stetsons',\n",
       " 'samsonite',\n",
       " 'polaroid',\n",
       " 'caesars palace',\n",
       " 'briggs & stratton',\n",
       " 'bausch & lomb',\n",
       " 'pequod',\n",
       " 'let it bleed',\n",
       " 'disney',\n",
       " 'larry',\n",
       " 'home box office',\n",
       " 'mr. bojangles',\n",
       " 'time magazine',\n",
       " 'yorick',\n",
       " 'norman vincent peale',\n",
       " 'john carradine',\n",
       " 'perrier',\n",
       " 'elvis',\n",
       " 'mercedes',\n",
       " 'horchow',\n",
       " 'toyota',\n",
       " 'texaco',\n",
       " 'buick',\n",
       " 'lee strasberg',\n",
       " 'maxwell house',\n",
       " 'mothra',\n",
       " 'jokers wild',\n",
       " 'captain queeg',\n",
       " 'tarr brothers',\n",
       " 'twinky',\n",
       " 'ok corral',\n",
       " 'louis lamour',\n",
       " 'herman wouk',\n",
       " 'buttercup',\n",
       " 'gravy train',\n",
       " 'elton john',\n",
       " 'eberhard faber',\n",
       " 'cheez-doodles',\n",
       " 'chevy nova',\n",
       " 'long island dragway',\n",
       " 'band-aid',\n",
       " 'rolls-royce',\n",
       " 'campbell',\n",
       " 'captain midnight',\n",
       " 'rolaids',\n",
       " 'f troop',\n",
       " 'coca-cola',\n",
       " 'exxon',\n",
       " 'marcus welby',\n",
       " 'loony tunes',\n",
       " 'dylan',\n",
       " 'this savage rapture',\n",
       " 'paul stuart',\n",
       " 'detroit tigers',\n",
       " 'ponderosa golf',\n",
       " 'dos passos',\n",
       " 'num-zit',\n",
       " 'jack and jill',\n",
       " 'true argosy',\n",
       " 'kent',\n",
       " 'vw',\n",
       " 'kluge',\n",
       " 'sadie hawkins',\n",
       " 'wet-nap',\n",
       " 'von ronk',\n",
       " 'jerry jeff walker',\n",
       " 'brain from planet arous',\n",
       " 'farmer brown',\n",
       " 'wranglers',\n",
       " 'bombardier skidoo',\n",
       " 'beatles',\n",
       " 'richard widmark',\n",
       " 'incredible shrinking man',\n",
       " 'be-bop',\n",
       " 'fredericks of hollywood',\n",
       " 'henry youngman',\n",
       " 'albert einstein',\n",
       " 'greyhound',\n",
       " 'electrolux',\n",
       " 'mustangs',\n",
       " 'bmw',\n",
       " 'be-bop-a-lula, shes my baby',\n",
       " 'chrysler imperial',\n",
       " 'three stooges',\n",
       " 'space command',\n",
       " 'jimmy stewart',\n",
       " 'jack narz',\n",
       " 'rodan',\n",
       " 'flair fineliners',\n",
       " 'waldorf-astoria',\n",
       " 'tom rush',\n",
       " 'oshkosh',\n",
       " 'gi joe',\n",
       " 'tic tac dough',\n",
       " 'alligators all around',\n",
       " 'panthers',\n",
       " 'weatherby',\n",
       " 'richard stark',\n",
       " 'curly',\n",
       " 'bob hope',\n",
       " 'dodge custom cab',\n",
       " 'dial m for murder',\n",
       " 'tinkertoys',\n",
       " 'thomas carlyle',\n",
       " 'walkman',\n",
       " 'toys are joys',\n",
       " 'field and stream',\n",
       " 'tukkan the terrible',\n",
       " 'budweiser',\n",
       " 'the gift of the magi',\n",
       " 'goodwill',\n",
       " 'ford',\n",
       " 'piper cub',\n",
       " 'dotto',\n",
       " 'universal pictures',\n",
       " 'peggy sue',\n",
       " 'robert redford',\n",
       " 'i dream of jeannie',\n",
       " 'honda',\n",
       " 'banjo rag',\n",
       " 'beverly hill-billies',\n",
       " 'rolling stones',\n",
       " 'henry james',\n",
       " 'seven flags over georgia',\n",
       " 'great western',\n",
       " 'francis gary powers',\n",
       " 'chivas',\n",
       " 'dingo',\n",
       " 'manhattan transfer',\n",
       " 'rca',\n",
       " 'warner brothers',\n",
       " 'ben alexander',\n",
       " 'norman bates',\n",
       " 'jingles',\n",
       " 'threes company',\n",
       " 'phillies cheroot',\n",
       " 'j. press',\n",
       " 'ferrari',\n",
       " 'hamburger helper',\n",
       " 'porsche',\n",
       " 'gary davis',\n",
       " 'trs-80',\n",
       " 'john travolta',\n",
       " 'd-con',\n",
       " 'oldsmobile ninety-eight',\n",
       " 'anaïs',\n",
       " 'adreizi brothers',\n",
       " 'ap wire',\n",
       " 'ernest hemingway',\n",
       " 'ravi shankar',\n",
       " 'morns',\n",
       " 'vantage 100',\n",
       " 'apple',\n",
       " 'timex',\n",
       " 'thousand island dressing',\n",
       " 'tom paxton',\n",
       " 'anacin',\n",
       " 'rolex',\n",
       " 'lacoste',\n",
       " 'sheraton',\n",
       " 'perry mason',\n",
       " 'star trek',\n",
       " 'joe friday',\n",
       " 'kurt vonnegut',\n",
       " 'darvocet',\n",
       " 'bankers life insurance',\n",
       " 'dr. caligari',\n",
       " 'hbo',\n",
       " 'judy blume',\n",
       " 'the $64,000 question',\n",
       " 'levis',\n",
       " 'julia child',\n",
       " 'penthouse',\n",
       " 'don rickles',\n",
       " 'james bond',\n",
       " 'chevrolet',\n",
       " 'marlboro',\n",
       " 'brian wilson',\n",
       " 'a. gordon pym',\n",
       " 'red sox',\n",
       " 'howdy doody',\n",
       " 'dannon',\n",
       " 't. s. eliot',\n",
       " 'trifles',\n",
       " 'charles manson',\n",
       " 'mantovani',\n",
       " 'michelangelo',\n",
       " 'chargers',\n",
       " 'j.c. whitney',\n",
       " 'dairy freez',\n",
       " 'jimmy cagney',\n",
       " 'lipton',\n",
       " 'camel',\n",
       " 'the gong show',\n",
       " 'and justice for all',\n",
       " 'sterno',\n",
       " 'chevy',\n",
       " 'james cain',\n",
       " 'your show of shows',\n",
       " 'schooner',\n",
       " 'national lampoon',\n",
       " 'chevy impala',\n",
       " 'ford pinto',\n",
       " 'scripto',\n",
       " 'nivea',\n",
       " 'the new york review of books',\n",
       " 'bill cullen',\n",
       " 'pepto-bismol',\n",
       " 'the manchester guardian',\n",
       " 'seargeant preston',\n",
       " 'bruce springsteen',\n",
       " 'richard petty',\n",
       " 'green door',\n",
       " 'we gotta get it on again',\n",
       " 'ellery queen',\n",
       " 'duz',\n",
       " 'john d. macdonald',\n",
       " 'pig pen',\n",
       " 'monopoly',\n",
       " 'dorito',\n",
       " 'yankees',\n",
       " 'john cheever',\n",
       " 'gulf',\n",
       " 'beach boys',\n",
       " 'whats my line',\n",
       " 'peanuts comic strips',\n",
       " 'salvation army',\n",
       " 'henry glassman',\n",
       " 'nfl',\n",
       " 'dior',\n",
       " 'lets make a deal',\n",
       " 'outdoor life',\n",
       " 'guy madison',\n",
       " 'klh',\n",
       " 'victor canning',\n",
       " 'mickey mouse',\n",
       " 'readers digest',\n",
       " 'whoppers',\n",
       " 'eames',\n",
       " 'paul harvey',\n",
       " 'the postman always rings twice',\n",
       " 'david cassidy',\n",
       " 'dragnet',\n",
       " 'chuck berry',\n",
       " 'lobstermen',\n",
       " 'chris-craft',\n",
       " 'abdul allhazred',\n",
       " 'phillips',\n",
       " 'hogans heroes',\n",
       " 'moe',\n",
       " 'wall street journal',\n",
       " 'jordache',\n",
       " 'saran wrap',\n",
       " 'bonneville',\n",
       " 'jaycee',\n",
       " 'thunderbird',\n",
       " 'charmin',\n",
       " 'disney world',\n",
       " 'chesterfield',\n",
       " 'zenith',\n",
       " 'j.j. cale',\n",
       " 'walt disney',\n",
       " 'pall mall',\n",
       " 'sherman tank',\n",
       " 'black jack gum',\n",
       " 'j. w. dant',\n",
       " 'burger king',\n",
       " 'michael jackson',\n",
       " 'niques',\n",
       " 'broderick crawford',\n",
       " 'john agar',\n",
       " 'godzilla',\n",
       " 'highway patrol',\n",
       " 'olds',\n",
       " 'datsun',\n",
       " 'colt woodsman',\n",
       " 'olivetti',\n",
       " 'tensor',\n",
       " 'soupy sales',\n",
       " 'zippo',\n",
       " 'beechcraft',\n",
       " 'miller',\n",
       " 'j. c. penneys',\n",
       " 'milky way',\n",
       " 'subaru',\n",
       " 'jack benny program',\n",
       " 'mr. t.',\n",
       " 'the new price is right',\n",
       " 'calvin klein',\n",
       " 'garry moore',\n",
       " 'exorcist',\n",
       " 'wild bill hickok',\n",
       " 'mr. rogers',\n",
       " 'quoddy',\n",
       " 'greenbriar boys',\n",
       " 'great northern',\n",
       " 'the guardian',\n",
       " 'mr. hyde jekyll',\n",
       " 'woody woodpecker',\n",
       " 'art linkletter',\n",
       " 'empirin',\n",
       " 'q-tip',\n",
       " 'sunoco',\n",
       " 's&h green stamps',\n",
       " 'a&s tires',\n",
       " 'vince lombardi',\n",
       " 'dolby',\n",
       " 'amway',\n",
       " 'john cougar mellancamp',\n",
       " 'spider john koemer',\n",
       " 'starsky and hutch',\n",
       " 'wgan-tv',\n",
       " 'max von sydow',\n",
       " 'andy devine',\n",
       " 'your hit parade',\n",
       " 'slurpies',\n",
       " 'jaws',\n",
       " 'myron floren',\n",
       " 'dick cavett',\n",
       " 'bobby sherman',\n",
       " 'formica',\n",
       " 'gilligans island',\n",
       " 'sara lee cheesecake',\n",
       " 'mace',\n",
       " 'amos n andy',\n",
       " 'hertz',\n",
       " 'national enquirer',\n",
       " 'mercury',\n",
       " 'ghidra',\n",
       " 'southern pacific',\n",
       " 'delta 88',\n",
       " 'rea express',\n",
       " 'let it be',\n",
       " 'cadillac',\n",
       " 'hot stuff',\n",
       " 'chryster',\n",
       " 'psycho',\n",
       " 'radio shack',\n",
       " 'dungeons and dragons',\n",
       " 'jack barry',\n",
       " 'hexlite',\n",
       " 'flatt and scruggs',\n",
       " 'saville row',\n",
       " 'omar the tentmaker',\n",
       " 'ramada inn',\n",
       " 'shell',\n",
       " 'chatty cathy',\n",
       " 'technicolor',\n",
       " 'diamond international',\n",
       " 'pepsi-cola',\n",
       " 'dodge',\n",
       " 'miracle chopper',\n",
       " 'gucci',\n",
       " 'new paltz',\n",
       " 'kleenex',\n",
       " 'seven-up',\n",
       " 'dr. scholl',\n",
       " 'range rider',\n",
       " 'rin tin tin',\n",
       " 'bach',\n",
       " 'bud',\n",
       " 'dirty harry',\n",
       " 'stop and shop',\n",
       " 'twinkies',\n",
       " 'big mac',\n",
       " 'gisele mackenzie',\n",
       " 'humphrey bogart',\n",
       " 'glade pine fresh',\n",
       " 'pontiac',\n",
       " 'david janssen',\n",
       " 'mick jagger',\n",
       " 'shop and save',\n",
       " 'wyatt earp',\n",
       " 'rinso',\n",
       " 'ritz crackers',\n",
       " 'monkey man',\n",
       " 'gm',\n",
       " 'miller lite',\n",
       " 'avis',\n",
       " 'dennys',\n",
       " 'fantasia',\n",
       " 'wilt chamberlain',\n",
       " 'jell-o',\n",
       " 'ripleys believe it or not',\n",
       " 'mauser',\n",
       " 'sears',\n",
       " 'arco',\n",
       " 'smith & wesson',\n",
       " 'stranger in paradise',\n",
       " 'the ballad of john and yoko',\n",
       " 'sony',\n",
       " 'ltd',\n",
       " 'h. rider haggard',\n",
       " 'aureomycin',\n",
       " 'muenster cheese',\n",
       " 'dorothy sayers',\n",
       " 'motorola',\n",
       " 'spencer tracy',\n",
       " 'i love lucy',\n",
       " 'jock mahoney',\n",
       " 'pat benatar',\n",
       " 'mets',\n",
       " 'new york times',\n",
       " 'sylvester stallone',\n",
       " 'barbie',\n",
       " 'waldenbooks',\n",
       " 'maurice sendak',\n",
       " 'monte hall',\n",
       " 'canada mints',\n",
       " 'soo line',\n",
       " 'guy lombardo',\n",
       " 'wizard of oz',\n",
       " 'sting',\n",
       " 'colt',\n",
       " 'hammond innes',\n",
       " 'frisbee',\n",
       " 'edith head',\n",
       " 'kitty carlisle',\n",
       " 'malboros',\n",
       " 'john chancellor',\n",
       " 'olivia newton john',\n",
       " 'annie oakley',\n",
       " 'donald westlake',\n",
       " 'lawrence belch',\n",
       " 'lazy susan',\n",
       " 'marlboro light',\n",
       " 'ronald mcdonald',\n",
       " 'coke',\n",
       " 'holiday inn',\n",
       " 'twenty one',\n",
       " 'bermuda',\n",
       " 'hal march',\n",
       " 'alfie',\n",
       " 'lorne greene',\n",
       " 'slaughterhouse five',\n",
       " 'blackglama',\n",
       " 'fontainbleau',\n",
       " 'lenny bruce',\n",
       " 'forrest tucker',\n",
       " 'mammoth mart',\n",
       " 'fat sammys',\n",
       " 'the day the earth stood still',\n",
       " 'father brown',\n",
       " 'firebird',\n",
       " 'peter rabbit',\n",
       " 'soi',\n",
       " 'bertrand russell',\n",
       " 'dan fortune',\n",
       " 'souther comfort',\n",
       " 'family feud',\n",
       " 'midnight rambler',\n",
       " 'krazy glue',\n",
       " 'winslow homer',\n",
       " 'raquel welch',\n",
       " 'hesse',\n",
       " 'merv griffin',\n",
       " 'king kong',\n",
       " 'ahab',\n",
       " 'darvon',\n",
       " 'tony curtis',\n",
       " 'to tell the truth',\n",
       " 'walter cronkite',\n",
       " 'clint eastwood',\n",
       " 'mcdonalds',\n",
       " 'thus spake zarathustra',\n",
       " 'pavlov',\n",
       " 'rollerdrome',\n",
       " 'volvo',\n",
       " 'this is your life',\n",
       " 'kodachrome',\n",
       " 'philco',\n",
       " 'washex',\n",
       " 'tolkien',\n",
       " 'cimarron',\n",
       " 'trix',\n",
       " 'nite owl',\n",
       " 'you cant always get what you want',\n",
       " 'plymouth',\n",
       " 'monocle',\n",
       " 'amoco',\n",
       " 'kewpie',\n",
       " 'con-tact',\n",
       " 'warner anderson',\n",
       " 'karen carpenter',\n",
       " 'schwinn',\n",
       " 'delco',\n",
       " 'tensor study lamps',\n",
       " 'bally',\n",
       " 'ritz',\n",
       " 'saab',\n",
       " 'where are they now',\n",
       " 'agatha christie',\n",
       " 'dialing for dollars',\n",
       " 'tom wicker',\n",
       " 'chancellor-brinkley',\n",
       " 'pepsi',\n",
       " 'econoline',\n",
       " 'b&o',\n",
       " 'dallas cowgirls',\n",
       " 'o. henry',\n",
       " 'american express',\n",
       " 'hey, mr. sun',\n",
       " 'detroit redwings',\n",
       " 'griff',\n",
       " 'cracker jack',\n",
       " 'molotov',\n",
       " 'shop n save',\n",
       " 'howard cosell',\n",
       " 'marty milner',\n",
       " 'monkey trial',\n",
       " 'saf-t-glass']"
      ]
     },
     "execution_count": 4,
     "metadata": {},
     "output_type": "execute_result"
    }
   ],
   "source": [
    "bachman_entities = list(set([clean_quotes(entity.strip().lower())  for entity in entities if len(entity.strip()) > 0]))\n",
    "bachman_entities"
   ]
  },
  {
   "cell_type": "code",
   "execution_count": 5,
   "id": "8cdadd04",
   "metadata": {},
   "outputs": [
    {
     "data": {
      "text/plain": [
       "525"
      ]
     },
     "execution_count": 5,
     "metadata": {},
     "output_type": "execute_result"
    }
   ],
   "source": [
    "len(bachman_entities)"
   ]
  },
  {
   "cell_type": "markdown",
   "id": "d18c870a",
   "metadata": {},
   "source": [
    "# 2. Convert books to SpaCy docs"
   ]
  },
  {
   "cell_type": "code",
   "execution_count": 11,
   "id": "19817ee6",
   "metadata": {},
   "outputs": [
    {
     "name": "stderr",
     "output_type": "stream",
     "text": [
      "100%|██████████████████████████████████████████████████████████████████████████████████████████| 31/31 [00:00<?, ?it/s]\n"
     ]
    }
   ],
   "source": [
    "authors,  titles = [], []\n",
    "for file in tqdm(os.listdir()):\n",
    "    if file.endswith(\".txt\"):\n",
    "        authors.append(file.split('-')[0])\n",
    "        titles.append(file.split('-')[2].split('.')[0])\n"
   ]
  },
  {
   "cell_type": "code",
   "execution_count": 12,
   "id": "733fea43",
   "metadata": {},
   "outputs": [
    {
     "name": "stderr",
     "output_type": "stream",
     "text": [
      "\r",
      "  0%|                                                                                           | 0/25 [00:00<?, ?it/s]"
     ]
    },
    {
     "name": "stdout",
     "output_type": "stream",
     "text": [
      "The_Long_Walk\n"
     ]
    },
    {
     "name": "stderr",
     "output_type": "stream",
     "text": [
      "\r",
      "  4%|███▎                                                                               | 1/25 [00:09<03:58,  9.93s/it]"
     ]
    },
    {
     "name": "stdout",
     "output_type": "stream",
     "text": [
      "Roadwork\n"
     ]
    },
    {
     "name": "stderr",
     "output_type": "stream",
     "text": [
      "\r",
      "  8%|██████▋                                                                            | 2/25 [00:20<03:53, 10.13s/it]"
     ]
    },
    {
     "name": "stdout",
     "output_type": "stream",
     "text": [
      "Rage\n"
     ]
    },
    {
     "name": "stderr",
     "output_type": "stream",
     "text": [
      "\r",
      " 12%|█████████▉                                                                         | 3/25 [00:26<03:02,  8.27s/it]"
     ]
    },
    {
     "name": "stdout",
     "output_type": "stream",
     "text": [
      "Blaze\n"
     ]
    },
    {
     "name": "stderr",
     "output_type": "stream",
     "text": [
      "\r",
      " 16%|█████████████▎                                                                     | 4/25 [00:35<02:57,  8.47s/it]"
     ]
    },
    {
     "name": "stdout",
     "output_type": "stream",
     "text": [
      "The_Running_Man\n"
     ]
    },
    {
     "name": "stderr",
     "output_type": "stream",
     "text": [
      "\r",
      " 20%|████████████████▌                                                                  | 5/25 [00:42<02:40,  8.03s/it]"
     ]
    },
    {
     "name": "stdout",
     "output_type": "stream",
     "text": [
      "Thinner\n"
     ]
    },
    {
     "name": "stderr",
     "output_type": "stream",
     "text": [
      "\r",
      " 24%|███████████████████▉                                                               | 6/25 [00:52<02:48,  8.88s/it]"
     ]
    },
    {
     "name": "stdout",
     "output_type": "stream",
     "text": [
      "The_Regulators\n"
     ]
    },
    {
     "name": "stderr",
     "output_type": "stream",
     "text": [
      "\r",
      " 28%|███████████████████████▏                                                           | 7/25 [01:05<03:02, 10.16s/it]"
     ]
    },
    {
     "name": "stdout",
     "output_type": "stream",
     "text": [
      "Black_Sunday\n"
     ]
    },
    {
     "name": "stderr",
     "output_type": "stream",
     "text": [
      "\r",
      " 32%|██████████████████████████▌                                                        | 8/25 [01:15<02:52, 10.17s/it]"
     ]
    },
    {
     "name": "stdout",
     "output_type": "stream",
     "text": [
      "Red_Dragon\n"
     ]
    },
    {
     "name": "stderr",
     "output_type": "stream",
     "text": [
      "\r",
      " 36%|█████████████████████████████▉                                                     | 9/25 [01:27<02:48, 10.53s/it]"
     ]
    },
    {
     "name": "stdout",
     "output_type": "stream",
     "text": [
      "The_Silence_of_the_Lambs\n"
     ]
    },
    {
     "name": "stderr",
     "output_type": "stream",
     "text": [
      "\r",
      " 40%|████████████████████████████████▊                                                 | 10/25 [01:37<02:38, 10.55s/it]"
     ]
    },
    {
     "name": "stdout",
     "output_type": "stream",
     "text": [
      "Hannibal\n"
     ]
    },
    {
     "name": "stderr",
     "output_type": "stream",
     "text": [
      "\r",
      " 44%|████████████████████████████████████                                              | 11/25 [01:51<02:39, 11.40s/it]"
     ]
    },
    {
     "name": "stdout",
     "output_type": "stream",
     "text": [
      "Carrie\n"
     ]
    },
    {
     "name": "stderr",
     "output_type": "stream",
     "text": [
      "\r",
      " 48%|███████████████████████████████████████▎                                          | 12/25 [01:57<02:09,  9.95s/it]"
     ]
    },
    {
     "name": "stdout",
     "output_type": "stream",
     "text": [
      "Salems_Lot\n"
     ]
    },
    {
     "name": "stderr",
     "output_type": "stream",
     "text": [
      "\r",
      " 52%|██████████████████████████████████████████▋                                       | 13/25 [02:14<02:23, 11.99s/it]"
     ]
    },
    {
     "name": "stdout",
     "output_type": "stream",
     "text": [
      "The_Shining\n"
     ]
    },
    {
     "name": "stderr",
     "output_type": "stream",
     "text": [
      "\r",
      " 56%|█████████████████████████████████████████████▉                                    | 14/25 [02:31<02:29, 13.56s/it]"
     ]
    },
    {
     "name": "stdout",
     "output_type": "stream",
     "text": [
      "The_Stand\n"
     ]
    },
    {
     "name": "stderr",
     "output_type": "stream",
     "text": [
      "\r",
      " 60%|█████████████████████████████████████████████████▏                                | 15/25 [03:23<04:11, 25.16s/it]"
     ]
    },
    {
     "name": "stdout",
     "output_type": "stream",
     "text": [
      "Star_Quest\n"
     ]
    },
    {
     "name": "stderr",
     "output_type": "stream",
     "text": [
      "\r",
      " 64%|████████████████████████████████████████████████████▍                             | 16/25 [03:27<02:49, 18.78s/it]"
     ]
    },
    {
     "name": "stdout",
     "output_type": "stream",
     "text": [
      "Hells_Gate\n"
     ]
    },
    {
     "name": "stderr",
     "output_type": "stream",
     "text": [
      "\r",
      " 68%|███████████████████████████████████████████████████████▊                          | 17/25 [03:33<01:58, 14.85s/it]"
     ]
    },
    {
     "name": "stdout",
     "output_type": "stream",
     "text": [
      "Haunted_Earth\n"
     ]
    },
    {
     "name": "stderr",
     "output_type": "stream",
     "text": [
      "\r",
      " 72%|███████████████████████████████████████████████████████████                       | 18/25 [03:38<01:24, 12.02s/it]"
     ]
    },
    {
     "name": "stdout",
     "output_type": "stream",
     "text": [
      "The_Eyes_of_Darkness\n"
     ]
    },
    {
     "name": "stderr",
     "output_type": "stream",
     "text": [
      "\r",
      " 76%|██████████████████████████████████████████████████████████████▎                   | 19/25 [03:48<01:07, 11.27s/it]"
     ]
    },
    {
     "name": "stdout",
     "output_type": "stream",
     "text": [
      "Darkfall\n"
     ]
    },
    {
     "name": "stderr",
     "output_type": "stream",
     "text": [
      "\r",
      " 80%|█████████████████████████████████████████████████████████████████▌                | 20/25 [04:01<00:59, 11.80s/it]"
     ]
    },
    {
     "name": "stdout",
     "output_type": "stream",
     "text": [
      "Intensity\n"
     ]
    },
    {
     "name": "stderr",
     "output_type": "stream",
     "text": [
      "\r",
      " 84%|████████████████████████████████████████████████████████████████████▉             | 21/25 [04:16<00:51, 12.83s/it]"
     ]
    },
    {
     "name": "stdout",
     "output_type": "stream",
     "text": [
      "Julia\n"
     ]
    },
    {
     "name": "stderr",
     "output_type": "stream",
     "text": [
      "\r",
      " 88%|████████████████████████████████████████████████████████████████████████▏         | 22/25 [04:26<00:35, 11.92s/it]"
     ]
    },
    {
     "name": "stdout",
     "output_type": "stream",
     "text": [
      "Shadowland\n"
     ]
    },
    {
     "name": "stderr",
     "output_type": "stream",
     "text": [
      "\r",
      " 92%|███████████████████████████████████████████████████████████████████████████▍      | 23/25 [04:43<00:27, 13.63s/it]"
     ]
    },
    {
     "name": "stdout",
     "output_type": "stream",
     "text": [
      "Floating_Dragon\n"
     ]
    },
    {
     "name": "stderr",
     "output_type": "stream",
     "text": [
      "\r",
      " 96%|██████████████████████████████████████████████████████████████████████████████▋   | 24/25 [05:07<00:16, 16.59s/it]"
     ]
    },
    {
     "name": "stdout",
     "output_type": "stream",
     "text": [
      "Hellfire_Club\n"
     ]
    },
    {
     "name": "stderr",
     "output_type": "stream",
     "text": [
      "100%|██████████████████████████████████████████████████████████████████████████████████| 25/25 [05:28<00:00, 13.12s/it]\n"
     ]
    }
   ],
   "source": [
    "titles_docs = {}\n",
    "\n",
    "\n",
    "for title in tqdm(titles): \n",
    "    print(title)\n",
    "    docs = []\n",
    "    for file in os.listdir():\n",
    "        if file.endswith(\".txt\") and title == file.split('-')[2].split('.')[0]:\n",
    "            with open(file, encoding='utf8') as f:\n",
    "                contents = f.read()\n",
    "                titles_docs[title] = nlp(contents)\n"
   ]
  },
  {
   "cell_type": "markdown",
   "id": "0fd61cc2",
   "metadata": {},
   "source": [
    "# 3. Count entities in randomly-sampled 10,000-token segments"
   ]
  },
  {
   "cell_type": "code",
   "execution_count": 13,
   "id": "a461f3a6",
   "metadata": {},
   "outputs": [
    {
     "name": "stderr",
     "output_type": "stream",
     "text": [
      "100%|████████████████████████████████████████████████████████████████████████████████| 100/100 [06:35<00:00,  3.96s/it]\n",
      "100%|████████████████████████████████████████████████████████████████████████████████| 100/100 [06:13<00:00,  3.73s/it]\n",
      "100%|████████████████████████████████████████████████████████████████████████████████| 100/100 [04:25<00:00,  2.65s/it]\n",
      "100%|████████████████████████████████████████████████████████████████████████████████| 100/100 [06:25<00:00,  3.85s/it]\n",
      "100%|████████████████████████████████████████████████████████████████████████████████| 100/100 [05:52<00:00,  3.53s/it]\n",
      "100%|████████████████████████████████████████████████████████████████████████████████| 100/100 [08:30<00:00,  5.11s/it]\n",
      "100%|████████████████████████████████████████████████████████████████████████████████| 100/100 [08:40<00:00,  5.21s/it]\n",
      "100%|████████████████████████████████████████████████████████████████████████████████| 100/100 [09:05<00:00,  5.45s/it]\n",
      "100%|████████████████████████████████████████████████████████████████████████████████| 100/100 [08:51<00:00,  5.31s/it]\n",
      "100%|████████████████████████████████████████████████████████████████████████████████| 100/100 [06:37<00:00,  3.97s/it]\n",
      "100%|████████████████████████████████████████████████████████████████████████████████| 100/100 [09:29<00:00,  5.70s/it]\n",
      "100%|████████████████████████████████████████████████████████████████████████████████| 100/100 [04:31<00:00,  2.72s/it]\n",
      "100%|████████████████████████████████████████████████████████████████████████████████| 100/100 [11:44<00:00,  7.04s/it]\n",
      "100%|████████████████████████████████████████████████████████████████████████████████| 100/100 [11:25<00:00,  6.86s/it]\n",
      "100%|████████████████████████████████████████████████████████████████████████████████| 100/100 [31:08<00:00, 18.68s/it]\n",
      "100%|████████████████████████████████████████████████████████████████████████████████| 100/100 [01:46<00:00,  1.07s/it]\n",
      "100%|████████████████████████████████████████████████████████████████████████████████| 100/100 [02:13<00:00,  1.33s/it]\n",
      "100%|████████████████████████████████████████████████████████████████████████████████| 100/100 [03:07<00:00,  1.87s/it]\n",
      "100%|████████████████████████████████████████████████████████████████████████████████| 100/100 [05:07<00:00,  3.07s/it]\n",
      "100%|████████████████████████████████████████████████████████████████████████████████| 100/100 [05:36<00:00,  3.36s/it]\n",
      "100%|████████████████████████████████████████████████████████████████████████████████| 100/100 [54:51<00:00, 32.92s/it]\n",
      "100%|████████████████████████████████████████████████████████████████████████████████| 100/100 [14:46<00:00,  8.86s/it]\n",
      "100%|████████████████████████████████████████████████████████████████████████████████| 100/100 [12:26<00:00,  7.46s/it]\n",
      "100%|████████████████████████████████████████████████████████████████████████████████| 100/100 [20:04<00:00, 12.04s/it]\n",
      "100%|████████████████████████████████████████████████████████████████████████████████| 100/100 [15:35<00:00,  9.36s/it]\n"
     ]
    }
   ],
   "source": [
    "n_iterations = 100\n",
    "segment_length = 10000\n",
    "\n",
    "iteration = [i for i in range(0, n_iterations)]\n",
    "multi_index = pd.MultiIndex.from_product([titles, iteration], names=('book_title', 'iteration'))\n",
    "\n",
    "books_entity_counts = pd.DataFrame(index = multi_index, columns=['entity_count'])\n",
    "books_entity_counts.entity_count = books_entity_counts.entity_count.fillna(0)\n",
    "\n",
    "\n",
    "for title in titles: \n",
    "    for iteration in tqdm(range(0, n_iterations)):\n",
    "        entity_count = 0\n",
    "        doc = titles_docs[title]\n",
    "        random_start_ix = random.randint(0, len(doc)-segment_length-1)\n",
    "        segment_doc = doc[random_start_ix : random_start_ix+segment_length]\n",
    "        for entity in bachman_entities: \n",
    "            for ent in segment_doc.ents:\n",
    "                if entity == clean_quotes(ent.text.lower()):\n",
    "                    entity_count += 1\n",
    "        books_entity_counts.loc[title, iteration] = entity_count"
   ]
  },
  {
   "cell_type": "code",
   "execution_count": 14,
   "id": "3f9d9221",
   "metadata": {},
   "outputs": [
    {
     "data": {
      "text/html": [
       "<div>\n",
       "<style scoped>\n",
       "    .dataframe tbody tr th:only-of-type {\n",
       "        vertical-align: middle;\n",
       "    }\n",
       "\n",
       "    .dataframe tbody tr th {\n",
       "        vertical-align: top;\n",
       "    }\n",
       "\n",
       "    .dataframe thead th {\n",
       "        text-align: right;\n",
       "    }\n",
       "</style>\n",
       "<table border=\"1\" class=\"dataframe\">\n",
       "  <thead>\n",
       "    <tr style=\"text-align: right;\">\n",
       "      <th></th>\n",
       "      <th></th>\n",
       "      <th>entity_count</th>\n",
       "    </tr>\n",
       "    <tr>\n",
       "      <th>book_title</th>\n",
       "      <th>iteration</th>\n",
       "      <th></th>\n",
       "    </tr>\n",
       "  </thead>\n",
       "  <tbody>\n",
       "    <tr>\n",
       "      <th rowspan=\"5\" valign=\"top\">The_Long_Walk</th>\n",
       "      <th>0</th>\n",
       "      <td>1</td>\n",
       "    </tr>\n",
       "    <tr>\n",
       "      <th>1</th>\n",
       "      <td>0</td>\n",
       "    </tr>\n",
       "    <tr>\n",
       "      <th>2</th>\n",
       "      <td>2</td>\n",
       "    </tr>\n",
       "    <tr>\n",
       "      <th>3</th>\n",
       "      <td>2</td>\n",
       "    </tr>\n",
       "    <tr>\n",
       "      <th>4</th>\n",
       "      <td>1</td>\n",
       "    </tr>\n",
       "    <tr>\n",
       "      <th>...</th>\n",
       "      <th>...</th>\n",
       "      <td>...</td>\n",
       "    </tr>\n",
       "    <tr>\n",
       "      <th rowspan=\"5\" valign=\"top\">Hellfire_Club</th>\n",
       "      <th>95</th>\n",
       "      <td>0</td>\n",
       "    </tr>\n",
       "    <tr>\n",
       "      <th>96</th>\n",
       "      <td>3</td>\n",
       "    </tr>\n",
       "    <tr>\n",
       "      <th>97</th>\n",
       "      <td>0</td>\n",
       "    </tr>\n",
       "    <tr>\n",
       "      <th>98</th>\n",
       "      <td>1</td>\n",
       "    </tr>\n",
       "    <tr>\n",
       "      <th>99</th>\n",
       "      <td>1</td>\n",
       "    </tr>\n",
       "  </tbody>\n",
       "</table>\n",
       "<p>2500 rows × 1 columns</p>\n",
       "</div>"
      ],
      "text/plain": [
       "                         entity_count\n",
       "book_title    iteration              \n",
       "The_Long_Walk 0                     1\n",
       "              1                     0\n",
       "              2                     2\n",
       "              3                     2\n",
       "              4                     1\n",
       "...                               ...\n",
       "Hellfire_Club 95                    0\n",
       "              96                    3\n",
       "              97                    0\n",
       "              98                    1\n",
       "              99                    1\n",
       "\n",
       "[2500 rows x 1 columns]"
      ]
     },
     "execution_count": 14,
     "metadata": {},
     "output_type": "execute_result"
    }
   ],
   "source": [
    "books_entity_counts"
   ]
  },
  {
   "cell_type": "code",
   "execution_count": 16,
   "id": "22b57ef8",
   "metadata": {},
   "outputs": [],
   "source": [
    "titles_authors = pd.DataFrame({\"title\": titles,\n",
    "                              \"author\": authors })\n",
    "entity_counts_books_authors = pd.merge(books_entity_counts.reset_index(), \n",
    "                                       titles_authors.reset_index(), \n",
    "                                       left_on='book_title', \n",
    "                                       right_on='title', \n",
    "                                       how='left' )[['author', 'book_title', 'iteration', 'entity_count']]\n"
   ]
  },
  {
   "cell_type": "code",
   "execution_count": 18,
   "id": "54255a3f",
   "metadata": {},
   "outputs": [
    {
     "data": {
      "text/html": [
       "<div>\n",
       "<style scoped>\n",
       "    .dataframe tbody tr th:only-of-type {\n",
       "        vertical-align: middle;\n",
       "    }\n",
       "\n",
       "    .dataframe tbody tr th {\n",
       "        vertical-align: top;\n",
       "    }\n",
       "\n",
       "    .dataframe thead th {\n",
       "        text-align: right;\n",
       "    }\n",
       "</style>\n",
       "<table border=\"1\" class=\"dataframe\">\n",
       "  <thead>\n",
       "    <tr style=\"text-align: right;\">\n",
       "      <th></th>\n",
       "      <th>author</th>\n",
       "      <th>book_title</th>\n",
       "      <th>iteration</th>\n",
       "      <th>entity_count</th>\n",
       "    </tr>\n",
       "  </thead>\n",
       "  <tbody>\n",
       "    <tr>\n",
       "      <th>0</th>\n",
       "      <td>bachman</td>\n",
       "      <td>The_Long_Walk</td>\n",
       "      <td>0</td>\n",
       "      <td>1</td>\n",
       "    </tr>\n",
       "    <tr>\n",
       "      <th>1</th>\n",
       "      <td>bachman</td>\n",
       "      <td>The_Long_Walk</td>\n",
       "      <td>1</td>\n",
       "      <td>0</td>\n",
       "    </tr>\n",
       "    <tr>\n",
       "      <th>2</th>\n",
       "      <td>bachman</td>\n",
       "      <td>The_Long_Walk</td>\n",
       "      <td>2</td>\n",
       "      <td>2</td>\n",
       "    </tr>\n",
       "    <tr>\n",
       "      <th>3</th>\n",
       "      <td>bachman</td>\n",
       "      <td>The_Long_Walk</td>\n",
       "      <td>3</td>\n",
       "      <td>2</td>\n",
       "    </tr>\n",
       "    <tr>\n",
       "      <th>4</th>\n",
       "      <td>bachman</td>\n",
       "      <td>The_Long_Walk</td>\n",
       "      <td>4</td>\n",
       "      <td>1</td>\n",
       "    </tr>\n",
       "    <tr>\n",
       "      <th>...</th>\n",
       "      <td>...</td>\n",
       "      <td>...</td>\n",
       "      <td>...</td>\n",
       "      <td>...</td>\n",
       "    </tr>\n",
       "    <tr>\n",
       "      <th>2495</th>\n",
       "      <td>straub</td>\n",
       "      <td>Hellfire_Club</td>\n",
       "      <td>95</td>\n",
       "      <td>0</td>\n",
       "    </tr>\n",
       "    <tr>\n",
       "      <th>2496</th>\n",
       "      <td>straub</td>\n",
       "      <td>Hellfire_Club</td>\n",
       "      <td>96</td>\n",
       "      <td>3</td>\n",
       "    </tr>\n",
       "    <tr>\n",
       "      <th>2497</th>\n",
       "      <td>straub</td>\n",
       "      <td>Hellfire_Club</td>\n",
       "      <td>97</td>\n",
       "      <td>0</td>\n",
       "    </tr>\n",
       "    <tr>\n",
       "      <th>2498</th>\n",
       "      <td>straub</td>\n",
       "      <td>Hellfire_Club</td>\n",
       "      <td>98</td>\n",
       "      <td>1</td>\n",
       "    </tr>\n",
       "    <tr>\n",
       "      <th>2499</th>\n",
       "      <td>straub</td>\n",
       "      <td>Hellfire_Club</td>\n",
       "      <td>99</td>\n",
       "      <td>1</td>\n",
       "    </tr>\n",
       "  </tbody>\n",
       "</table>\n",
       "<p>2500 rows × 4 columns</p>\n",
       "</div>"
      ],
      "text/plain": [
       "       author     book_title  iteration  entity_count\n",
       "0     bachman  The_Long_Walk          0             1\n",
       "1     bachman  The_Long_Walk          1             0\n",
       "2     bachman  The_Long_Walk          2             2\n",
       "3     bachman  The_Long_Walk          3             2\n",
       "4     bachman  The_Long_Walk          4             1\n",
       "...       ...            ...        ...           ...\n",
       "2495   straub  Hellfire_Club         95             0\n",
       "2496   straub  Hellfire_Club         96             3\n",
       "2497   straub  Hellfire_Club         97             0\n",
       "2498   straub  Hellfire_Club         98             1\n",
       "2499   straub  Hellfire_Club         99             1\n",
       "\n",
       "[2500 rows x 4 columns]"
      ]
     },
     "execution_count": 18,
     "metadata": {},
     "output_type": "execute_result"
    }
   ],
   "source": [
    "entity_counts_books_authors.to_csv(\"entity_counts_books_authors.csv\")\n",
    "entity_counts_books_authors"
   ]
  },
  {
   "cell_type": "markdown",
   "id": "2d902d3d",
   "metadata": {},
   "source": [
    "# 4. Descriptive statistics of entity counts"
   ]
  },
  {
   "cell_type": "code",
   "execution_count": 13,
   "id": "2d916e26",
   "metadata": {},
   "outputs": [],
   "source": [
    "df = pd.read_csv(\"entity_counts_books_authors.csv\")\n",
    "grouped = df.groupby([\"author\", \"book_title\"])['entity_count'].agg([np.mean, np.median, np.min, np.max, np.std])\n",
    "grouped.to_csv(\"descriptive_stats_entity_counts.csv\")"
   ]
  },
  {
   "cell_type": "code",
   "execution_count": 14,
   "id": "285fbc64",
   "metadata": {},
   "outputs": [
    {
     "data": {
      "text/html": [
       "<div>\n",
       "<style scoped>\n",
       "    .dataframe tbody tr th:only-of-type {\n",
       "        vertical-align: middle;\n",
       "    }\n",
       "\n",
       "    .dataframe tbody tr th {\n",
       "        vertical-align: top;\n",
       "    }\n",
       "\n",
       "    .dataframe thead th {\n",
       "        text-align: right;\n",
       "    }\n",
       "</style>\n",
       "<table border=\"1\" class=\"dataframe\">\n",
       "  <thead>\n",
       "    <tr style=\"text-align: right;\">\n",
       "      <th></th>\n",
       "      <th>Unnamed: 0</th>\n",
       "      <th>author</th>\n",
       "      <th>book_title</th>\n",
       "      <th>iteration</th>\n",
       "      <th>entity_count</th>\n",
       "    </tr>\n",
       "  </thead>\n",
       "  <tbody>\n",
       "    <tr>\n",
       "      <th>0</th>\n",
       "      <td>0</td>\n",
       "      <td>Bachman</td>\n",
       "      <td>The Long Walk</td>\n",
       "      <td>0</td>\n",
       "      <td>1</td>\n",
       "    </tr>\n",
       "    <tr>\n",
       "      <th>1</th>\n",
       "      <td>1</td>\n",
       "      <td>Bachman</td>\n",
       "      <td>The Long Walk</td>\n",
       "      <td>1</td>\n",
       "      <td>0</td>\n",
       "    </tr>\n",
       "    <tr>\n",
       "      <th>2</th>\n",
       "      <td>2</td>\n",
       "      <td>Bachman</td>\n",
       "      <td>The Long Walk</td>\n",
       "      <td>2</td>\n",
       "      <td>2</td>\n",
       "    </tr>\n",
       "    <tr>\n",
       "      <th>3</th>\n",
       "      <td>3</td>\n",
       "      <td>Bachman</td>\n",
       "      <td>The Long Walk</td>\n",
       "      <td>3</td>\n",
       "      <td>2</td>\n",
       "    </tr>\n",
       "    <tr>\n",
       "      <th>4</th>\n",
       "      <td>4</td>\n",
       "      <td>Bachman</td>\n",
       "      <td>The Long Walk</td>\n",
       "      <td>4</td>\n",
       "      <td>1</td>\n",
       "    </tr>\n",
       "    <tr>\n",
       "      <th>...</th>\n",
       "      <td>...</td>\n",
       "      <td>...</td>\n",
       "      <td>...</td>\n",
       "      <td>...</td>\n",
       "      <td>...</td>\n",
       "    </tr>\n",
       "    <tr>\n",
       "      <th>2495</th>\n",
       "      <td>2495</td>\n",
       "      <td>Straub</td>\n",
       "      <td>Hellfire Club</td>\n",
       "      <td>95</td>\n",
       "      <td>0</td>\n",
       "    </tr>\n",
       "    <tr>\n",
       "      <th>2496</th>\n",
       "      <td>2496</td>\n",
       "      <td>Straub</td>\n",
       "      <td>Hellfire Club</td>\n",
       "      <td>96</td>\n",
       "      <td>3</td>\n",
       "    </tr>\n",
       "    <tr>\n",
       "      <th>2497</th>\n",
       "      <td>2497</td>\n",
       "      <td>Straub</td>\n",
       "      <td>Hellfire Club</td>\n",
       "      <td>97</td>\n",
       "      <td>0</td>\n",
       "    </tr>\n",
       "    <tr>\n",
       "      <th>2498</th>\n",
       "      <td>2498</td>\n",
       "      <td>Straub</td>\n",
       "      <td>Hellfire Club</td>\n",
       "      <td>98</td>\n",
       "      <td>1</td>\n",
       "    </tr>\n",
       "    <tr>\n",
       "      <th>2499</th>\n",
       "      <td>2499</td>\n",
       "      <td>Straub</td>\n",
       "      <td>Hellfire Club</td>\n",
       "      <td>99</td>\n",
       "      <td>1</td>\n",
       "    </tr>\n",
       "  </tbody>\n",
       "</table>\n",
       "<p>2500 rows × 5 columns</p>\n",
       "</div>"
      ],
      "text/plain": [
       "      Unnamed: 0   author     book_title  iteration  entity_count\n",
       "0              0  Bachman  The Long Walk          0             1\n",
       "1              1  Bachman  The Long Walk          1             0\n",
       "2              2  Bachman  The Long Walk          2             2\n",
       "3              3  Bachman  The Long Walk          3             2\n",
       "4              4  Bachman  The Long Walk          4             1\n",
       "...          ...      ...            ...        ...           ...\n",
       "2495        2495   Straub  Hellfire Club         95             0\n",
       "2496        2496   Straub  Hellfire Club         96             3\n",
       "2497        2497   Straub  Hellfire Club         97             0\n",
       "2498        2498   Straub  Hellfire Club         98             1\n",
       "2499        2499   Straub  Hellfire Club         99             1\n",
       "\n",
       "[2500 rows x 5 columns]"
      ]
     },
     "execution_count": 14,
     "metadata": {},
     "output_type": "execute_result"
    }
   ],
   "source": [
    "df.book_title=df.book_title.str.replace(\"_\", \" \");\n",
    "df.author=df.author.str.capitalize()\n",
    "df"
   ]
  },
  {
   "cell_type": "code",
   "execution_count": 15,
   "id": "d02e6300",
   "metadata": {},
   "outputs": [
    {
     "data": {
      "image/png": "[encoded data removed]",
      "text/plain": [
       "<Figure size 1080x720 with 1 Axes>"
      ]
     },
     "metadata": {
      "needs_background": "light"
     },
     "output_type": "display_data"
    }
   ],
   "source": [
    "df.boxplot(column='entity_count', by=[\"author\", \"book_title\"], rot=90, figsize=(15,10))\n",
    "plt.xlabel(\"Book Title\")\n",
    "plt.ylabel(\"Pop Culture Reference Count\")\n",
    "plt.title(\"Pop Culture References Counts by Book\")\n",
    "plt.show()"
   ]
  }
 ],
 "metadata": {
  "kernelspec": {
   "display_name": "Python 3 (ipykernel)",
   "language": "python",
   "name": "python3"
  },
  "language_info": {
   "codemirror_mode": {
    "name": "ipython",
    "version": 3
   },
   "file_extension": ".py",
   "mimetype": "text/x-python",
   "name": "python",
   "nbconvert_exporter": "python",
   "pygments_lexer": "ipython3",
   "version": "3.9.12"
  }
 },
 "nbformat": 4,
 "nbformat_minor": 5
}
