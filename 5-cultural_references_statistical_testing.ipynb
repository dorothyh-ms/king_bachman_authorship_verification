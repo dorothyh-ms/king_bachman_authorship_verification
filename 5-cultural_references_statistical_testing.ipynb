{
 "cells": [
  {
   "cell_type": "code",
   "execution_count": 3,
   "id": "6b52a6d7",
   "metadata": {},
   "outputs": [
    {
     "data": {
      "text/html": [
       "<table>\n",
       "<thead><tr><th scope=col>X</th><th scope=col>author</th><th scope=col>book_title</th><th scope=col>iteration</th><th scope=col>entity_count</th></tr></thead>\n",
       "<tbody>\n",
       "\t<tr><td> 0           </td><td>bachman      </td><td>The_Long_Walk</td><td> 0           </td><td>1            </td></tr>\n",
       "\t<tr><td> 1           </td><td>bachman      </td><td>The_Long_Walk</td><td> 1           </td><td>0            </td></tr>\n",
       "\t<tr><td> 2           </td><td>bachman      </td><td>The_Long_Walk</td><td> 2           </td><td>2            </td></tr>\n",
       "\t<tr><td> 3           </td><td>bachman      </td><td>The_Long_Walk</td><td> 3           </td><td>2            </td></tr>\n",
       "\t<tr><td> 4           </td><td>bachman      </td><td>The_Long_Walk</td><td> 4           </td><td>1            </td></tr>\n",
       "\t<tr><td> 5           </td><td>bachman      </td><td>The_Long_Walk</td><td> 5           </td><td>3            </td></tr>\n",
       "\t<tr><td> 6           </td><td>bachman      </td><td>The_Long_Walk</td><td> 6           </td><td>3            </td></tr>\n",
       "\t<tr><td> 7           </td><td>bachman      </td><td>The_Long_Walk</td><td> 7           </td><td>1            </td></tr>\n",
       "\t<tr><td> 8           </td><td>bachman      </td><td>The_Long_Walk</td><td> 8           </td><td>1            </td></tr>\n",
       "\t<tr><td> 9           </td><td>bachman      </td><td>The_Long_Walk</td><td> 9           </td><td>3            </td></tr>\n",
       "\t<tr><td>10           </td><td>bachman      </td><td>The_Long_Walk</td><td>10           </td><td>1            </td></tr>\n",
       "\t<tr><td>11           </td><td>bachman      </td><td>The_Long_Walk</td><td>11           </td><td>1            </td></tr>\n",
       "\t<tr><td>12           </td><td>bachman      </td><td>The_Long_Walk</td><td>12           </td><td>3            </td></tr>\n",
       "\t<tr><td>13           </td><td>bachman      </td><td>The_Long_Walk</td><td>13           </td><td>4            </td></tr>\n",
       "\t<tr><td>14           </td><td>bachman      </td><td>The_Long_Walk</td><td>14           </td><td>1            </td></tr>\n",
       "\t<tr><td>15           </td><td>bachman      </td><td>The_Long_Walk</td><td>15           </td><td>2            </td></tr>\n",
       "\t<tr><td>16           </td><td>bachman      </td><td>The_Long_Walk</td><td>16           </td><td>3            </td></tr>\n",
       "\t<tr><td>17           </td><td>bachman      </td><td>The_Long_Walk</td><td>17           </td><td>1            </td></tr>\n",
       "\t<tr><td>18           </td><td>bachman      </td><td>The_Long_Walk</td><td>18           </td><td>1            </td></tr>\n",
       "\t<tr><td>19           </td><td>bachman      </td><td>The_Long_Walk</td><td>19           </td><td>3            </td></tr>\n",
       "\t<tr><td>20           </td><td>bachman      </td><td>The_Long_Walk</td><td>20           </td><td>2            </td></tr>\n",
       "\t<tr><td>21           </td><td>bachman      </td><td>The_Long_Walk</td><td>21           </td><td>2            </td></tr>\n",
       "\t<tr><td>22           </td><td>bachman      </td><td>The_Long_Walk</td><td>22           </td><td>3            </td></tr>\n",
       "\t<tr><td>23           </td><td>bachman      </td><td>The_Long_Walk</td><td>23           </td><td>3            </td></tr>\n",
       "\t<tr><td>24           </td><td>bachman      </td><td>The_Long_Walk</td><td>24           </td><td>2            </td></tr>\n",
       "\t<tr><td>25           </td><td>bachman      </td><td>The_Long_Walk</td><td>25           </td><td>1            </td></tr>\n",
       "\t<tr><td>26           </td><td>bachman      </td><td>The_Long_Walk</td><td>26           </td><td>0            </td></tr>\n",
       "\t<tr><td>27           </td><td>bachman      </td><td>The_Long_Walk</td><td>27           </td><td>1            </td></tr>\n",
       "\t<tr><td>28           </td><td>bachman      </td><td>The_Long_Walk</td><td>28           </td><td>2            </td></tr>\n",
       "\t<tr><td>29           </td><td>bachman      </td><td>The_Long_Walk</td><td>29           </td><td>2            </td></tr>\n",
       "\t<tr><td>...</td><td>...</td><td>...</td><td>...</td><td>...</td></tr>\n",
       "\t<tr><td>2470         </td><td>straub       </td><td>Hellfire_Club</td><td>70           </td><td>2            </td></tr>\n",
       "\t<tr><td>2471         </td><td>straub       </td><td>Hellfire_Club</td><td>71           </td><td>0            </td></tr>\n",
       "\t<tr><td>2472         </td><td>straub       </td><td>Hellfire_Club</td><td>72           </td><td>1            </td></tr>\n",
       "\t<tr><td>2473         </td><td>straub       </td><td>Hellfire_Club</td><td>73           </td><td>0            </td></tr>\n",
       "\t<tr><td>2474         </td><td>straub       </td><td>Hellfire_Club</td><td>74           </td><td>1            </td></tr>\n",
       "\t<tr><td>2475         </td><td>straub       </td><td>Hellfire_Club</td><td>75           </td><td>0            </td></tr>\n",
       "\t<tr><td>2476         </td><td>straub       </td><td>Hellfire_Club</td><td>76           </td><td>2            </td></tr>\n",
       "\t<tr><td>2477         </td><td>straub       </td><td>Hellfire_Club</td><td>77           </td><td>2            </td></tr>\n",
       "\t<tr><td>2478         </td><td>straub       </td><td>Hellfire_Club</td><td>78           </td><td>1            </td></tr>\n",
       "\t<tr><td>2479         </td><td>straub       </td><td>Hellfire_Club</td><td>79           </td><td>1            </td></tr>\n",
       "\t<tr><td>2480         </td><td>straub       </td><td>Hellfire_Club</td><td>80           </td><td>1            </td></tr>\n",
       "\t<tr><td>2481         </td><td>straub       </td><td>Hellfire_Club</td><td>81           </td><td>1            </td></tr>\n",
       "\t<tr><td>2482         </td><td>straub       </td><td>Hellfire_Club</td><td>82           </td><td>0            </td></tr>\n",
       "\t<tr><td>2483         </td><td>straub       </td><td>Hellfire_Club</td><td>83           </td><td>4            </td></tr>\n",
       "\t<tr><td>2484         </td><td>straub       </td><td>Hellfire_Club</td><td>84           </td><td>0            </td></tr>\n",
       "\t<tr><td>2485         </td><td>straub       </td><td>Hellfire_Club</td><td>85           </td><td>1            </td></tr>\n",
       "\t<tr><td>2486         </td><td>straub       </td><td>Hellfire_Club</td><td>86           </td><td>2            </td></tr>\n",
       "\t<tr><td>2487         </td><td>straub       </td><td>Hellfire_Club</td><td>87           </td><td>1            </td></tr>\n",
       "\t<tr><td>2488         </td><td>straub       </td><td>Hellfire_Club</td><td>88           </td><td>6            </td></tr>\n",
       "\t<tr><td>2489         </td><td>straub       </td><td>Hellfire_Club</td><td>89           </td><td>2            </td></tr>\n",
       "\t<tr><td>2490         </td><td>straub       </td><td>Hellfire_Club</td><td>90           </td><td>0            </td></tr>\n",
       "\t<tr><td>2491         </td><td>straub       </td><td>Hellfire_Club</td><td>91           </td><td>2            </td></tr>\n",
       "\t<tr><td>2492         </td><td>straub       </td><td>Hellfire_Club</td><td>92           </td><td>2            </td></tr>\n",
       "\t<tr><td>2493         </td><td>straub       </td><td>Hellfire_Club</td><td>93           </td><td>0            </td></tr>\n",
       "\t<tr><td>2494         </td><td>straub       </td><td>Hellfire_Club</td><td>94           </td><td>1            </td></tr>\n",
       "\t<tr><td>2495         </td><td>straub       </td><td>Hellfire_Club</td><td>95           </td><td>0            </td></tr>\n",
       "\t<tr><td>2496         </td><td>straub       </td><td>Hellfire_Club</td><td>96           </td><td>3            </td></tr>\n",
       "\t<tr><td>2497         </td><td>straub       </td><td>Hellfire_Club</td><td>97           </td><td>0            </td></tr>\n",
       "\t<tr><td>2498         </td><td>straub       </td><td>Hellfire_Club</td><td>98           </td><td>1            </td></tr>\n",
       "\t<tr><td>2499         </td><td>straub       </td><td>Hellfire_Club</td><td>99           </td><td>1            </td></tr>\n",
       "</tbody>\n",
       "</table>\n"
      ],
      "text/latex": [
       "\\begin{tabular}{r|lllll}\n",
       " X & author & book\\_title & iteration & entity\\_count\\\\\n",
       "\\hline\n",
       "\t  0                & bachman           & The\\_Long\\_Walk &  0                & 1                \\\\\n",
       "\t  1                & bachman           & The\\_Long\\_Walk &  1                & 0                \\\\\n",
       "\t  2                & bachman           & The\\_Long\\_Walk &  2                & 2                \\\\\n",
       "\t  3                & bachman           & The\\_Long\\_Walk &  3                & 2                \\\\\n",
       "\t  4                & bachman           & The\\_Long\\_Walk &  4                & 1                \\\\\n",
       "\t  5                & bachman           & The\\_Long\\_Walk &  5                & 3                \\\\\n",
       "\t  6                & bachman           & The\\_Long\\_Walk &  6                & 3                \\\\\n",
       "\t  7                & bachman           & The\\_Long\\_Walk &  7                & 1                \\\\\n",
       "\t  8                & bachman           & The\\_Long\\_Walk &  8                & 1                \\\\\n",
       "\t  9                & bachman           & The\\_Long\\_Walk &  9                & 3                \\\\\n",
       "\t 10                & bachman           & The\\_Long\\_Walk & 10                & 1                \\\\\n",
       "\t 11                & bachman           & The\\_Long\\_Walk & 11                & 1                \\\\\n",
       "\t 12                & bachman           & The\\_Long\\_Walk & 12                & 3                \\\\\n",
       "\t 13                & bachman           & The\\_Long\\_Walk & 13                & 4                \\\\\n",
       "\t 14                & bachman           & The\\_Long\\_Walk & 14                & 1                \\\\\n",
       "\t 15                & bachman           & The\\_Long\\_Walk & 15                & 2                \\\\\n",
       "\t 16                & bachman           & The\\_Long\\_Walk & 16                & 3                \\\\\n",
       "\t 17                & bachman           & The\\_Long\\_Walk & 17                & 1                \\\\\n",
       "\t 18                & bachman           & The\\_Long\\_Walk & 18                & 1                \\\\\n",
       "\t 19                & bachman           & The\\_Long\\_Walk & 19                & 3                \\\\\n",
       "\t 20                & bachman           & The\\_Long\\_Walk & 20                & 2                \\\\\n",
       "\t 21                & bachman           & The\\_Long\\_Walk & 21                & 2                \\\\\n",
       "\t 22                & bachman           & The\\_Long\\_Walk & 22                & 3                \\\\\n",
       "\t 23                & bachman           & The\\_Long\\_Walk & 23                & 3                \\\\\n",
       "\t 24                & bachman           & The\\_Long\\_Walk & 24                & 2                \\\\\n",
       "\t 25                & bachman           & The\\_Long\\_Walk & 25                & 1                \\\\\n",
       "\t 26                & bachman           & The\\_Long\\_Walk & 26                & 0                \\\\\n",
       "\t 27                & bachman           & The\\_Long\\_Walk & 27                & 1                \\\\\n",
       "\t 28                & bachman           & The\\_Long\\_Walk & 28                & 2                \\\\\n",
       "\t 29                & bachman           & The\\_Long\\_Walk & 29                & 2                \\\\\n",
       "\t ... & ... & ... & ... & ...\\\\\n",
       "\t 2470            & straub          & Hellfire\\_Club & 70              & 2              \\\\\n",
       "\t 2471            & straub          & Hellfire\\_Club & 71              & 0              \\\\\n",
       "\t 2472            & straub          & Hellfire\\_Club & 72              & 1              \\\\\n",
       "\t 2473            & straub          & Hellfire\\_Club & 73              & 0              \\\\\n",
       "\t 2474            & straub          & Hellfire\\_Club & 74              & 1              \\\\\n",
       "\t 2475            & straub          & Hellfire\\_Club & 75              & 0              \\\\\n",
       "\t 2476            & straub          & Hellfire\\_Club & 76              & 2              \\\\\n",
       "\t 2477            & straub          & Hellfire\\_Club & 77              & 2              \\\\\n",
       "\t 2478            & straub          & Hellfire\\_Club & 78              & 1              \\\\\n",
       "\t 2479            & straub          & Hellfire\\_Club & 79              & 1              \\\\\n",
       "\t 2480            & straub          & Hellfire\\_Club & 80              & 1              \\\\\n",
       "\t 2481            & straub          & Hellfire\\_Club & 81              & 1              \\\\\n",
       "\t 2482            & straub          & Hellfire\\_Club & 82              & 0              \\\\\n",
       "\t 2483            & straub          & Hellfire\\_Club & 83              & 4              \\\\\n",
       "\t 2484            & straub          & Hellfire\\_Club & 84              & 0              \\\\\n",
       "\t 2485            & straub          & Hellfire\\_Club & 85              & 1              \\\\\n",
       "\t 2486            & straub          & Hellfire\\_Club & 86              & 2              \\\\\n",
       "\t 2487            & straub          & Hellfire\\_Club & 87              & 1              \\\\\n",
       "\t 2488            & straub          & Hellfire\\_Club & 88              & 6              \\\\\n",
       "\t 2489            & straub          & Hellfire\\_Club & 89              & 2              \\\\\n",
       "\t 2490            & straub          & Hellfire\\_Club & 90              & 0              \\\\\n",
       "\t 2491            & straub          & Hellfire\\_Club & 91              & 2              \\\\\n",
       "\t 2492            & straub          & Hellfire\\_Club & 92              & 2              \\\\\n",
       "\t 2493            & straub          & Hellfire\\_Club & 93              & 0              \\\\\n",
       "\t 2494            & straub          & Hellfire\\_Club & 94              & 1              \\\\\n",
       "\t 2495            & straub          & Hellfire\\_Club & 95              & 0              \\\\\n",
       "\t 2496            & straub          & Hellfire\\_Club & 96              & 3              \\\\\n",
       "\t 2497            & straub          & Hellfire\\_Club & 97              & 0              \\\\\n",
       "\t 2498            & straub          & Hellfire\\_Club & 98              & 1              \\\\\n",
       "\t 2499            & straub          & Hellfire\\_Club & 99              & 1              \\\\\n",
       "\\end{tabular}\n"
      ],
      "text/markdown": [
       "\n",
       "| X | author | book_title | iteration | entity_count |\n",
       "|---|---|---|---|---|\n",
       "|  0            | bachman       | The_Long_Walk |  0            | 1             |\n",
       "|  1            | bachman       | The_Long_Walk |  1            | 0             |\n",
       "|  2            | bachman       | The_Long_Walk |  2            | 2             |\n",
       "|  3            | bachman       | The_Long_Walk |  3            | 2             |\n",
       "|  4            | bachman       | The_Long_Walk |  4            | 1             |\n",
       "|  5            | bachman       | The_Long_Walk |  5            | 3             |\n",
       "|  6            | bachman       | The_Long_Walk |  6            | 3             |\n",
       "|  7            | bachman       | The_Long_Walk |  7            | 1             |\n",
       "|  8            | bachman       | The_Long_Walk |  8            | 1             |\n",
       "|  9            | bachman       | The_Long_Walk |  9            | 3             |\n",
       "| 10            | bachman       | The_Long_Walk | 10            | 1             |\n",
       "| 11            | bachman       | The_Long_Walk | 11            | 1             |\n",
       "| 12            | bachman       | The_Long_Walk | 12            | 3             |\n",
       "| 13            | bachman       | The_Long_Walk | 13            | 4             |\n",
       "| 14            | bachman       | The_Long_Walk | 14            | 1             |\n",
       "| 15            | bachman       | The_Long_Walk | 15            | 2             |\n",
       "| 16            | bachman       | The_Long_Walk | 16            | 3             |\n",
       "| 17            | bachman       | The_Long_Walk | 17            | 1             |\n",
       "| 18            | bachman       | The_Long_Walk | 18            | 1             |\n",
       "| 19            | bachman       | The_Long_Walk | 19            | 3             |\n",
       "| 20            | bachman       | The_Long_Walk | 20            | 2             |\n",
       "| 21            | bachman       | The_Long_Walk | 21            | 2             |\n",
       "| 22            | bachman       | The_Long_Walk | 22            | 3             |\n",
       "| 23            | bachman       | The_Long_Walk | 23            | 3             |\n",
       "| 24            | bachman       | The_Long_Walk | 24            | 2             |\n",
       "| 25            | bachman       | The_Long_Walk | 25            | 1             |\n",
       "| 26            | bachman       | The_Long_Walk | 26            | 0             |\n",
       "| 27            | bachman       | The_Long_Walk | 27            | 1             |\n",
       "| 28            | bachman       | The_Long_Walk | 28            | 2             |\n",
       "| 29            | bachman       | The_Long_Walk | 29            | 2             |\n",
       "| ... | ... | ... | ... | ... |\n",
       "| 2470          | straub        | Hellfire_Club | 70            | 2             |\n",
       "| 2471          | straub        | Hellfire_Club | 71            | 0             |\n",
       "| 2472          | straub        | Hellfire_Club | 72            | 1             |\n",
       "| 2473          | straub        | Hellfire_Club | 73            | 0             |\n",
       "| 2474          | straub        | Hellfire_Club | 74            | 1             |\n",
       "| 2475          | straub        | Hellfire_Club | 75            | 0             |\n",
       "| 2476          | straub        | Hellfire_Club | 76            | 2             |\n",
       "| 2477          | straub        | Hellfire_Club | 77            | 2             |\n",
       "| 2478          | straub        | Hellfire_Club | 78            | 1             |\n",
       "| 2479          | straub        | Hellfire_Club | 79            | 1             |\n",
       "| 2480          | straub        | Hellfire_Club | 80            | 1             |\n",
       "| 2481          | straub        | Hellfire_Club | 81            | 1             |\n",
       "| 2482          | straub        | Hellfire_Club | 82            | 0             |\n",
       "| 2483          | straub        | Hellfire_Club | 83            | 4             |\n",
       "| 2484          | straub        | Hellfire_Club | 84            | 0             |\n",
       "| 2485          | straub        | Hellfire_Club | 85            | 1             |\n",
       "| 2486          | straub        | Hellfire_Club | 86            | 2             |\n",
       "| 2487          | straub        | Hellfire_Club | 87            | 1             |\n",
       "| 2488          | straub        | Hellfire_Club | 88            | 6             |\n",
       "| 2489          | straub        | Hellfire_Club | 89            | 2             |\n",
       "| 2490          | straub        | Hellfire_Club | 90            | 0             |\n",
       "| 2491          | straub        | Hellfire_Club | 91            | 2             |\n",
       "| 2492          | straub        | Hellfire_Club | 92            | 2             |\n",
       "| 2493          | straub        | Hellfire_Club | 93            | 0             |\n",
       "| 2494          | straub        | Hellfire_Club | 94            | 1             |\n",
       "| 2495          | straub        | Hellfire_Club | 95            | 0             |\n",
       "| 2496          | straub        | Hellfire_Club | 96            | 3             |\n",
       "| 2497          | straub        | Hellfire_Club | 97            | 0             |\n",
       "| 2498          | straub        | Hellfire_Club | 98            | 1             |\n",
       "| 2499          | straub        | Hellfire_Club | 99            | 1             |\n",
       "\n"
      ],
      "text/plain": [
       "     X    author  book_title    iteration entity_count\n",
       "1     0   bachman The_Long_Walk  0        1           \n",
       "2     1   bachman The_Long_Walk  1        0           \n",
       "3     2   bachman The_Long_Walk  2        2           \n",
       "4     3   bachman The_Long_Walk  3        2           \n",
       "5     4   bachman The_Long_Walk  4        1           \n",
       "6     5   bachman The_Long_Walk  5        3           \n",
       "7     6   bachman The_Long_Walk  6        3           \n",
       "8     7   bachman The_Long_Walk  7        1           \n",
       "9     8   bachman The_Long_Walk  8        1           \n",
       "10    9   bachman The_Long_Walk  9        3           \n",
       "11   10   bachman The_Long_Walk 10        1           \n",
       "12   11   bachman The_Long_Walk 11        1           \n",
       "13   12   bachman The_Long_Walk 12        3           \n",
       "14   13   bachman The_Long_Walk 13        4           \n",
       "15   14   bachman The_Long_Walk 14        1           \n",
       "16   15   bachman The_Long_Walk 15        2           \n",
       "17   16   bachman The_Long_Walk 16        3           \n",
       "18   17   bachman The_Long_Walk 17        1           \n",
       "19   18   bachman The_Long_Walk 18        1           \n",
       "20   19   bachman The_Long_Walk 19        3           \n",
       "21   20   bachman The_Long_Walk 20        2           \n",
       "22   21   bachman The_Long_Walk 21        2           \n",
       "23   22   bachman The_Long_Walk 22        3           \n",
       "24   23   bachman The_Long_Walk 23        3           \n",
       "25   24   bachman The_Long_Walk 24        2           \n",
       "26   25   bachman The_Long_Walk 25        1           \n",
       "27   26   bachman The_Long_Walk 26        0           \n",
       "28   27   bachman The_Long_Walk 27        1           \n",
       "29   28   bachman The_Long_Walk 28        2           \n",
       "30   29   bachman The_Long_Walk 29        2           \n",
       "...  ...  ...     ...           ...       ...         \n",
       "2471 2470 straub  Hellfire_Club 70        2           \n",
       "2472 2471 straub  Hellfire_Club 71        0           \n",
       "2473 2472 straub  Hellfire_Club 72        1           \n",
       "2474 2473 straub  Hellfire_Club 73        0           \n",
       "2475 2474 straub  Hellfire_Club 74        1           \n",
       "2476 2475 straub  Hellfire_Club 75        0           \n",
       "2477 2476 straub  Hellfire_Club 76        2           \n",
       "2478 2477 straub  Hellfire_Club 77        2           \n",
       "2479 2478 straub  Hellfire_Club 78        1           \n",
       "2480 2479 straub  Hellfire_Club 79        1           \n",
       "2481 2480 straub  Hellfire_Club 80        1           \n",
       "2482 2481 straub  Hellfire_Club 81        1           \n",
       "2483 2482 straub  Hellfire_Club 82        0           \n",
       "2484 2483 straub  Hellfire_Club 83        4           \n",
       "2485 2484 straub  Hellfire_Club 84        0           \n",
       "2486 2485 straub  Hellfire_Club 85        1           \n",
       "2487 2486 straub  Hellfire_Club 86        2           \n",
       "2488 2487 straub  Hellfire_Club 87        1           \n",
       "2489 2488 straub  Hellfire_Club 88        6           \n",
       "2490 2489 straub  Hellfire_Club 89        2           \n",
       "2491 2490 straub  Hellfire_Club 90        0           \n",
       "2492 2491 straub  Hellfire_Club 91        2           \n",
       "2493 2492 straub  Hellfire_Club 92        2           \n",
       "2494 2493 straub  Hellfire_Club 93        0           \n",
       "2495 2494 straub  Hellfire_Club 94        1           \n",
       "2496 2495 straub  Hellfire_Club 95        0           \n",
       "2497 2496 straub  Hellfire_Club 96        3           \n",
       "2498 2497 straub  Hellfire_Club 97        0           \n",
       "2499 2498 straub  Hellfire_Club 98        1           \n",
       "2500 2499 straub  Hellfire_Club 99        1           "
      ]
     },
     "metadata": {},
     "output_type": "display_data"
    }
   ],
   "source": [
    "df <- read.delim('../full_novels/entity_counts_books_authors.csv', sep=',')\n",
    "df"
   ]
  },
  {
   "cell_type": "code",
   "execution_count": 4,
   "id": "8303a5ae",
   "metadata": {},
   "outputs": [
    {
     "data": {
      "image/png": "[encoded data removed]",
      "text/plain": [
       "plot without title"
      ]
     },
     "metadata": {},
     "output_type": "display_data"
    }
   ],
   "source": [
    "boxplot(df$entity_count~df$author, ylab='Pop Culture Reference Count', xlab='Author')"
   ]
  },
  {
   "cell_type": "code",
   "execution_count": 5,
   "id": "de964095",
   "metadata": {},
   "outputs": [],
   "source": [
    "bachman_entity_counts = df[df$author == 'bachman', ]$entity_count\n",
    "king_entity_counts = df[df$author == 'king', ]$entity_count\n",
    "harris_entity_counts = df[df$author == 'harris', ]$entity_count\n",
    "koontz_entity_counts = df[df$author == 'koontz', ]$entity_count\n",
    "straub_entity_counts = df[df$author == 'straub', ]$entity_count\n"
   ]
  },
  {
   "cell_type": "code",
   "execution_count": 7,
   "id": "ff21dede",
   "metadata": {},
   "outputs": [
    {
     "data": {
      "text/plain": [
       "\n",
       "\tWilcoxon rank sum test with continuity correction\n",
       "\n",
       "data:  bachman_entity_counts and straub_entity_counts\n",
       "W = 228227, p-value < 2.2e-16\n",
       "alternative hypothesis: true location shift is greater than 0\n"
      ]
     },
     "metadata": {},
     "output_type": "display_data"
    },
    {
     "data": {
      "text/plain": [
       "\n",
       "\tWilcoxon rank sum test with continuity correction\n",
       "\n",
       "data:  bachman_entity_counts and harris_entity_counts\n",
       "W = 215416, p-value < 2.2e-16\n",
       "alternative hypothesis: true location shift is greater than 0\n"
      ]
     },
     "metadata": {},
     "output_type": "display_data"
    },
    {
     "data": {
      "text/plain": [
       "\n",
       "\tWilcoxon rank sum test with continuity correction\n",
       "\n",
       "data:  bachman_entity_counts and koontz_entity_counts\n",
       "W = 348396, p-value < 2.2e-16\n",
       "alternative hypothesis: true location shift is greater than 0\n"
      ]
     },
     "metadata": {},
     "output_type": "display_data"
    },
    {
     "data": {
      "text/plain": [
       "\n",
       "\tWilcoxon rank sum test with continuity correction\n",
       "\n",
       "data:  bachman_entity_counts and king_entity_counts\n",
       "W = 161064, p-value = 1.531e-05\n",
       "alternative hypothesis: true location shift is greater than 0\n"
      ]
     },
     "metadata": {},
     "output_type": "display_data"
    }
   ],
   "source": [
    "# Bachman vs rest\n",
    "wilcox.test(bachman_entity_counts, straub_entity_counts, alternative=\"greater\")\n",
    "wilcox.test(bachman_entity_counts, harris_entity_counts, alternative=\"greater\")\n",
    "wilcox.test(bachman_entity_counts, koontz_entity_counts, alternative=\"greater\")\n",
    "wilcox.test(bachman_entity_counts, king_entity_counts, alternative=\"greater\")"
   ]
  },
  {
   "cell_type": "code",
   "execution_count": 24,
   "id": "3ef4888b",
   "metadata": {},
   "outputs": [
    {
     "data": {
      "text/plain": [
       "\n",
       "\tWilcoxon rank sum test with continuity correction\n",
       "\n",
       "data:  king_entity_counts and straub_entity_counts\n",
       "W = 124426, p-value < 2.2e-16\n",
       "alternative hypothesis: true location shift is greater than 0\n"
      ]
     },
     "metadata": {},
     "output_type": "display_data"
    },
    {
     "data": {
      "text/plain": [
       "\n",
       "\tWilcoxon rank sum test with continuity correction\n",
       "\n",
       "data:  king_entity_counts and harris_entity_counts\n",
       "W = 115233, p-value < 2.2e-16\n",
       "alternative hypothesis: true location shift is greater than 0\n"
      ]
     },
     "metadata": {},
     "output_type": "display_data"
    },
    {
     "data": {
      "text/plain": [
       "\n",
       "\tWilcoxon rank sum test with continuity correction\n",
       "\n",
       "data:  king_entity_counts and koontz_entity_counts\n",
       "W = 193236, p-value < 2.2e-16\n",
       "alternative hypothesis: true location shift is greater than 0\n"
      ]
     },
     "metadata": {},
     "output_type": "display_data"
    }
   ],
   "source": [
    "# King vs rest\n",
    "wilcox.test(king_entity_counts, straub_entity_counts, alternative=\"greater\")\n",
    "wilcox.test(king_entity_counts, harris_entity_counts, alternative=\"greater\")\n",
    "wilcox.test(king_entity_counts, koontz_entity_counts, alternative=\"greater\")"
   ]
  }
 ],
 "metadata": {
  "kernelspec": {
   "display_name": "R",
   "language": "R",
   "name": "ir"
  },
  "language_info": {
   "codemirror_mode": "r",
   "file_extension": ".r",
   "mimetype": "text/x-r-source",
   "name": "R",
   "pygments_lexer": "r",
   "version": "3.6.1"
  }
 },
 "nbformat": 4,
 "nbformat_minor": 5
}
