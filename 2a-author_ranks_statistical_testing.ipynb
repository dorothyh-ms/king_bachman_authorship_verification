{
 "cells": [
  {
   "cell_type": "code",
   "execution_count": 1,
   "id": "62f3180a",
   "metadata": {},
   "outputs": [
    {
     "data": {
      "text/html": [
       "<table>\n",
       "<thead><tr><th scope=col>harris</th><th scope=col>king</th><th scope=col>koontz</th><th scope=col>straub</th></tr></thead>\n",
       "<tbody>\n",
       "\t<tr><td> 632589</td><td>2629829</td><td>1266248</td><td>1501334</td></tr>\n",
       "\t<tr><td>1105261</td><td>1622617</td><td>1595773</td><td>1706349</td></tr>\n",
       "\t<tr><td>1669182</td><td>1070916</td><td>1697188</td><td>1592714</td></tr>\n",
       "\t<tr><td>2622968</td><td> 706638</td><td>1470791</td><td>1229603</td></tr>\n",
       "</tbody>\n",
       "</table>\n"
      ],
      "text/latex": [
       "\\begin{tabular}{r|llll}\n",
       " harris & king & koontz & straub\\\\\n",
       "\\hline\n",
       "\t  632589 & 2629829 & 1266248 & 1501334\\\\\n",
       "\t 1105261 & 1622617 & 1595773 & 1706349\\\\\n",
       "\t 1669182 & 1070916 & 1697188 & 1592714\\\\\n",
       "\t 2622968 &  706638 & 1470791 & 1229603\\\\\n",
       "\\end{tabular}\n"
      ],
      "text/markdown": [
       "\n",
       "| harris | king | koontz | straub |\n",
       "|---|---|---|---|\n",
       "|  632589 | 2629829 | 1266248 | 1501334 |\n",
       "| 1105261 | 1622617 | 1595773 | 1706349 |\n",
       "| 1669182 | 1070916 | 1697188 | 1592714 |\n",
       "| 2622968 |  706638 | 1470791 | 1229603 |\n",
       "\n"
      ],
      "text/plain": [
       "  harris  king    koontz  straub \n",
       "1  632589 2629829 1266248 1501334\n",
       "2 1105261 1622617 1595773 1706349\n",
       "3 1669182 1070916 1697188 1592714\n",
       "4 2622968  706638 1470791 1229603"
      ]
     },
     "metadata": {},
     "output_type": "display_data"
    }
   ],
   "source": [
    "df_1000 <- read.csv('1000tok_author_prediction_total_counts.csv', fileEncoding=\"UTF-8-BOM\")\n",
    "df_1000 <- df_1000[-c(1)]\n",
    "rank_counts_1000 <- data.matrix(df_1000)\n",
    "rownames(rank_counts_1000) <- c('1', '2', '3', '4')\n",
    "rank_counts_1000"
   ]
  },
  {
   "cell_type": "code",
   "execution_count": 2,
   "id": "53359b0a",
   "metadata": {},
   "outputs": [
    {
     "data": {
      "text/plain": [
       "\n",
       "\tPearson's Chi-squared test\n",
       "\n",
       "data:  rank_counts_1000\n",
       "X-squared = 3004926, df = 9, p-value < 2.2e-16\n"
      ]
     },
     "metadata": {},
     "output_type": "display_data"
    },
    {
     "data": {
      "text/html": [
       "<table>\n",
       "<thead><tr><th scope=col>harris</th><th scope=col>king</th><th scope=col>koontz</th><th scope=col>straub</th></tr></thead>\n",
       "<tbody>\n",
       "\t<tr><td>1507500</td><td>1507500</td><td>1507500</td><td>1507500</td></tr>\n",
       "\t<tr><td>1507500</td><td>1507500</td><td>1507500</td><td>1507500</td></tr>\n",
       "\t<tr><td>1507500</td><td>1507500</td><td>1507500</td><td>1507500</td></tr>\n",
       "\t<tr><td>1507500</td><td>1507500</td><td>1507500</td><td>1507500</td></tr>\n",
       "</tbody>\n",
       "</table>\n"
      ],
      "text/latex": [
       "\\begin{tabular}{r|llll}\n",
       " harris & king & koontz & straub\\\\\n",
       "\\hline\n",
       "\t 1507500 & 1507500 & 1507500 & 1507500\\\\\n",
       "\t 1507500 & 1507500 & 1507500 & 1507500\\\\\n",
       "\t 1507500 & 1507500 & 1507500 & 1507500\\\\\n",
       "\t 1507500 & 1507500 & 1507500 & 1507500\\\\\n",
       "\\end{tabular}\n"
      ],
      "text/markdown": [
       "\n",
       "| harris | king | koontz | straub |\n",
       "|---|---|---|---|\n",
       "| 1507500 | 1507500 | 1507500 | 1507500 |\n",
       "| 1507500 | 1507500 | 1507500 | 1507500 |\n",
       "| 1507500 | 1507500 | 1507500 | 1507500 |\n",
       "| 1507500 | 1507500 | 1507500 | 1507500 |\n",
       "\n"
      ],
      "text/plain": [
       "  harris  king    koontz  straub \n",
       "1 1507500 1507500 1507500 1507500\n",
       "2 1507500 1507500 1507500 1507500\n",
       "3 1507500 1507500 1507500 1507500\n",
       "4 1507500 1507500 1507500 1507500"
      ]
     },
     "metadata": {},
     "output_type": "display_data"
    }
   ],
   "source": [
    "chisq.test(rank_counts_1000)\n",
    "expected <- chisq.test(rank_counts_1000)$expected\n",
    "expected\n",
    "\n",
    "# All of the expected cell counts are over 5, so this requirement is fulfilled"
   ]
  },
  {
   "cell_type": "code",
   "execution_count": 4,
   "id": "4ffcda69",
   "metadata": {},
   "outputs": [
    {
     "name": "stderr",
     "output_type": "stream",
     "text": [
      "Loading required package: grid\n"
     ]
    },
    {
     "data": {
      "image/png": "[encoded data removed]",
      "text/plain": [
       "plot without title"
      ]
     },
     "metadata": {},
     "output_type": "display_data"
    }
   ],
   "source": [
    "# install.packages(\"vcd\")\n",
    "library(vcd)\n",
    "assoc(rank_counts_1000, shade=TRUE, compress=FALSE, keep_aspect_ratio=FALSE)\n",
    "\n",
    "\n",
    "# Author and test outcome are significantly correlated"
   ]
  },
  {
   "cell_type": "code",
   "execution_count": 5,
   "id": "220793a5",
   "metadata": {},
   "outputs": [
    {
     "data": {
      "text/html": [
       "<table>\n",
       "<thead><tr><th scope=col>harris</th><th scope=col>king</th><th scope=col>koontz</th><th scope=col>straub</th></tr></thead>\n",
       "<tbody>\n",
       "\t<tr><td> 49004</td><td>760176</td><td>145626</td><td>225194</td></tr>\n",
       "\t<tr><td>173214</td><td>259032</td><td>318664</td><td>429090</td></tr>\n",
       "\t<tr><td>344293</td><td>109596</td><td>390107</td><td>336004</td></tr>\n",
       "\t<tr><td>613489</td><td> 51196</td><td>325603</td><td>189712</td></tr>\n",
       "</tbody>\n",
       "</table>\n"
      ],
      "text/latex": [
       "\\begin{tabular}{r|llll}\n",
       " harris & king & koontz & straub\\\\\n",
       "\\hline\n",
       "\t  49004 & 760176 & 145626 & 225194\\\\\n",
       "\t 173214 & 259032 & 318664 & 429090\\\\\n",
       "\t 344293 & 109596 & 390107 & 336004\\\\\n",
       "\t 613489 &  51196 & 325603 & 189712\\\\\n",
       "\\end{tabular}\n"
      ],
      "text/markdown": [
       "\n",
       "| harris | king | koontz | straub |\n",
       "|---|---|---|---|\n",
       "|  49004 | 760176 | 145626 | 225194 |\n",
       "| 173214 | 259032 | 318664 | 429090 |\n",
       "| 344293 | 109596 | 390107 | 336004 |\n",
       "| 613489 |  51196 | 325603 | 189712 |\n",
       "\n"
      ],
      "text/plain": [
       "  harris king   koontz straub\n",
       "1  49004 760176 145626 225194\n",
       "2 173214 259032 318664 429090\n",
       "3 344293 109596 390107 336004\n",
       "4 613489  51196 325603 189712"
      ]
     },
     "metadata": {},
     "output_type": "display_data"
    }
   ],
   "source": [
    "df_5000 <- read.csv('5000tok_author_prediction_total_counts.csv', fileEncoding=\"UTF-8-BOM\")\n",
    "df_5000 <- df_5000[-c(1)]\n",
    "rank_counts_5000 <- data.matrix(df_5000)\n",
    "rownames(rank_counts_5000) <- c('1', '2', '3', '4')\n",
    "rank_counts_5000"
   ]
  },
  {
   "cell_type": "code",
   "execution_count": 6,
   "id": "eb81009c",
   "metadata": {},
   "outputs": [
    {
     "data": {
      "text/plain": [
       "\n",
       "\tPearson's Chi-squared test\n",
       "\n",
       "data:  rank_counts_5000\n",
       "X-squared = 1895535, df = 9, p-value < 2.2e-16\n"
      ]
     },
     "metadata": {},
     "output_type": "display_data"
    },
    {
     "data": {
      "text/html": [
       "<table>\n",
       "<thead><tr><th scope=col>harris</th><th scope=col>king</th><th scope=col>koontz</th><th scope=col>straub</th></tr></thead>\n",
       "<tbody>\n",
       "\t<tr><td>295000</td><td>295000</td><td>295000</td><td>295000</td></tr>\n",
       "\t<tr><td>295000</td><td>295000</td><td>295000</td><td>295000</td></tr>\n",
       "\t<tr><td>295000</td><td>295000</td><td>295000</td><td>295000</td></tr>\n",
       "\t<tr><td>295000</td><td>295000</td><td>295000</td><td>295000</td></tr>\n",
       "</tbody>\n",
       "</table>\n"
      ],
      "text/latex": [
       "\\begin{tabular}{r|llll}\n",
       " harris & king & koontz & straub\\\\\n",
       "\\hline\n",
       "\t 295000 & 295000 & 295000 & 295000\\\\\n",
       "\t 295000 & 295000 & 295000 & 295000\\\\\n",
       "\t 295000 & 295000 & 295000 & 295000\\\\\n",
       "\t 295000 & 295000 & 295000 & 295000\\\\\n",
       "\\end{tabular}\n"
      ],
      "text/markdown": [
       "\n",
       "| harris | king | koontz | straub |\n",
       "|---|---|---|---|\n",
       "| 295000 | 295000 | 295000 | 295000 |\n",
       "| 295000 | 295000 | 295000 | 295000 |\n",
       "| 295000 | 295000 | 295000 | 295000 |\n",
       "| 295000 | 295000 | 295000 | 295000 |\n",
       "\n"
      ],
      "text/plain": [
       "  harris king   koontz straub\n",
       "1 295000 295000 295000 295000\n",
       "2 295000 295000 295000 295000\n",
       "3 295000 295000 295000 295000\n",
       "4 295000 295000 295000 295000"
      ]
     },
     "metadata": {},
     "output_type": "display_data"
    }
   ],
   "source": [
    "chisq.test(rank_counts_5000)\n",
    "expected <- chisq.test(rank_counts_5000)$expected\n",
    "expected"
   ]
  },
  {
   "cell_type": "code",
   "execution_count": 7,
   "id": "4aab20bc",
   "metadata": {},
   "outputs": [
    {
     "data": {
      "image/png": "[encoded data removed]",
      "text/plain": [
       "plot without title"
      ]
     },
     "metadata": {},
     "output_type": "display_data"
    }
   ],
   "source": [
    "assoc(rank_counts_5000, shade=TRUE, compress=FALSE, keep_aspect_ratio=FALSE)\n"
   ]
  },
  {
   "cell_type": "code",
   "execution_count": 8,
   "id": "928bddb6",
   "metadata": {},
   "outputs": [
    {
     "data": {
      "text/html": [
       "<table>\n",
       "<thead><tr><th scope=col>harris</th><th scope=col>king</th><th scope=col>koontz</th><th scope=col>straub</th></tr></thead>\n",
       "<tbody>\n",
       "\t<tr><td> 12360</td><td>435924</td><td> 50670</td><td> 71046</td></tr>\n",
       "\t<tr><td> 70788</td><td> 92405</td><td>167274</td><td>239533</td></tr>\n",
       "\t<tr><td>173560</td><td> 32449</td><td>189069</td><td>174922</td></tr>\n",
       "\t<tr><td>313292</td><td>  9222</td><td>162987</td><td> 84499</td></tr>\n",
       "</tbody>\n",
       "</table>\n"
      ],
      "text/latex": [
       "\\begin{tabular}{r|llll}\n",
       " harris & king & koontz & straub\\\\\n",
       "\\hline\n",
       "\t  12360 & 435924 &  50670 &  71046\\\\\n",
       "\t  70788 &  92405 & 167274 & 239533\\\\\n",
       "\t 173560 &  32449 & 189069 & 174922\\\\\n",
       "\t 313292 &   9222 & 162987 &  84499\\\\\n",
       "\\end{tabular}\n"
      ],
      "text/markdown": [
       "\n",
       "| harris | king | koontz | straub |\n",
       "|---|---|---|---|\n",
       "|  12360 | 435924 |  50670 |  71046 |\n",
       "|  70788 |  92405 | 167274 | 239533 |\n",
       "| 173560 |  32449 | 189069 | 174922 |\n",
       "| 313292 |   9222 | 162987 |  84499 |\n",
       "\n"
      ],
      "text/plain": [
       "  harris king   koontz straub\n",
       "1  12360 435924  50670  71046\n",
       "2  70788  92405 167274 239533\n",
       "3 173560  32449 189069 174922\n",
       "4 313292   9222 162987  84499"
      ]
     },
     "metadata": {},
     "output_type": "display_data"
    }
   ],
   "source": [
    "df_10000 <- read.csv('10000tok_author_prediction_total_counts.csv', fileEncoding=\"UTF-8-BOM\")\n",
    "df_10000 <- df_10000[-c(1)]\n",
    "rank_counts_10000 <- data.matrix(df_10000)\n",
    "rownames(rank_counts_10000) <- c('1', '2', '3', '4')\n",
    "rank_counts_10000"
   ]
  },
  {
   "cell_type": "code",
   "execution_count": 9,
   "id": "9c44f446",
   "metadata": {},
   "outputs": [
    {
     "data": {
      "text/plain": [
       "\n",
       "\tPearson's Chi-squared test\n",
       "\n",
       "data:  rank_counts_10000\n",
       "X-squared = 1412395, df = 9, p-value < 2.2e-16\n"
      ]
     },
     "metadata": {},
     "output_type": "display_data"
    },
    {
     "data": {
      "text/html": [
       "<table>\n",
       "<thead><tr><th scope=col>harris</th><th scope=col>king</th><th scope=col>koontz</th><th scope=col>straub</th></tr></thead>\n",
       "<tbody>\n",
       "\t<tr><td>142500</td><td>142500</td><td>142500</td><td>142500</td></tr>\n",
       "\t<tr><td>142500</td><td>142500</td><td>142500</td><td>142500</td></tr>\n",
       "\t<tr><td>142500</td><td>142500</td><td>142500</td><td>142500</td></tr>\n",
       "\t<tr><td>142500</td><td>142500</td><td>142500</td><td>142500</td></tr>\n",
       "</tbody>\n",
       "</table>\n"
      ],
      "text/latex": [
       "\\begin{tabular}{r|llll}\n",
       " harris & king & koontz & straub\\\\\n",
       "\\hline\n",
       "\t 142500 & 142500 & 142500 & 142500\\\\\n",
       "\t 142500 & 142500 & 142500 & 142500\\\\\n",
       "\t 142500 & 142500 & 142500 & 142500\\\\\n",
       "\t 142500 & 142500 & 142500 & 142500\\\\\n",
       "\\end{tabular}\n"
      ],
      "text/markdown": [
       "\n",
       "| harris | king | koontz | straub |\n",
       "|---|---|---|---|\n",
       "| 142500 | 142500 | 142500 | 142500 |\n",
       "| 142500 | 142500 | 142500 | 142500 |\n",
       "| 142500 | 142500 | 142500 | 142500 |\n",
       "| 142500 | 142500 | 142500 | 142500 |\n",
       "\n"
      ],
      "text/plain": [
       "  harris king   koontz straub\n",
       "1 142500 142500 142500 142500\n",
       "2 142500 142500 142500 142500\n",
       "3 142500 142500 142500 142500\n",
       "4 142500 142500 142500 142500"
      ]
     },
     "metadata": {},
     "output_type": "display_data"
    }
   ],
   "source": [
    "chisq.test(rank_counts_10000)\n",
    "expected <- chisq.test(rank_counts_10000)$expected\n",
    "expected"
   ]
  },
  {
   "cell_type": "code",
   "execution_count": 10,
   "id": "e700d07e",
   "metadata": {},
   "outputs": [
    {
     "data": {
      "image/png": "[encoded data removed]",
      "text/plain": [
       "plot without title"
      ]
     },
     "metadata": {},
     "output_type": "display_data"
    }
   ],
   "source": [
    "assoc(rank_counts_10000, shade=TRUE, compress=FALSE, keep_aspect_ratio=FALSE)\n"
   ]
  }
 ],
 "metadata": {
  "kernelspec": {
   "display_name": "R",
   "language": "R",
   "name": "ir"
  },
  "language_info": {
   "codemirror_mode": "r",
   "file_extension": ".r",
   "mimetype": "text/x-r-source",
   "name": "R",
   "pygments_lexer": "r",
   "version": "3.6.1"
  }
 },
 "nbformat": 4,
 "nbformat_minor": 5
}
