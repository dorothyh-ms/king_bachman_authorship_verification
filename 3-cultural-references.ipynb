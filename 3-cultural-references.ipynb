{
 "cells": [
  {
   "cell_type": "markdown",
   "id": "65793139",
   "metadata": {},
   "source": [
    "# 1. Load cultural references"
   ]
  },
  {
   "cell_type": "code",
   "execution_count": 41,
   "id": "ff7db367",
   "metadata": {},
   "outputs": [],
   "source": [
    "import pandas as pd\n",
    "import os\n",
    "import spacy\n",
    "from tqdm import tqdm\n",
    "import seaborn as sns\n",
    "import numpy as np\n",
    "nlp = spacy.load('en_core_web_sm')\n",
    "nlp.max_length = 3000000\n",
    "import random\n",
    "\n",
    "\n",
    "import matplotlib.pyplot as plt"
   ]
  },
  {
   "cell_type": "code",
   "execution_count": 42,
   "id": "9d56dcfb",
   "metadata": {},
   "outputs": [],
   "source": [
    "authors=['bachman','harris', 'straub', 'koontz', 'king']\n",
    "with open(\"bachman_all-cultural-references.txt\", encoding='utf8') as f:\n",
    "    entities = f.readlines()"
   ]
  },
  {
   "cell_type": "code",
   "execution_count": 43,
   "id": "e9091900",
   "metadata": {},
   "outputs": [
    {
     "data": {
      "text/plain": [
       "\"A&S Tires, A. Gordon Pym, AP wire, Abdul Allhazred, Adreizi Brothers, Agatha Christie, Ahab, Albert Einstein, Alfie, Alligators All Around, American Express, Amoco, Amos ’n Andy, Amway, Anacin, Anaïs, And Justice for All, Andy Devine, Annie Oakley, Apple, Arco, Arlene Dahl, Art Linkletter, Aureomycin, Avis, B&O, BMW, Bach, Bally, Band-Aid, Banjo Rag, Banker’s Life Insurance, Barbie, Bausch & Lomb, Be-Bop, Be-bop-a-lula, she's my baby, Beach Boys, Beatles, Beechcraft, Ben Alexander, Bermuda, Bertrand Russell, Beverly Hill-billies, Big Mac, Bill Cullen, Black Jack gum, Blackglama, Bob Hope, Bobby Sherman, Bombardier Skidoo, Bonneville, Brain from Planet Arous, Brian Wilson, Briggs & Stratton, Broderick Crawford, Bruce Springsteen, Bud, Budweiser, Buick, Burger King, Buttercup, Cadillac, Caesar's Palace, Calvin Klein, Camel, Campbell, Canada Mints, Captain Midnight, Captain Queeg, Chancellor-Brinkley, Chargers, Charles Manson, Charmin, Chatty Cathy, Cheez-Doodles, Chesterfield, Chevrolet, Chevy, Chevy Impala, Chevy Nova, Chipwich, Chivas, Chris-Craft, Chrysler Imperial, Chryster, Chuck Berry, Cimarron, Clint Eastwood, Coca-Cola, Coke, Colt, Colt Woodsman, Con-Tact, Cracker Jack, Curly, D-Con, Dairy Freez, Dallas Cowgirls, Dan Fortune, Dannon, Darvocet, Darvon, Datsun, David Cassidy, David Janssen, Delco, Delta 88, Denny's, Detroit Redwings, Detroit Tigers, Dial M for Murder, Dialing for Dollars, Diamond International, Dick Cavett, Dingo, Dior, Dirty Harry, Disney, Disney World, Dodge, Dodge Custom Cab, Dolby, Don Rickles, Donald Westlake, Dorito, Dorothy Sayers, Dos Passos, Dotto, Dr. Caligari, Dr. Scholl, Dragnet, Dungeons and Dragons, Duz, Dylan, Eames, Eberhard Faber, Econoline, Edith Head, Electrolux, Ellery Queen, Elton John, Elvis, Empirin, Ernest Hemingway, Exorcist, Exxon, F Troop, Facing the Lions, Family Feud, Fantasia, Farmer Brown, Fat Sammy's, Father Brown, Ferrari, Field and Stream, Firebird, Flair Fineliners, Flatt and Scruggs, Fontainbleau, Ford, Ford Pinto, Formica, Forrest Tucker, Francis Gary Powers, Frederick’s of Hollywood, Frisbee, GI Joe, GM, Garfield, Garry Moore, Gary Davis, Ghidra, Gilligan’s Island, Gisele MacKenzie, Glade Pine Fresh, Godzilla, Good-bye Yellow Brick Road, Goodwill, Gravy Train, Great Northern, Great Western, Green Door, Greenbriar Boys, Greyhound, Griff, Gucci, Gulf, Guy Lombardo, Guy Madison, H. Rider Haggard, HBO, Hal March, Hamburger Helper, Hammond Innes, Henry Glassman, Henry James, Henry Youngman, Herman Wouk, Hertz, Hesse, Hexlite, Hey, Mr. Sun, Highway Patrol, Hogan’s Heroes, Holiday Inn, Home Box Office, Honda, Horchow, Hot Stuff, Howard Cosell, Howdy Doody, Hula Hoops, Humphrey Bogart, I Dream of Jeannie, I Love Lucy, Incredible Shrinking Man, J. C. Penney’s, J. Press, J. W. Dant, J.C. Whitney, J.J. Cale, Jack Barry, Jack Benny Program, Jack Narz, Jack and Jill, James Bond, James Cain, Jaws, JayCee, Jell-O, Jerry Jeff Walker, Jimmy Cagney, Jimmy Stewart, Jingles, Jock Mahoney, Joe Friday, John Agar, John Carradine, John Chancellor, John Cheever, John Cougar Mellancamp, John D. MacDonald, John Travolta, Joker’s Wild, Jordache, Judy Blume, Julia Child, KLH, Kalishnikov, Karen Carpenter, Kent, Kewpie, King Kong, Kitty Carlisle, Kleenex, Kluge, Kodachrome, Krazy Glue, Kurt Vonnegut, LTD, Lacoste, Larry, Lawrence Belch, Lee Strasberg, Lenny Bruce, Let It Be, Let it Bleed, Let’s Make a Deal, Levi’s, Lionel Richie, Lipton, Lobstermen, Long Island Dragway, Loony Tunes, Lorne Greene, Louis Lamour, Mace, Malboros, Mammoth Mart, Manhattan Transfer, Mantovani, Marcus Welby, Marlboro, Marlboro Light, Marty Milner, Maurice Sendak, Mauser, Max Von Sydow, Maxwell House, McDonald, McDonald’s, Mercedes, Mercury, Merv Griffin, Mets, Michael Jackson, Michelangelo, Mick Jagger, Mickey Mouse, Midnight Rambler, Milky Way, Miller, Miller Lite, Miracle Chopper, Moe, Molotov, Monkey Man, Monkey Trial, Monocle, Monopoly, Monte Hall, Morns, Mothra, Motorola, Mr. Bojangles, Mr. Hyde Jekyll, Mr. Rogers, Mr. T., Muenster cheese, Mustangs, Myron Floren, NFL, National Enquirer, National Geographic, National Lampoon, New Paltz, New York Times, Nike, Niques, Nite Owl, Nivea, Norman Bates, Norman Vincent Peale, Num-Zit, O. Henry, OK Corral, Olds, Oldsmobile Ninety-Eight, Olivetti, Olivia Newton John, Omar the Tentmaker, Oshkosh, Outdoor Life, Pall Mall, Panthers, Pat Benatar, Paul Harvey, Paul Stuart, Pavlov, Peanuts comic strips, Peggy Sue, Penthouse, Pepsi, Pepsi-Cola, Pepto-Bismol, Pequod, Perrier, Perry Mason, Peter Rabbit, Philco, Phillies Cheroot, Phillips, Pig Pen, Piper Cub, Plymouth, Polaroid, Ponderosa golf, Pontiac, Porsche, Psycho, Q-tip, Quoddy, RCA, REA express, Radio Shack, Ramada Inn, Range Rider, Raquel Welch, Ravi Shankar, Reader’s Digest, Red Sox, Richard Petty, Richard Stark, Richard Widmark, Rin Tin Tin, Ring-Dings, Rinso, Ripley’s Believe It Or Not, Ritz, Ritz crackers, Robert Redford, Rodan, Rolaids, Rolex, Rollerdrome, Rolling Stones, Rolls-Royce, Ronald McDonald, S&H Green Stamps, SOI, Saab, Sadie Hawkins, Saf-T-Glass, Salvation Army, Samsonite, Sara Lee cheesecake, Saran Wrap, Saville Row, Schooner, Schwinn, Scripto, Seargeant Preston, Sears, Seven Flags Over Georgia, Seven-Up, Shell, Sheraton, Sherman tank, Shop and Save, Shop ’n Save, Shop ’n’ Save, Slaughterhouse Five, Slurpies, Slurpy, Smith & Wesson, Sony, Soo Line, Soupy Sales, Souther Comfort, Southern Pacific, Space Command, Spencer Tracy, Spider John Koemer, Star Trek, Starsky and Hutch, Sterno, Stetsons, Sting, Stop and Shop, Stranger in Paradise, Subaru, Sunoco, Sylvester Stallone, T. S. Eliot, TRS-80, Tarr Brothers, Technicolor, Tensor, Tensor study lamps, Texaco, The $64,000 Question, The Ballad of John and Yoko, The Day the Earth Stood Still, The Gift of the Magi, The Gong Show, The Guardian, The Manchester Guardian, The New Price is Right, The New York Review of Books, The Postman Always Rings Twice, This Is Your Life, This Savage Rapture, Thomas Carlyle, Thousand Island dressing, Three Stooges, Three’s Company, Thunderbird, Thus Spake Zarathustra, Tic Tac Dough, Time Magazine, Timex, Tinkertoys, To Tell the Truth, Tolkien, Tom Paxton, Tom Rush, Tom Wicker, Tony Curtis, Toyota, Toys Are Joys, Trans Am, Trifles, Trix, True Argosy, Tukkan the Terrible, Twenty One, Twinkies, Twinky, Universal Pictures, VW, Vantage 100, Victor Canning, Vince Lombardi, Volvo, Von Ronk, WGAN-TV, Waldenbooks, Waldorf-Astoria, Walkman, Wall Street Journal, Walt Disney, Walter Cronkite, Warner Anderson, Warner Brothers, Washex, We Gotta Get It On Again, Weatherby, Wet-Nap, What’s My Line, Where are They Now, Whoppers, Wild Bill Hickok, Wilt Chamberlain, Winslow Homer, Wizard of Oz, Woody Woodpecker, Wranglers, Wyatt Earp, Yankees, Yorick, You can’t always get what you want, Your Hit Parade, Your Show of Shows, Zenith, Zippo, lazy Susan\""
      ]
     },
     "execution_count": 43,
     "metadata": {},
     "output_type": "execute_result"
    }
   ],
   "source": [
    "\", \".join(sorted(list(set([(entity.strip())  for entity in entities if len(entity.strip()) > 0]))))"
   ]
  },
  {
   "cell_type": "code",
   "execution_count": 44,
   "id": "755f1634",
   "metadata": {},
   "outputs": [],
   "source": [
    "import re \n",
    "\n",
    "def clean_quotes(string):\n",
    "    return re.sub(\"[\\'’]\", '', string )"
   ]
  },
  {
   "cell_type": "code",
   "execution_count": 45,
   "id": "a660f928",
   "metadata": {},
   "outputs": [
    {
     "data": {
      "text/plain": [
       "['larry', 'buick', 'jingles', 'sears', 'bud', 'dylan', 'mace', 'campbell']"
      ]
     },
     "execution_count": 45,
     "metadata": {},
     "output_type": "execute_result"
    }
   ],
   "source": [
    "character_names = [\n",
    "                    'larry',\n",
    "                   'buick', \n",
    "                   'jingles',\n",
    "                   'sears',\n",
    "                   'bud', \n",
    "                   'dylan', \n",
    "                   'mace',\n",
    "                   'campbell'\n",
    "                  ]\n",
    "character_names"
   ]
  },
  {
   "cell_type": "code",
   "execution_count": 46,
   "id": "d0079031",
   "metadata": {},
   "outputs": [
    {
     "name": "stdout",
     "output_type": "stream",
     "text": [
      "525\n",
      "517\n"
     ]
    }
   ],
   "source": [
    "bachman_entities = list(set([clean_quotes(entity.strip().lower()) for entity in entities if len(entity.strip()) > 0]))\n",
    "print(len(bachman_entities))\n",
    "bachman_entities = [entity for entity in bachman_entities if not (entity in character_names)]\n",
    "print(len(bachman_entities))"
   ]
  },
  {
   "cell_type": "code",
   "execution_count": 28,
   "id": "8cdadd04",
   "metadata": {},
   "outputs": [
    {
     "data": {
      "text/plain": [
       "517"
      ]
     },
     "execution_count": 28,
     "metadata": {},
     "output_type": "execute_result"
    }
   ],
   "source": [
    "len(bachman_entities)"
   ]
  },
  {
   "cell_type": "markdown",
   "id": "d18c870a",
   "metadata": {},
   "source": [
    "# 2. Convert books to SpaCy docs"
   ]
  },
  {
   "cell_type": "code",
   "execution_count": 29,
   "id": "19817ee6",
   "metadata": {},
   "outputs": [
    {
     "name": "stderr",
     "output_type": "stream",
     "text": [
      "100%|███████████████████████████████████████████████████████████████████████████████| 71/71 [00:00<00:00, 71123.86it/s]\n"
     ]
    }
   ],
   "source": [
    "os.chdir(\"full_novels\")\n",
    "authors,  titles = [], []\n",
    "for file in tqdm(os.listdir()):\n",
    "    if file.endswith(\".txt\"):\n",
    "        authors.append(file.split('-')[0])\n",
    "        titles.append(file.split('-')[2].split('.')[0])\n"
   ]
  },
  {
   "cell_type": "code",
   "execution_count": 30,
   "id": "733fea43",
   "metadata": {},
   "outputs": [
    {
     "name": "stderr",
     "output_type": "stream",
     "text": [
      "\r",
      "  0%|                                                                                           | 0/64 [00:00<?, ?it/s]"
     ]
    },
    {
     "name": "stdout",
     "output_type": "stream",
     "text": [
      "The_Long_Walk\n"
     ]
    },
    {
     "name": "stderr",
     "output_type": "stream",
     "text": [
      "\r",
      "  2%|█▎                                                                                 | 1/64 [00:12<13:24, 12.77s/it]"
     ]
    },
    {
     "name": "stdout",
     "output_type": "stream",
     "text": [
      "Roadwork\n"
     ]
    },
    {
     "name": "stderr",
     "output_type": "stream",
     "text": [
      "\r",
      "  3%|██▌                                                                                | 2/64 [00:24<12:42, 12.31s/it]"
     ]
    },
    {
     "name": "stdout",
     "output_type": "stream",
     "text": [
      "Rage\n"
     ]
    },
    {
     "name": "stderr",
     "output_type": "stream",
     "text": [
      "\r",
      "  5%|███▉                                                                               | 3/64 [00:32<10:18, 10.13s/it]"
     ]
    },
    {
     "name": "stdout",
     "output_type": "stream",
     "text": [
      "Blaze\n"
     ]
    },
    {
     "name": "stderr",
     "output_type": "stream",
     "text": [
      "\r",
      "  6%|█████▏                                                                             | 4/64 [00:43<10:44, 10.74s/it]"
     ]
    },
    {
     "name": "stdout",
     "output_type": "stream",
     "text": [
      "The_Running_Man\n"
     ]
    },
    {
     "name": "stderr",
     "output_type": "stream",
     "text": [
      "\r",
      "  8%|██████▍                                                                            | 5/64 [00:52<09:56, 10.11s/it]"
     ]
    },
    {
     "name": "stdout",
     "output_type": "stream",
     "text": [
      "Thinner\n"
     ]
    },
    {
     "name": "stderr",
     "output_type": "stream",
     "text": [
      "\r",
      "  9%|███████▊                                                                           | 6/64 [01:05<10:27, 10.83s/it]"
     ]
    },
    {
     "name": "stdout",
     "output_type": "stream",
     "text": [
      "The_Regulators\n"
     ]
    },
    {
     "name": "stderr",
     "output_type": "stream",
     "text": [
      "\r",
      " 11%|█████████                                                                          | 7/64 [01:21<11:57, 12.59s/it]"
     ]
    },
    {
     "name": "stdout",
     "output_type": "stream",
     "text": [
      "Black_Sunday\n"
     ]
    },
    {
     "name": "stderr",
     "output_type": "stream",
     "text": [
      "\r",
      " 12%|██████████▍                                                                        | 8/64 [01:34<11:55, 12.78s/it]"
     ]
    },
    {
     "name": "stdout",
     "output_type": "stream",
     "text": [
      "Red_Dragon\n"
     ]
    },
    {
     "name": "stderr",
     "output_type": "stream",
     "text": [
      "\r",
      " 14%|███████████▋                                                                       | 9/64 [01:49<12:18, 13.43s/it]"
     ]
    },
    {
     "name": "stdout",
     "output_type": "stream",
     "text": [
      "The_Silence_of_the_Lambs\n"
     ]
    },
    {
     "name": "stderr",
     "output_type": "stream",
     "text": [
      "\r",
      " 16%|████████████▊                                                                     | 10/64 [02:03<12:07, 13.47s/it]"
     ]
    },
    {
     "name": "stdout",
     "output_type": "stream",
     "text": [
      "Hannibal\n"
     ]
    },
    {
     "name": "stderr",
     "output_type": "stream",
     "text": [
      "\r",
      " 17%|██████████████                                                                    | 11/64 [02:20<13:06, 14.85s/it]"
     ]
    },
    {
     "name": "stdout",
     "output_type": "stream",
     "text": [
      "Hannibal_Rising\n"
     ]
    },
    {
     "name": "stderr",
     "output_type": "stream",
     "text": [
      "\r",
      " 19%|███████████████▍                                                                  | 12/64 [02:30<11:29, 13.26s/it]"
     ]
    },
    {
     "name": "stdout",
     "output_type": "stream",
     "text": [
      "Carrie\n"
     ]
    },
    {
     "name": "stderr",
     "output_type": "stream",
     "text": [
      "\r",
      " 20%|████████████████▋                                                                 | 13/64 [02:39<10:04, 11.85s/it]"
     ]
    },
    {
     "name": "stdout",
     "output_type": "stream",
     "text": [
      "Salems_Lot\n"
     ]
    },
    {
     "name": "stderr",
     "output_type": "stream",
     "text": [
      "\r",
      " 22%|█████████████████▉                                                                | 14/64 [03:05<13:26, 16.14s/it]"
     ]
    },
    {
     "name": "stdout",
     "output_type": "stream",
     "text": [
      "The_Shining\n"
     ]
    },
    {
     "name": "stderr",
     "output_type": "stream",
     "text": [
      "\r",
      " 23%|███████████████████▏                                                              | 15/64 [03:26<14:31, 17.79s/it]"
     ]
    },
    {
     "name": "stdout",
     "output_type": "stream",
     "text": [
      "The_Stand\n"
     ]
    },
    {
     "name": "stderr",
     "output_type": "stream",
     "text": [
      "\r",
      " 25%|████████████████████▌                                                             | 16/64 [04:56<31:36, 39.51s/it]"
     ]
    },
    {
     "name": "stdout",
     "output_type": "stream",
     "text": [
      "The_Dead_Zone\n"
     ]
    },
    {
     "name": "stderr",
     "output_type": "stream",
     "text": [
      "\r",
      " 27%|█████████████████████▊                                                            | 17/64 [05:20<27:13, 34.75s/it]"
     ]
    },
    {
     "name": "stdout",
     "output_type": "stream",
     "text": [
      "Insomnia\n"
     ]
    },
    {
     "name": "stderr",
     "output_type": "stream",
     "text": [
      "\r",
      " 28%|███████████████████████                                                           | 18/64 [05:54<26:27, 34.50s/it]"
     ]
    },
    {
     "name": "stdout",
     "output_type": "stream",
     "text": [
      "Rose_Madder\n"
     ]
    },
    {
     "name": "stderr",
     "output_type": "stream",
     "text": [
      "\r",
      " 30%|████████████████████████▎                                                         | 19/64 [06:17<23:17, 31.06s/it]"
     ]
    },
    {
     "name": "stdout",
     "output_type": "stream",
     "text": [
      "The_Green_Mile\n"
     ]
    },
    {
     "name": "stderr",
     "output_type": "stream",
     "text": [
      "\r",
      " 31%|█████████████████████████▋                                                        | 20/64 [06:34<19:41, 26.85s/it]"
     ]
    },
    {
     "name": "stdout",
     "output_type": "stream",
     "text": [
      "Desperation\n"
     ]
    },
    {
     "name": "stderr",
     "output_type": "stream",
     "text": [
      "\r",
      " 33%|██████████████████████████▉                                                       | 21/64 [06:59<18:47, 26.21s/it]"
     ]
    },
    {
     "name": "stdout",
     "output_type": "stream",
     "text": [
      "Wizard_and_Glass\n"
     ]
    },
    {
     "name": "stderr",
     "output_type": "stream",
     "text": [
      "\r",
      " 34%|████████████████████████████▏                                                     | 22/64 [07:32<19:55, 28.46s/it]"
     ]
    },
    {
     "name": "stdout",
     "output_type": "stream",
     "text": [
      "Bag_of_Bones\n"
     ]
    },
    {
     "name": "stderr",
     "output_type": "stream",
     "text": [
      "\r",
      " 36%|█████████████████████████████▍                                                    | 23/64 [07:58<18:51, 27.59s/it]"
     ]
    },
    {
     "name": "stdout",
     "output_type": "stream",
     "text": [
      "The_Girl_Who_Loved_Tom_Gordon\n"
     ]
    },
    {
     "name": "stderr",
     "output_type": "stream",
     "text": [
      "\r",
      " 38%|██████████████████████████████▊                                                   | 24/64 [08:07<14:35, 21.88s/it]"
     ]
    },
    {
     "name": "stdout",
     "output_type": "stream",
     "text": [
      "Dreamcatcher\n"
     ]
    },
    {
     "name": "stderr",
     "output_type": "stream",
     "text": [
      "\r",
      " 39%|████████████████████████████████                                                  | 25/64 [08:36<15:36, 24.02s/it]"
     ]
    },
    {
     "name": "stdout",
     "output_type": "stream",
     "text": [
      "From_a_Buick_8\n"
     ]
    },
    {
     "name": "stderr",
     "output_type": "stream",
     "text": [
      "\r",
      " 41%|█████████████████████████████████▎                                                | 26/64 [08:56<14:26, 22.80s/it]"
     ]
    },
    {
     "name": "stdout",
     "output_type": "stream",
     "text": [
      "Wolves_of_the_Calla\n"
     ]
    },
    {
     "name": "stderr",
     "output_type": "stream",
     "text": [
      "\r",
      " 42%|██████████████████████████████████▌                                               | 27/64 [09:30<16:15, 26.35s/it]"
     ]
    },
    {
     "name": "stdout",
     "output_type": "stream",
     "text": [
      "Song_of_Susannah\n"
     ]
    },
    {
     "name": "stderr",
     "output_type": "stream",
     "text": [
      "\r",
      " 44%|███████████████████████████████████▉                                              | 28/64 [09:48<14:15, 23.77s/it]"
     ]
    },
    {
     "name": "stdout",
     "output_type": "stream",
     "text": [
      "The_Dark_Tower\n"
     ]
    },
    {
     "name": "stderr",
     "output_type": "stream",
     "text": [
      "\r",
      " 45%|█████████████████████████████████████▏                                            | 29/64 [10:24<16:03, 27.52s/it]"
     ]
    },
    {
     "name": "stdout",
     "output_type": "stream",
     "text": [
      "Colorado_Kid\n"
     ]
    },
    {
     "name": "stderr",
     "output_type": "stream",
     "text": [
      "\r",
      " 47%|██████████████████████████████████████▍                                           | 30/64 [10:29<11:41, 20.64s/it]"
     ]
    },
    {
     "name": "stdout",
     "output_type": "stream",
     "text": [
      "Cell\n"
     ]
    },
    {
     "name": "stderr",
     "output_type": "stream",
     "text": [
      "\r",
      " 48%|███████████████████████████████████████▋                                          | 31/64 [10:47<10:59, 19.99s/it]"
     ]
    },
    {
     "name": "stdout",
     "output_type": "stream",
     "text": [
      "Liseys_Story\n"
     ]
    },
    {
     "name": "stderr",
     "output_type": "stream",
     "text": [
      "\r",
      " 50%|█████████████████████████████████████████                                         | 32/64 [11:15<11:57, 22.43s/it]"
     ]
    },
    {
     "name": "stdout",
     "output_type": "stream",
     "text": [
      "Star_Quest\n"
     ]
    },
    {
     "name": "stderr",
     "output_type": "stream",
     "text": [
      "\r",
      " 52%|██████████████████████████████████████████▎                                       | 33/64 [11:20<08:53, 17.20s/it]"
     ]
    },
    {
     "name": "stdout",
     "output_type": "stream",
     "text": [
      "Beastchild\n"
     ]
    },
    {
     "name": "stderr",
     "output_type": "stream",
     "text": [
      "\r",
      " 53%|███████████████████████████████████████████▌                                      | 34/64 [11:29<07:15, 14.51s/it]"
     ]
    },
    {
     "name": "stdout",
     "output_type": "stream",
     "text": [
      "Warlock\n"
     ]
    },
    {
     "name": "stderr",
     "output_type": "stream",
     "text": [
      "\r",
      " 55%|████████████████████████████████████████████▊                                     | 35/64 [11:38<06:14, 12.91s/it]"
     ]
    },
    {
     "name": "stdout",
     "output_type": "stream",
     "text": [
      "After_the_Last_Race\n"
     ]
    },
    {
     "name": "stderr",
     "output_type": "stream",
     "text": [
      "\r",
      " 56%|██████████████████████████████████████████████▏                                   | 36/64 [11:50<05:57, 12.77s/it]"
     ]
    },
    {
     "name": "stdout",
     "output_type": "stream",
     "text": [
      "Night_Chills\n"
     ]
    },
    {
     "name": "stderr",
     "output_type": "stream",
     "text": [
      "\r",
      " 58%|███████████████████████████████████████████████▍                                  | 37/64 [12:03<05:47, 12.88s/it]"
     ]
    },
    {
     "name": "stdout",
     "output_type": "stream",
     "text": [
      "The_Vision\n"
     ]
    },
    {
     "name": "stderr",
     "output_type": "stream",
     "text": [
      "\r",
      " 59%|████████████████████████████████████████████████▋                                 | 38/64 [12:12<05:05, 11.76s/it]"
     ]
    },
    {
     "name": "stdout",
     "output_type": "stream",
     "text": [
      "Whispers\n"
     ]
    },
    {
     "name": "stderr",
     "output_type": "stream",
     "text": [
      "\r",
      " 61%|█████████████████████████████████████████████████▉                                | 39/64 [12:37<06:28, 15.56s/it]"
     ]
    },
    {
     "name": "stdout",
     "output_type": "stream",
     "text": [
      "The_Eyes_of_Darkness\n"
     ]
    },
    {
     "name": "stderr",
     "output_type": "stream",
     "text": [
      "\r",
      " 62%|███████████████████████████████████████████████████▎                              | 40/64 [12:49<05:47, 14.46s/it]"
     ]
    },
    {
     "name": "stdout",
     "output_type": "stream",
     "text": [
      "Phantoms\n"
     ]
    },
    {
     "name": "stderr",
     "output_type": "stream",
     "text": [
      "\r",
      " 64%|████████████████████████████████████████████████████▌                             | 41/64 [13:09<06:11, 16.16s/it]"
     ]
    },
    {
     "name": "stdout",
     "output_type": "stream",
     "text": [
      "Strangers\n"
     ]
    },
    {
     "name": "stderr",
     "output_type": "stream",
     "text": [
      "\r",
      " 66%|█████████████████████████████████████████████████████▊                            | 42/64 [13:46<08:13, 22.43s/it]"
     ]
    },
    {
     "name": "stdout",
     "output_type": "stream",
     "text": [
      "Lightning\n"
     ]
    },
    {
     "name": "stderr",
     "output_type": "stream",
     "text": [
      "\r",
      " 67%|███████████████████████████████████████████████████████                           | 43/64 [14:04<07:22, 21.09s/it]"
     ]
    },
    {
     "name": "stdout",
     "output_type": "stream",
     "text": [
      "The_Bad_Place\n"
     ]
    },
    {
     "name": "stderr",
     "output_type": "stream",
     "text": [
      "\r",
      " 69%|████████████████████████████████████████████████████████▍                         | 44/64 [14:22<06:44, 20.22s/it]"
     ]
    },
    {
     "name": "stdout",
     "output_type": "stream",
     "text": [
      "Hideaway\n"
     ]
    },
    {
     "name": "stderr",
     "output_type": "stream",
     "text": [
      "\r",
      " 70%|█████████████████████████████████████████████████████████▋                        | 45/64 [14:39<06:04, 19.20s/it]"
     ]
    },
    {
     "name": "stdout",
     "output_type": "stream",
     "text": [
      "Winter_Moon\n"
     ]
    },
    {
     "name": "stderr",
     "output_type": "stream",
     "text": [
      "\r",
      " 72%|██████████████████████████████████████████████████████████▉                       | 46/64 [14:53<05:17, 17.63s/it]"
     ]
    },
    {
     "name": "stdout",
     "output_type": "stream",
     "text": [
      "Fear_Nothing\n"
     ]
    },
    {
     "name": "stderr",
     "output_type": "stream",
     "text": [
      "\r",
      " 73%|████████████████████████████████████████████████████████████▏                     | 47/64 [15:08<04:47, 16.88s/it]"
     ]
    },
    {
     "name": "stdout",
     "output_type": "stream",
     "text": [
      "From_the_Corner_of_His_Eye\n"
     ]
    },
    {
     "name": "stderr",
     "output_type": "stream",
     "text": [
      "\r",
      " 75%|█████████████████████████████████████████████████████████████▌                    | 48/64 [15:34<05:15, 19.72s/it]"
     ]
    },
    {
     "name": "stdout",
     "output_type": "stream",
     "text": [
      "By_the_Light_of_the_Moon\n"
     ]
    },
    {
     "name": "stderr",
     "output_type": "stream",
     "text": [
      "\r",
      " 77%|██████████████████████████████████████████████████████████████▊                   | 49/64 [15:50<04:35, 18.39s/it]"
     ]
    },
    {
     "name": "stdout",
     "output_type": "stream",
     "text": [
      "The_Taking\n"
     ]
    },
    {
     "name": "stderr",
     "output_type": "stream",
     "text": [
      "\r",
      " 78%|████████████████████████████████████████████████████████████████                  | 50/64 [16:00<03:43, 15.98s/it]"
     ]
    },
    {
     "name": "stdout",
     "output_type": "stream",
     "text": [
      "The_Husband\n"
     ]
    },
    {
     "name": "stderr",
     "output_type": "stream",
     "text": [
      "\r",
      " 80%|█████████████████████████████████████████████████████████████████▎                | 51/64 [16:10<03:05, 14.29s/it]"
     ]
    },
    {
     "name": "stdout",
     "output_type": "stream",
     "text": [
      "The_Good_Guy\n"
     ]
    },
    {
     "name": "stderr",
     "output_type": "stream",
     "text": [
      "\r",
      " 81%|██████████████████████████████████████████████████████████████████▋               | 52/64 [16:21<02:37, 13.11s/it]"
     ]
    },
    {
     "name": "stdout",
     "output_type": "stream",
     "text": [
      "Julia\n"
     ]
    },
    {
     "name": "stderr",
     "output_type": "stream",
     "text": [
      "\r",
      " 83%|███████████████████████████████████████████████████████████████████▉              | 53/64 [16:31<02:13, 12.14s/it]"
     ]
    },
    {
     "name": "stdout",
     "output_type": "stream",
     "text": [
      "If_You_Could_See_Me_Now\n"
     ]
    },
    {
     "name": "stderr",
     "output_type": "stream",
     "text": [
      "\r",
      " 84%|█████████████████████████████████████████████████████████████████████▏            | 54/64 [16:44<02:04, 12.46s/it]"
     ]
    },
    {
     "name": "stdout",
     "output_type": "stream",
     "text": [
      "Ghost_Story\n"
     ]
    },
    {
     "name": "stderr",
     "output_type": "stream",
     "text": [
      "\r",
      " 86%|██████████████████████████████████████████████████████████████████████▍           | 55/64 [17:06<02:19, 15.45s/it]"
     ]
    },
    {
     "name": "stdout",
     "output_type": "stream",
     "text": [
      "Shadowland\n"
     ]
    },
    {
     "name": "stderr",
     "output_type": "stream",
     "text": [
      "\r",
      " 88%|███████████████████████████████████████████████████████████████████████▊          | 56/64 [17:25<02:12, 16.53s/it]"
     ]
    },
    {
     "name": "stdout",
     "output_type": "stream",
     "text": [
      "Floating_Dragon\n"
     ]
    },
    {
     "name": "stderr",
     "output_type": "stream",
     "text": [
      "\r",
      " 89%|█████████████████████████████████████████████████████████████████████████         | 57/64 [17:52<02:16, 19.48s/it]"
     ]
    },
    {
     "name": "stdout",
     "output_type": "stream",
     "text": [
      "Koko\n"
     ]
    },
    {
     "name": "stderr",
     "output_type": "stream",
     "text": [
      "\r",
      " 91%|██████████████████████████████████████████████████████████████████████████▎       | 58/64 [18:16<02:05, 20.87s/it]"
     ]
    },
    {
     "name": "stdout",
     "output_type": "stream",
     "text": [
      "Mystery\n"
     ]
    },
    {
     "name": "stderr",
     "output_type": "stream",
     "text": [
      "\r",
      " 92%|███████████████████████████████████████████████████████████████████████████▌      | 59/64 [18:37<01:44, 20.93s/it]"
     ]
    },
    {
     "name": "stdout",
     "output_type": "stream",
     "text": [
      "The_Throat\n"
     ]
    },
    {
     "name": "stderr",
     "output_type": "stream",
     "text": [
      "\r",
      " 94%|████████████████████████████████████████████████████████████████████████████▉     | 60/64 [19:08<01:36, 24.08s/it]"
     ]
    },
    {
     "name": "stdout",
     "output_type": "stream",
     "text": [
      "Hellfire_Club\n"
     ]
    },
    {
     "name": "stderr",
     "output_type": "stream",
     "text": [
      "\r",
      " 95%|██████████████████████████████████████████████████████████████████████████████▏   | 61/64 [19:33<01:13, 24.34s/it]"
     ]
    },
    {
     "name": "stdout",
     "output_type": "stream",
     "text": [
      "Mr_X\n"
     ]
    },
    {
     "name": "stderr",
     "output_type": "stream",
     "text": [
      "\r",
      " 97%|███████████████████████████████████████████████████████████████████████████████▍  | 62/64 [19:57<00:48, 24.29s/it]"
     ]
    },
    {
     "name": "stdout",
     "output_type": "stream",
     "text": [
      "Lost_Boy_Lost_Girl\n"
     ]
    },
    {
     "name": "stderr",
     "output_type": "stream",
     "text": [
      "\r",
      " 98%|████████████████████████████████████████████████████████████████████████████████▋ | 63/64 [20:09<00:20, 20.52s/it]"
     ]
    },
    {
     "name": "stdout",
     "output_type": "stream",
     "text": [
      "In_The_Night_Room\n"
     ]
    },
    {
     "name": "stderr",
     "output_type": "stream",
     "text": [
      "100%|██████████████████████████████████████████████████████████████████████████████████| 64/64 [20:23<00:00, 19.12s/it]\n"
     ]
    }
   ],
   "source": [
    "titles_docs = {}\n",
    "\n",
    "\n",
    "for title in tqdm(titles): \n",
    "    print(title)\n",
    "    docs = []\n",
    "    for file in os.listdir():\n",
    "        if file.endswith(\".txt\") and title == file.split('-')[2].split('.')[0]:\n",
    "            with open(file, encoding='utf8') as f:\n",
    "                contents = f.read()\n",
    "                titles_docs[title] = nlp(contents)\n"
   ]
  },
  {
   "cell_type": "markdown",
   "id": "0fd61cc2",
   "metadata": {},
   "source": [
    "# 3. Count entities in randomly-sampled 10,000-token segments"
   ]
  },
  {
   "cell_type": "code",
   "execution_count": 31,
   "id": "a461f3a6",
   "metadata": {},
   "outputs": [
    {
     "name": "stderr",
     "output_type": "stream",
     "text": [
      "100%|████████████████████████████████████████████████████████████████████████████████| 100/100 [07:47<00:00,  4.68s/it]\n",
      "100%|████████████████████████████████████████████████████████████████████████████████| 100/100 [06:31<00:00,  3.91s/it]\n",
      "100%|████████████████████████████████████████████████████████████████████████████████| 100/100 [04:03<00:00,  2.43s/it]\n",
      "100%|████████████████████████████████████████████████████████████████████████████████| 100/100 [06:23<00:00,  3.84s/it]\n",
      "100%|████████████████████████████████████████████████████████████████████████████████| 100/100 [04:57<00:00,  2.97s/it]\n",
      "100%|████████████████████████████████████████████████████████████████████████████████| 100/100 [08:18<00:00,  4.98s/it]\n",
      "100%|████████████████████████████████████████████████████████████████████████████████| 100/100 [08:31<00:00,  5.12s/it]\n",
      "100%|████████████████████████████████████████████████████████████████████████████████| 100/100 [08:47<00:00,  5.27s/it]\n",
      "100%|████████████████████████████████████████████████████████████████████████████████| 100/100 [07:33<00:00,  4.53s/it]\n",
      "100%|████████████████████████████████████████████████████████████████████████████████| 100/100 [06:30<00:00,  3.91s/it]\n",
      "100%|████████████████████████████████████████████████████████████████████████████████| 100/100 [10:18<00:00,  6.19s/it]\n",
      "100%|████████████████████████████████████████████████████████████████████████████████| 100/100 [05:37<00:00,  3.37s/it]\n",
      "100%|████████████████████████████████████████████████████████████████████████████████| 100/100 [04:40<00:00,  2.80s/it]\n",
      "100%|████████████████████████████████████████████████████████████████████████████████| 100/100 [11:53<00:00,  7.14s/it]\n",
      "100%|████████████████████████████████████████████████████████████████████████████████| 100/100 [11:24<00:00,  6.84s/it]\n",
      "100%|████████████████████████████████████████████████████████████████████████████████| 100/100 [39:14<00:00, 23.54s/it]\n",
      "100%|████████████████████████████████████████████████████████████████████████████████| 100/100 [11:54<00:00,  7.14s/it]\n",
      "100%|████████████████████████████████████████████████████████████████████████████████| 100/100 [20:38<00:00, 12.39s/it]\n",
      "100%|████████████████████████████████████████████████████████████████████████████████| 100/100 [16:56<00:00, 10.16s/it]\n",
      "100%|████████████████████████████████████████████████████████████████████████████████| 100/100 [07:39<00:00,  4.59s/it]\n",
      "100%|████████████████████████████████████████████████████████████████████████████████| 100/100 [10:47<00:00,  6.47s/it]\n",
      "100%|████████████████████████████████████████████████████████████████████████████████| 100/100 [20:38<00:00, 12.38s/it]\n",
      "100%|████████████████████████████████████████████████████████████████████████████████| 100/100 [13:00<00:00,  7.81s/it]\n",
      "100%|████████████████████████████████████████████████████████████████████████████████| 100/100 [02:57<00:00,  1.78s/it]\n",
      "100%|████████████████████████████████████████████████████████████████████████████████| 100/100 [17:56<00:00, 10.76s/it]\n",
      "100%|████████████████████████████████████████████████████████████████████████████████| 100/100 [08:43<00:00,  5.24s/it]\n",
      "100%|████████████████████████████████████████████████████████████████████████████████| 100/100 [23:27<00:00, 14.08s/it]\n",
      "100%|████████████████████████████████████████████████████████████████████████████████| 100/100 [11:03<00:00,  6.64s/it]\n",
      "100%|████████████████████████████████████████████████████████████████████████████████| 100/100 [22:43<00:00, 13.63s/it]\n",
      "100%|████████████████████████████████████████████████████████████████████████████████| 100/100 [03:14<00:00,  1.94s/it]\n",
      "100%|████████████████████████████████████████████████████████████████████████████████| 100/100 [09:47<00:00,  5.88s/it]\n",
      "100%|████████████████████████████████████████████████████████████████████████████████| 100/100 [13:14<00:00,  7.95s/it]\n",
      "100%|████████████████████████████████████████████████████████████████████████████████| 100/100 [01:38<00:00,  1.02it/s]\n",
      "100%|████████████████████████████████████████████████████████████████████████████████| 100/100 [01:55<00:00,  1.15s/it]\n",
      "100%|████████████████████████████████████████████████████████████████████████████████| 100/100 [02:56<00:00,  1.76s/it]\n",
      "100%|████████████████████████████████████████████████████████████████████████████████| 100/100 [05:38<00:00,  3.39s/it]\n",
      "100%|████████████████████████████████████████████████████████████████████████████████| 100/100 [06:44<00:00,  4.05s/it]\n",
      "100%|████████████████████████████████████████████████████████████████████████████████| 100/100 [03:24<00:00,  2.05s/it]\n",
      "100%|████████████████████████████████████████████████████████████████████████████████| 100/100 [10:54<00:00,  6.55s/it]\n",
      "100%|████████████████████████████████████████████████████████████████████████████████| 100/100 [04:47<00:00,  2.87s/it]\n",
      "100%|████████████████████████████████████████████████████████████████████████████████| 100/100 [08:45<00:00,  5.25s/it]\n",
      "100%|████████████████████████████████████████████████████████████████████████████████| 100/100 [19:54<00:00, 11.95s/it]\n",
      "100%|████████████████████████████████████████████████████████████████████████████████| 100/100 [09:57<00:00,  5.98s/it]\n",
      "100%|████████████████████████████████████████████████████████████████████████████████| 100/100 [08:35<00:00,  5.16s/it]\n",
      "100%|████████████████████████████████████████████████████████████████████████████████| 100/100 [05:21<00:00,  3.22s/it]\n",
      "100%|████████████████████████████████████████████████████████████████████████████████| 100/100 [05:29<00:00,  3.30s/it]\n",
      "100%|████████████████████████████████████████████████████████████████████████████████| 100/100 [05:16<00:00,  3.16s/it]\n",
      "100%|████████████████████████████████████████████████████████████████████████████████| 100/100 [14:25<00:00,  8.65s/it]\n",
      "100%|████████████████████████████████████████████████████████████████████████████████| 100/100 [06:32<00:00,  3.93s/it]\n",
      "100%|████████████████████████████████████████████████████████████████████████████████| 100/100 [03:35<00:00,  2.16s/it]\n",
      "100%|████████████████████████████████████████████████████████████████████████████████| 100/100 [04:08<00:00,  2.48s/it]\n",
      "100%|████████████████████████████████████████████████████████████████████████████████| 100/100 [04:02<00:00,  2.43s/it]\n",
      "100%|████████████████████████████████████████████████████████████████████████████████| 100/100 [05:06<00:00,  3.06s/it]\n",
      "100%|████████████████████████████████████████████████████████████████████████████████| 100/100 [04:37<00:00,  2.78s/it]\n",
      "100%|████████████████████████████████████████████████████████████████████████████████| 100/100 [13:59<00:00,  8.40s/it]\n",
      "100%|████████████████████████████████████████████████████████████████████████████████| 100/100 [09:39<00:00,  5.79s/it]\n",
      "100%|████████████████████████████████████████████████████████████████████████████████| 100/100 [19:51<00:00, 11.92s/it]\n",
      "100%|████████████████████████████████████████████████████████████████████████████████| 100/100 [17:57<00:00, 10.78s/it]\n",
      "100%|████████████████████████████████████████████████████████████████████████████████| 100/100 [13:19<00:00,  7.99s/it]\n",
      "100%|████████████████████████████████████████████████████████████████████████████████| 100/100 [18:06<00:00, 10.86s/it]\n",
      "100%|████████████████████████████████████████████████████████████████████████████████| 100/100 [14:23<00:00,  8.63s/it]\n",
      "100%|████████████████████████████████████████████████████████████████████████████████| 100/100 [13:23<00:00,  8.04s/it]\n",
      "100%|████████████████████████████████████████████████████████████████████████████████| 100/100 [05:46<00:00,  3.47s/it]\n",
      "100%|████████████████████████████████████████████████████████████████████████████████| 100/100 [06:41<00:00,  4.01s/it]\n"
     ]
    }
   ],
   "source": [
    "n_iterations = 100\n",
    "segment_length = 10000\n",
    "\n",
    "iteration = [i for i in range(0, n_iterations)]\n",
    "multi_index = pd.MultiIndex.from_product([titles, iteration], names=('book_title', 'iteration'))\n",
    "\n",
    "books_entity_counts = pd.DataFrame(index = multi_index, columns=['entity_count'])\n",
    "books_entity_counts.entity_count = books_entity_counts.entity_count.fillna(0)\n",
    "\n",
    "\n",
    "for title in titles: \n",
    "    for iteration in tqdm(range(0, n_iterations)):\n",
    "        entity_count = 0\n",
    "        doc = titles_docs[title]\n",
    "        random_start_ix = random.randint(0, len(doc)-segment_length-1)\n",
    "        segment_doc = doc[random_start_ix : random_start_ix+segment_length]\n",
    "        for entity in bachman_entities: \n",
    "            for ent in segment_doc.ents:\n",
    "                if entity == clean_quotes(ent.text.lower()):\n",
    "                    entity_count += 1\n",
    "        books_entity_counts.loc[title, iteration] = entity_count"
   ]
  },
  {
   "cell_type": "code",
   "execution_count": 32,
   "id": "3f9d9221",
   "metadata": {},
   "outputs": [
    {
     "data": {
      "text/html": [
       "<div>\n",
       "<style scoped>\n",
       "    .dataframe tbody tr th:only-of-type {\n",
       "        vertical-align: middle;\n",
       "    }\n",
       "\n",
       "    .dataframe tbody tr th {\n",
       "        vertical-align: top;\n",
       "    }\n",
       "\n",
       "    .dataframe thead th {\n",
       "        text-align: right;\n",
       "    }\n",
       "</style>\n",
       "<table border=\"1\" class=\"dataframe\">\n",
       "  <thead>\n",
       "    <tr style=\"text-align: right;\">\n",
       "      <th></th>\n",
       "      <th></th>\n",
       "      <th>entity_count</th>\n",
       "    </tr>\n",
       "    <tr>\n",
       "      <th>book_title</th>\n",
       "      <th>iteration</th>\n",
       "      <th></th>\n",
       "    </tr>\n",
       "  </thead>\n",
       "  <tbody>\n",
       "    <tr>\n",
       "      <th rowspan=\"5\" valign=\"top\">The_Long_Walk</th>\n",
       "      <th>0</th>\n",
       "      <td>3</td>\n",
       "    </tr>\n",
       "    <tr>\n",
       "      <th>1</th>\n",
       "      <td>1</td>\n",
       "    </tr>\n",
       "    <tr>\n",
       "      <th>2</th>\n",
       "      <td>1</td>\n",
       "    </tr>\n",
       "    <tr>\n",
       "      <th>3</th>\n",
       "      <td>2</td>\n",
       "    </tr>\n",
       "    <tr>\n",
       "      <th>4</th>\n",
       "      <td>1</td>\n",
       "    </tr>\n",
       "    <tr>\n",
       "      <th>...</th>\n",
       "      <th>...</th>\n",
       "      <td>...</td>\n",
       "    </tr>\n",
       "    <tr>\n",
       "      <th rowspan=\"5\" valign=\"top\">In_The_Night_Room</th>\n",
       "      <th>95</th>\n",
       "      <td>0</td>\n",
       "    </tr>\n",
       "    <tr>\n",
       "      <th>96</th>\n",
       "      <td>6</td>\n",
       "    </tr>\n",
       "    <tr>\n",
       "      <th>97</th>\n",
       "      <td>11</td>\n",
       "    </tr>\n",
       "    <tr>\n",
       "      <th>98</th>\n",
       "      <td>3</td>\n",
       "    </tr>\n",
       "    <tr>\n",
       "      <th>99</th>\n",
       "      <td>3</td>\n",
       "    </tr>\n",
       "  </tbody>\n",
       "</table>\n",
       "<p>6400 rows × 1 columns</p>\n",
       "</div>"
      ],
      "text/plain": [
       "                             entity_count\n",
       "book_title        iteration              \n",
       "The_Long_Walk     0                     3\n",
       "                  1                     1\n",
       "                  2                     1\n",
       "                  3                     2\n",
       "                  4                     1\n",
       "...                                   ...\n",
       "In_The_Night_Room 95                    0\n",
       "                  96                    6\n",
       "                  97                   11\n",
       "                  98                    3\n",
       "                  99                    3\n",
       "\n",
       "[6400 rows x 1 columns]"
      ]
     },
     "execution_count": 32,
     "metadata": {},
     "output_type": "execute_result"
    }
   ],
   "source": [
    "books_entity_counts"
   ]
  },
  {
   "cell_type": "code",
   "execution_count": 33,
   "id": "22b57ef8",
   "metadata": {},
   "outputs": [],
   "source": [
    "titles_authors = pd.DataFrame({\"title\": titles,\n",
    "                              \"author\": authors })\n",
    "entity_counts_books_authors = pd.merge(books_entity_counts.reset_index(), \n",
    "                                       titles_authors.reset_index(), \n",
    "                                       left_on='book_title', \n",
    "                                       right_on='title', \n",
    "                                       how='left' )[['author', 'book_title', 'iteration', 'entity_count']]\n"
   ]
  },
  {
   "cell_type": "code",
   "execution_count": 34,
   "id": "63c71865",
   "metadata": {},
   "outputs": [
    {
     "data": {
      "text/html": [
       "<div>\n",
       "<style scoped>\n",
       "    .dataframe tbody tr th:only-of-type {\n",
       "        vertical-align: middle;\n",
       "    }\n",
       "\n",
       "    .dataframe tbody tr th {\n",
       "        vertical-align: top;\n",
       "    }\n",
       "\n",
       "    .dataframe thead th {\n",
       "        text-align: right;\n",
       "    }\n",
       "</style>\n",
       "<table border=\"1\" class=\"dataframe\">\n",
       "  <thead>\n",
       "    <tr style=\"text-align: right;\">\n",
       "      <th></th>\n",
       "      <th>author</th>\n",
       "      <th>book_title</th>\n",
       "      <th>iteration</th>\n",
       "      <th>entity_count</th>\n",
       "    </tr>\n",
       "  </thead>\n",
       "  <tbody>\n",
       "    <tr>\n",
       "      <th>0</th>\n",
       "      <td>bachman</td>\n",
       "      <td>The_Long_Walk</td>\n",
       "      <td>0</td>\n",
       "      <td>3</td>\n",
       "    </tr>\n",
       "    <tr>\n",
       "      <th>1</th>\n",
       "      <td>bachman</td>\n",
       "      <td>The_Long_Walk</td>\n",
       "      <td>1</td>\n",
       "      <td>1</td>\n",
       "    </tr>\n",
       "    <tr>\n",
       "      <th>2</th>\n",
       "      <td>bachman</td>\n",
       "      <td>The_Long_Walk</td>\n",
       "      <td>2</td>\n",
       "      <td>1</td>\n",
       "    </tr>\n",
       "    <tr>\n",
       "      <th>3</th>\n",
       "      <td>bachman</td>\n",
       "      <td>The_Long_Walk</td>\n",
       "      <td>3</td>\n",
       "      <td>2</td>\n",
       "    </tr>\n",
       "    <tr>\n",
       "      <th>4</th>\n",
       "      <td>bachman</td>\n",
       "      <td>The_Long_Walk</td>\n",
       "      <td>4</td>\n",
       "      <td>1</td>\n",
       "    </tr>\n",
       "    <tr>\n",
       "      <th>...</th>\n",
       "      <td>...</td>\n",
       "      <td>...</td>\n",
       "      <td>...</td>\n",
       "      <td>...</td>\n",
       "    </tr>\n",
       "    <tr>\n",
       "      <th>6395</th>\n",
       "      <td>straub</td>\n",
       "      <td>In_The_Night_Room</td>\n",
       "      <td>95</td>\n",
       "      <td>0</td>\n",
       "    </tr>\n",
       "    <tr>\n",
       "      <th>6396</th>\n",
       "      <td>straub</td>\n",
       "      <td>In_The_Night_Room</td>\n",
       "      <td>96</td>\n",
       "      <td>6</td>\n",
       "    </tr>\n",
       "    <tr>\n",
       "      <th>6397</th>\n",
       "      <td>straub</td>\n",
       "      <td>In_The_Night_Room</td>\n",
       "      <td>97</td>\n",
       "      <td>11</td>\n",
       "    </tr>\n",
       "    <tr>\n",
       "      <th>6398</th>\n",
       "      <td>straub</td>\n",
       "      <td>In_The_Night_Room</td>\n",
       "      <td>98</td>\n",
       "      <td>3</td>\n",
       "    </tr>\n",
       "    <tr>\n",
       "      <th>6399</th>\n",
       "      <td>straub</td>\n",
       "      <td>In_The_Night_Room</td>\n",
       "      <td>99</td>\n",
       "      <td>3</td>\n",
       "    </tr>\n",
       "  </tbody>\n",
       "</table>\n",
       "<p>6400 rows × 4 columns</p>\n",
       "</div>"
      ],
      "text/plain": [
       "       author         book_title  iteration  entity_count\n",
       "0     bachman      The_Long_Walk          0             3\n",
       "1     bachman      The_Long_Walk          1             1\n",
       "2     bachman      The_Long_Walk          2             1\n",
       "3     bachman      The_Long_Walk          3             2\n",
       "4     bachman      The_Long_Walk          4             1\n",
       "...       ...                ...        ...           ...\n",
       "6395   straub  In_The_Night_Room         95             0\n",
       "6396   straub  In_The_Night_Room         96             6\n",
       "6397   straub  In_The_Night_Room         97            11\n",
       "6398   straub  In_The_Night_Room         98             3\n",
       "6399   straub  In_The_Night_Room         99             3\n",
       "\n",
       "[6400 rows x 4 columns]"
      ]
     },
     "execution_count": 34,
     "metadata": {},
     "output_type": "execute_result"
    }
   ],
   "source": [
    "entity_counts_books_authors"
   ]
  },
  {
   "cell_type": "code",
   "execution_count": 35,
   "id": "54255a3f",
   "metadata": {},
   "outputs": [
    {
     "data": {
      "text/html": [
       "<div>\n",
       "<style scoped>\n",
       "    .dataframe tbody tr th:only-of-type {\n",
       "        vertical-align: middle;\n",
       "    }\n",
       "\n",
       "    .dataframe tbody tr th {\n",
       "        vertical-align: top;\n",
       "    }\n",
       "\n",
       "    .dataframe thead th {\n",
       "        text-align: right;\n",
       "    }\n",
       "</style>\n",
       "<table border=\"1\" class=\"dataframe\">\n",
       "  <thead>\n",
       "    <tr style=\"text-align: right;\">\n",
       "      <th></th>\n",
       "      <th>author</th>\n",
       "      <th>book_title</th>\n",
       "      <th>iteration</th>\n",
       "      <th>entity_count</th>\n",
       "    </tr>\n",
       "  </thead>\n",
       "  <tbody>\n",
       "    <tr>\n",
       "      <th>0</th>\n",
       "      <td>bachman</td>\n",
       "      <td>The_Long_Walk</td>\n",
       "      <td>0</td>\n",
       "      <td>3</td>\n",
       "    </tr>\n",
       "    <tr>\n",
       "      <th>1</th>\n",
       "      <td>bachman</td>\n",
       "      <td>The_Long_Walk</td>\n",
       "      <td>1</td>\n",
       "      <td>1</td>\n",
       "    </tr>\n",
       "    <tr>\n",
       "      <th>2</th>\n",
       "      <td>bachman</td>\n",
       "      <td>The_Long_Walk</td>\n",
       "      <td>2</td>\n",
       "      <td>1</td>\n",
       "    </tr>\n",
       "    <tr>\n",
       "      <th>3</th>\n",
       "      <td>bachman</td>\n",
       "      <td>The_Long_Walk</td>\n",
       "      <td>3</td>\n",
       "      <td>2</td>\n",
       "    </tr>\n",
       "    <tr>\n",
       "      <th>4</th>\n",
       "      <td>bachman</td>\n",
       "      <td>The_Long_Walk</td>\n",
       "      <td>4</td>\n",
       "      <td>1</td>\n",
       "    </tr>\n",
       "    <tr>\n",
       "      <th>...</th>\n",
       "      <td>...</td>\n",
       "      <td>...</td>\n",
       "      <td>...</td>\n",
       "      <td>...</td>\n",
       "    </tr>\n",
       "    <tr>\n",
       "      <th>6395</th>\n",
       "      <td>straub</td>\n",
       "      <td>In_The_Night_Room</td>\n",
       "      <td>95</td>\n",
       "      <td>0</td>\n",
       "    </tr>\n",
       "    <tr>\n",
       "      <th>6396</th>\n",
       "      <td>straub</td>\n",
       "      <td>In_The_Night_Room</td>\n",
       "      <td>96</td>\n",
       "      <td>6</td>\n",
       "    </tr>\n",
       "    <tr>\n",
       "      <th>6397</th>\n",
       "      <td>straub</td>\n",
       "      <td>In_The_Night_Room</td>\n",
       "      <td>97</td>\n",
       "      <td>11</td>\n",
       "    </tr>\n",
       "    <tr>\n",
       "      <th>6398</th>\n",
       "      <td>straub</td>\n",
       "      <td>In_The_Night_Room</td>\n",
       "      <td>98</td>\n",
       "      <td>3</td>\n",
       "    </tr>\n",
       "    <tr>\n",
       "      <th>6399</th>\n",
       "      <td>straub</td>\n",
       "      <td>In_The_Night_Room</td>\n",
       "      <td>99</td>\n",
       "      <td>3</td>\n",
       "    </tr>\n",
       "  </tbody>\n",
       "</table>\n",
       "<p>6400 rows × 4 columns</p>\n",
       "</div>"
      ],
      "text/plain": [
       "       author         book_title  iteration  entity_count\n",
       "0     bachman      The_Long_Walk          0             3\n",
       "1     bachman      The_Long_Walk          1             1\n",
       "2     bachman      The_Long_Walk          2             1\n",
       "3     bachman      The_Long_Walk          3             2\n",
       "4     bachman      The_Long_Walk          4             1\n",
       "...       ...                ...        ...           ...\n",
       "6395   straub  In_The_Night_Room         95             0\n",
       "6396   straub  In_The_Night_Room         96             6\n",
       "6397   straub  In_The_Night_Room         97            11\n",
       "6398   straub  In_The_Night_Room         98             3\n",
       "6399   straub  In_The_Night_Room         99             3\n",
       "\n",
       "[6400 rows x 4 columns]"
      ]
     },
     "execution_count": 35,
     "metadata": {},
     "output_type": "execute_result"
    }
   ],
   "source": [
    "entity_counts_books_authors.to_csv(\"pop_culture_refs_counts_books_10000token_segments.csv\")\n",
    "entity_counts_books_authors"
   ]
  },
  {
   "cell_type": "markdown",
   "id": "2d902d3d",
   "metadata": {},
   "source": [
    "# 4. Descriptive statistics of entity counts"
   ]
  },
  {
   "cell_type": "code",
   "execution_count": 36,
   "id": "2d916e26",
   "metadata": {},
   "outputs": [],
   "source": [
    "df = pd.read_csv(\"pop_culture_refs_counts_books_10000token_segments.csv\")\n",
    "grouped = df.groupby([\"author\", \"book_title\"])['entity_count'].agg([np.mean, np.median, np.min, np.max, np.std])\n",
    "grouped.to_csv(\"descriptive_stats_entity_counts.csv\")"
   ]
  },
  {
   "cell_type": "code",
   "execution_count": 37,
   "id": "285fbc64",
   "metadata": {},
   "outputs": [
    {
     "data": {
      "text/html": [
       "<div>\n",
       "<style scoped>\n",
       "    .dataframe tbody tr th:only-of-type {\n",
       "        vertical-align: middle;\n",
       "    }\n",
       "\n",
       "    .dataframe tbody tr th {\n",
       "        vertical-align: top;\n",
       "    }\n",
       "\n",
       "    .dataframe thead th {\n",
       "        text-align: right;\n",
       "    }\n",
       "</style>\n",
       "<table border=\"1\" class=\"dataframe\">\n",
       "  <thead>\n",
       "    <tr style=\"text-align: right;\">\n",
       "      <th></th>\n",
       "      <th>Unnamed: 0</th>\n",
       "      <th>author</th>\n",
       "      <th>book_title</th>\n",
       "      <th>iteration</th>\n",
       "      <th>entity_count</th>\n",
       "    </tr>\n",
       "  </thead>\n",
       "  <tbody>\n",
       "    <tr>\n",
       "      <th>0</th>\n",
       "      <td>0</td>\n",
       "      <td>Bachman</td>\n",
       "      <td>The Long Walk</td>\n",
       "      <td>0</td>\n",
       "      <td>3</td>\n",
       "    </tr>\n",
       "    <tr>\n",
       "      <th>1</th>\n",
       "      <td>1</td>\n",
       "      <td>Bachman</td>\n",
       "      <td>The Long Walk</td>\n",
       "      <td>1</td>\n",
       "      <td>1</td>\n",
       "    </tr>\n",
       "    <tr>\n",
       "      <th>2</th>\n",
       "      <td>2</td>\n",
       "      <td>Bachman</td>\n",
       "      <td>The Long Walk</td>\n",
       "      <td>2</td>\n",
       "      <td>1</td>\n",
       "    </tr>\n",
       "    <tr>\n",
       "      <th>3</th>\n",
       "      <td>3</td>\n",
       "      <td>Bachman</td>\n",
       "      <td>The Long Walk</td>\n",
       "      <td>3</td>\n",
       "      <td>2</td>\n",
       "    </tr>\n",
       "    <tr>\n",
       "      <th>4</th>\n",
       "      <td>4</td>\n",
       "      <td>Bachman</td>\n",
       "      <td>The Long Walk</td>\n",
       "      <td>4</td>\n",
       "      <td>1</td>\n",
       "    </tr>\n",
       "    <tr>\n",
       "      <th>...</th>\n",
       "      <td>...</td>\n",
       "      <td>...</td>\n",
       "      <td>...</td>\n",
       "      <td>...</td>\n",
       "      <td>...</td>\n",
       "    </tr>\n",
       "    <tr>\n",
       "      <th>6395</th>\n",
       "      <td>6395</td>\n",
       "      <td>Straub</td>\n",
       "      <td>In The Night Room</td>\n",
       "      <td>95</td>\n",
       "      <td>0</td>\n",
       "    </tr>\n",
       "    <tr>\n",
       "      <th>6396</th>\n",
       "      <td>6396</td>\n",
       "      <td>Straub</td>\n",
       "      <td>In The Night Room</td>\n",
       "      <td>96</td>\n",
       "      <td>6</td>\n",
       "    </tr>\n",
       "    <tr>\n",
       "      <th>6397</th>\n",
       "      <td>6397</td>\n",
       "      <td>Straub</td>\n",
       "      <td>In The Night Room</td>\n",
       "      <td>97</td>\n",
       "      <td>11</td>\n",
       "    </tr>\n",
       "    <tr>\n",
       "      <th>6398</th>\n",
       "      <td>6398</td>\n",
       "      <td>Straub</td>\n",
       "      <td>In The Night Room</td>\n",
       "      <td>98</td>\n",
       "      <td>3</td>\n",
       "    </tr>\n",
       "    <tr>\n",
       "      <th>6399</th>\n",
       "      <td>6399</td>\n",
       "      <td>Straub</td>\n",
       "      <td>In The Night Room</td>\n",
       "      <td>99</td>\n",
       "      <td>3</td>\n",
       "    </tr>\n",
       "  </tbody>\n",
       "</table>\n",
       "<p>6400 rows × 5 columns</p>\n",
       "</div>"
      ],
      "text/plain": [
       "      Unnamed: 0   author         book_title  iteration  entity_count\n",
       "0              0  Bachman      The Long Walk          0             3\n",
       "1              1  Bachman      The Long Walk          1             1\n",
       "2              2  Bachman      The Long Walk          2             1\n",
       "3              3  Bachman      The Long Walk          3             2\n",
       "4              4  Bachman      The Long Walk          4             1\n",
       "...          ...      ...                ...        ...           ...\n",
       "6395        6395   Straub  In The Night Room         95             0\n",
       "6396        6396   Straub  In The Night Room         96             6\n",
       "6397        6397   Straub  In The Night Room         97            11\n",
       "6398        6398   Straub  In The Night Room         98             3\n",
       "6399        6399   Straub  In The Night Room         99             3\n",
       "\n",
       "[6400 rows x 5 columns]"
      ]
     },
     "execution_count": 37,
     "metadata": {},
     "output_type": "execute_result"
    }
   ],
   "source": [
    "df.book_title=df.book_title.str.replace(\"_\", \" \");\n",
    "df.author=df.author.str.capitalize()\n",
    "df"
   ]
  },
  {
   "cell_type": "code",
   "execution_count": 38,
   "id": "3bbc0888",
   "metadata": {},
   "outputs": [
    {
     "data": {
      "text/html": [
       "<div>\n",
       "<style scoped>\n",
       "    .dataframe tbody tr th:only-of-type {\n",
       "        vertical-align: middle;\n",
       "    }\n",
       "\n",
       "    .dataframe tbody tr th {\n",
       "        vertical-align: top;\n",
       "    }\n",
       "\n",
       "    .dataframe thead th {\n",
       "        text-align: right;\n",
       "    }\n",
       "</style>\n",
       "<table border=\"1\" class=\"dataframe\">\n",
       "  <thead>\n",
       "    <tr style=\"text-align: right;\">\n",
       "      <th></th>\n",
       "      <th>mean</th>\n",
       "      <th>median</th>\n",
       "      <th>amin</th>\n",
       "      <th>amax</th>\n",
       "      <th>std</th>\n",
       "    </tr>\n",
       "    <tr>\n",
       "      <th>author</th>\n",
       "      <th></th>\n",
       "      <th></th>\n",
       "      <th></th>\n",
       "      <th></th>\n",
       "      <th></th>\n",
       "    </tr>\n",
       "  </thead>\n",
       "  <tbody>\n",
       "    <tr>\n",
       "      <th>Bachman</th>\n",
       "      <td>10.497143</td>\n",
       "      <td>6.0</td>\n",
       "      <td>0</td>\n",
       "      <td>51</td>\n",
       "      <td>10.946808</td>\n",
       "    </tr>\n",
       "    <tr>\n",
       "      <th>Harris</th>\n",
       "      <td>1.876000</td>\n",
       "      <td>1.0</td>\n",
       "      <td>0</td>\n",
       "      <td>10</td>\n",
       "      <td>1.981028</td>\n",
       "    </tr>\n",
       "    <tr>\n",
       "      <th>King</th>\n",
       "      <td>3.646000</td>\n",
       "      <td>2.0</td>\n",
       "      <td>0</td>\n",
       "      <td>29</td>\n",
       "      <td>3.968319</td>\n",
       "    </tr>\n",
       "    <tr>\n",
       "      <th>Koontz</th>\n",
       "      <td>3.272500</td>\n",
       "      <td>2.0</td>\n",
       "      <td>0</td>\n",
       "      <td>33</td>\n",
       "      <td>4.225420</td>\n",
       "    </tr>\n",
       "    <tr>\n",
       "      <th>Straub</th>\n",
       "      <td>1.887500</td>\n",
       "      <td>1.0</td>\n",
       "      <td>0</td>\n",
       "      <td>16</td>\n",
       "      <td>2.310691</td>\n",
       "    </tr>\n",
       "  </tbody>\n",
       "</table>\n",
       "</div>"
      ],
      "text/plain": [
       "              mean  median  amin  amax        std\n",
       "author                                           \n",
       "Bachman  10.497143     6.0     0    51  10.946808\n",
       "Harris    1.876000     1.0     0    10   1.981028\n",
       "King      3.646000     2.0     0    29   3.968319\n",
       "Koontz    3.272500     2.0     0    33   4.225420\n",
       "Straub    1.887500     1.0     0    16   2.310691"
      ]
     },
     "execution_count": 38,
     "metadata": {},
     "output_type": "execute_result"
    }
   ],
   "source": [
    "df.groupby([\"author\"])['entity_count'].agg([np.mean, np.median, np.min, np.max, np.std])"
   ]
  },
  {
   "cell_type": "code",
   "execution_count": 39,
   "id": "d02e6300",
   "metadata": {},
   "outputs": [
    {
     "data": {
      "text/plain": [
       "[Text(0, 0.5, 'Book Title'), Text(0.5, 0, 'Pop Culture Reference Count')]"
      ]
     },
     "execution_count": 39,
     "metadata": {},
     "output_type": "execute_result"
    },
    {
     "data": {
      "image/png": "[encoded data removed]",
      "text/plain": [
       "<Figure size 720x1440 with 1 Axes>"
      ]
     },
     "metadata": {},
     "output_type": "display_data"
    }
   ],
   "source": [
    "sns.set(rc={'figure.figsize':(10,20)})\n",
    "sns.boxplot(x=df['entity_count'], y=df['book_title'], hue=df['author'], dodge=False).set(ylabel=\"Book Title\", xlabel=\"Pop Culture Reference Count\")"
   ]
  }
 ],
 "metadata": {
  "kernelspec": {
   "display_name": "Python 3 (ipykernel)",
   "language": "python",
   "name": "python3"
  },
  "language_info": {
   "codemirror_mode": {
    "name": "ipython",
    "version": 3
   },
   "file_extension": ".py",
   "mimetype": "text/x-python",
   "name": "python",
   "nbconvert_exporter": "python",
   "pygments_lexer": "ipython3",
   "version": "3.9.12"
  }
 },
 "nbformat": 4,
 "nbformat_minor": 5
}
