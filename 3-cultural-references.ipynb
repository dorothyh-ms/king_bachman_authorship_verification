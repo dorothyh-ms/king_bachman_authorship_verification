{
 "cells": [
  {
   "cell_type": "markdown",
   "id": "65793139",
   "metadata": {},
   "source": [
    "# 1. Load cultural references"
   ]
  },
  {
   "cell_type": "code",
   "execution_count": 1,
   "id": "ff7db367",
   "metadata": {},
   "outputs": [],
   "source": [
    "import pandas as pd\n",
    "import os\n",
    "import spacy\n",
    "from tqdm import tqdm\n",
    "import seaborn as sns\n",
    "import numpy as np\n",
    "nlp = spacy.load('en_core_web_sm')\n",
    "nlp.max_length = 3000000\n",
    "import random\n",
    "os.chdir(top_dir)\n",
    "\n",
    "\n",
    "import matplotlib.pyplot as plt"
   ]
  },
  {
   "cell_type": "code",
   "execution_count": 2,
   "id": "9d56dcfb",
   "metadata": {},
   "outputs": [],
   "source": [
    "authors=['bachman','harris', 'straub', 'koontz', 'king']\n",
    "with open(\"bachman_all-cultural-references.txt\", encoding='utf8') as f:\n",
    "    entities = f.readlines()"
   ]
  },
  {
   "cell_type": "code",
   "execution_count": 3,
   "id": "e9091900",
   "metadata": {},
   "outputs": [
    {
     "data": {
      "text/plain": [
       "\"A&S Tires, A. Gordon Pym, AP wire, Abdul Allhazred, Adreizi Brothers, Agatha Christie, Ahab, Albert Einstein, Alfie, Alligators All Around, American Express, Amoco, Amos ’n Andy, Amway, Anacin, Anaïs, And Justice for All, Andy Devine, Annie Oakley, Apple, Arco, Arlene Dahl, Art Linkletter, Aureomycin, Avis, B&O, BMW, Bach, Bally, Band-Aid, Banjo Rag, Banker’s Life Insurance, Barbie, Bausch & Lomb, Be-Bop, Be-bop-a-lula, she's my baby, Beach Boys, Beatles, Beechcraft, Ben Alexander, Bermuda, Bertrand Russell, Beverly Hill-billies, Big Mac, Bill Cullen, Black Jack gum, Blackglama, Bob Hope, Bobby Sherman, Bombardier Skidoo, Bonneville, Brain from Planet Arous, Brian Wilson, Briggs & Stratton, Broderick Crawford, Bruce Springsteen, Bud, Budweiser, Buick, Burger King, Buttercup, Cadillac, Caesar's Palace, Calvin Klein, Camel, Campbell, Canada Mints, Captain Midnight, Captain Queeg, Chancellor-Brinkley, Chargers, Charles Manson, Charmin, Chatty Cathy, Cheez-Doodles, Chesterfield, Chevrolet, Chevy, Chevy Impala, Chevy Nova, Chipwich, Chivas, Chris-Craft, Chrysler Imperial, Chryster, Chuck Berry, Cimarron, Clint Eastwood, Coca-Cola, Coke, Colt, Colt Woodsman, Con-Tact, Cracker Jack, Curly, D-Con, Dairy Freez, Dallas Cowgirls, Dan Fortune, Dannon, Darvocet, Darvon, Datsun, David Cassidy, David Janssen, Delco, Delta 88, Denny's, Detroit Redwings, Detroit Tigers, Dial M for Murder, Dialing for Dollars, Diamond International, Dick Cavett, Dingo, Dior, Dirty Harry, Disney, Disney World, Dodge, Dodge Custom Cab, Dolby, Don Rickles, Donald Westlake, Dorito, Dorothy Sayers, Dos Passos, Dotto, Dr. Caligari, Dr. Scholl, Dragnet, Dungeons and Dragons, Duz, Dylan, Eames, Eberhard Faber, Econoline, Edith Head, Electrolux, Ellery Queen, Elton John, Elvis, Empirin, Ernest Hemingway, Exorcist, Exxon, F Troop, Facing the Lions, Family Feud, Fantasia, Farmer Brown, Fat Sammy's, Father Brown, Ferrari, Field and Stream, Firebird, Flair Fineliners, Flatt and Scruggs, Fontainbleau, Ford, Ford Pinto, Formica, Forrest Tucker, Francis Gary Powers, Frederick’s of Hollywood, Frisbee, GI Joe, GM, Garfield, Garry Moore, Gary Davis, Ghidra, Gilligan’s Island, Gisele MacKenzie, Glade Pine Fresh, Godzilla, Good-bye Yellow Brick Road, Goodwill, Gravy Train, Great Northern, Great Western, Green Door, Greenbriar Boys, Greyhound, Griff, Gucci, Gulf, Guy Lombardo, Guy Madison, H. Rider Haggard, HBO, Hal March, Hamburger Helper, Hammond Innes, Henry Glassman, Henry James, Henry Youngman, Herman Wouk, Hertz, Hesse, Hexlite, Hey, Mr. Sun, Highway Patrol, Hogan’s Heroes, Holiday Inn, Home Box Office, Honda, Horchow, Hot Stuff, Howard Cosell, Howdy Doody, Hula Hoops, Humphrey Bogart, I Dream of Jeannie, I Love Lucy, Incredible Shrinking Man, J. C. Penney’s, J. Press, J. W. Dant, J.C. Whitney, J.J. Cale, Jack Barry, Jack Benny Program, Jack Narz, Jack and Jill, James Bond, James Cain, Jaws, JayCee, Jell-O, Jerry Jeff Walker, Jimmy Cagney, Jimmy Stewart, Jingles, Jock Mahoney, Joe Friday, John Agar, John Carradine, John Chancellor, John Cheever, John Cougar Mellancamp, John D. MacDonald, John Travolta, Joker’s Wild, Jordache, Judy Blume, Julia Child, KLH, Kalishnikov, Karen Carpenter, Kent, Kewpie, King Kong, Kitty Carlisle, Kleenex, Kluge, Kodachrome, Krazy Glue, Kurt Vonnegut, LTD, Lacoste, Larry, Lawrence Belch, Lee Strasberg, Lenny Bruce, Let It Be, Let it Bleed, Let’s Make a Deal, Levi’s, Lionel Richie, Lipton, Lobstermen, Long Island Dragway, Loony Tunes, Lorne Greene, Louis Lamour, Mace, Malboros, Mammoth Mart, Manhattan Transfer, Mantovani, Marcus Welby, Marlboro, Marlboro Light, Marty Milner, Maurice Sendak, Mauser, Max Von Sydow, Maxwell House, McDonald, McDonald’s, Mercedes, Mercury, Merv Griffin, Mets, Michael Jackson, Michelangelo, Mick Jagger, Mickey Mouse, Midnight Rambler, Milky Way, Miller, Miller Lite, Miracle Chopper, Moe, Molotov, Monkey Man, Monkey Trial, Monocle, Monopoly, Monte Hall, Morns, Mothra, Motorola, Mr. Bojangles, Mr. Hyde Jekyll, Mr. Rogers, Mr. T., Muenster cheese, Mustangs, Myron Floren, NFL, National Enquirer, National Geographic, National Lampoon, New Paltz, New York Times, Nike, Niques, Nite Owl, Nivea, Norman Bates, Norman Vincent Peale, Num-Zit, O. Henry, OK Corral, Olds, Oldsmobile Ninety-Eight, Olivetti, Olivia Newton John, Omar the Tentmaker, Oshkosh, Outdoor Life, Pall Mall, Panthers, Pat Benatar, Paul Harvey, Paul Stuart, Pavlov, Peanuts comic strips, Peggy Sue, Penthouse, Pepsi, Pepsi-Cola, Pepto-Bismol, Pequod, Perrier, Perry Mason, Peter Rabbit, Philco, Phillies Cheroot, Phillips, Pig Pen, Piper Cub, Plymouth, Polaroid, Ponderosa golf, Pontiac, Porsche, Psycho, Q-tip, Quoddy, RCA, REA express, Radio Shack, Ramada Inn, Range Rider, Raquel Welch, Ravi Shankar, Reader’s Digest, Red Sox, Richard Petty, Richard Stark, Richard Widmark, Rin Tin Tin, Ring-Dings, Rinso, Ripley’s Believe It Or Not, Ritz, Ritz crackers, Robert Redford, Rodan, Rolaids, Rolex, Rollerdrome, Rolling Stones, Rolls-Royce, Ronald McDonald, S&H Green Stamps, SOI, Saab, Sadie Hawkins, Saf-T-Glass, Salvation Army, Samsonite, Sara Lee cheesecake, Saran Wrap, Saville Row, Schooner, Schwinn, Scripto, Seargeant Preston, Sears, Seven Flags Over Georgia, Seven-Up, Shell, Sheraton, Sherman tank, Shop and Save, Shop ’n Save, Shop ’n’ Save, Slaughterhouse Five, Slurpies, Slurpy, Smith & Wesson, Sony, Soo Line, Soupy Sales, Souther Comfort, Southern Pacific, Space Command, Spencer Tracy, Spider John Koemer, Star Trek, Starsky and Hutch, Sterno, Stetsons, Sting, Stop and Shop, Stranger in Paradise, Subaru, Sunoco, Sylvester Stallone, T. S. Eliot, TRS-80, Tarr Brothers, Technicolor, Tensor, Tensor study lamps, Texaco, The $64,000 Question, The Ballad of John and Yoko, The Day the Earth Stood Still, The Gift of the Magi, The Gong Show, The Guardian, The Manchester Guardian, The New Price is Right, The New York Review of Books, The Postman Always Rings Twice, This Is Your Life, This Savage Rapture, Thomas Carlyle, Thousand Island dressing, Three Stooges, Three’s Company, Thunderbird, Thus Spake Zarathustra, Tic Tac Dough, Time Magazine, Timex, Tinkertoys, To Tell the Truth, Tolkien, Tom Paxton, Tom Rush, Tom Wicker, Tony Curtis, Toyota, Toys Are Joys, Trans Am, Trifles, Trix, True Argosy, Tukkan the Terrible, Twenty One, Twinkies, Twinky, Universal Pictures, VW, Vantage 100, Victor Canning, Vince Lombardi, Volvo, Von Ronk, WGAN-TV, Waldenbooks, Waldorf-Astoria, Walkman, Wall Street Journal, Walt Disney, Walter Cronkite, Warner Anderson, Warner Brothers, Washex, We Gotta Get It On Again, Weatherby, Wet-Nap, What’s My Line, Where are They Now, Whoppers, Wild Bill Hickok, Wilt Chamberlain, Winslow Homer, Wizard of Oz, Woody Woodpecker, Wranglers, Wyatt Earp, Yankees, Yorick, You can’t always get what you want, Your Hit Parade, Your Show of Shows, Zenith, Zippo, lazy Susan\""
      ]
     },
     "execution_count": 3,
     "metadata": {},
     "output_type": "execute_result"
    }
   ],
   "source": [
    "\", \".join(sorted(list(set([(entity.strip())  for entity in entities if len(entity.strip()) > 0]))))"
   ]
  },
  {
   "cell_type": "code",
   "execution_count": 4,
   "id": "755f1634",
   "metadata": {},
   "outputs": [],
   "source": [
    "import re \n",
    "\n",
    "def clean_quotes(string):\n",
    "    return re.sub(\"[\\'’]\", '', string )"
   ]
  },
  {
   "cell_type": "code",
   "execution_count": 5,
   "id": "d0079031",
   "metadata": {},
   "outputs": [
    {
     "data": {
      "text/plain": [
       "['avis',\n",
       " 'rodan',\n",
       " 'gulf',\n",
       " 'piper cub',\n",
       " 'toys are joys',\n",
       " 'albert einstein',\n",
       " 'humphrey bogart',\n",
       " 'flair fineliners',\n",
       " 'dr. scholl',\n",
       " 'b&o',\n",
       " 'coca-cola',\n",
       " 'mercury',\n",
       " 'trs-80',\n",
       " 'range rider',\n",
       " 'marcus welby',\n",
       " 'blackglama',\n",
       " 'john cougar mellancamp',\n",
       " 'campbell',\n",
       " 'walter cronkite',\n",
       " 'lipton',\n",
       " 'farmer brown',\n",
       " 'three stooges',\n",
       " 'twinky',\n",
       " 'barbie',\n",
       " 'jack barry',\n",
       " 'tom paxton',\n",
       " 'camel',\n",
       " 'tarr brothers',\n",
       " 'peanuts comic strips',\n",
       " 'southern pacific',\n",
       " 'motorola',\n",
       " 'green door',\n",
       " 'saran wrap',\n",
       " 'a&s tires',\n",
       " 'pepsi-cola',\n",
       " 'chatty cathy',\n",
       " 'dungeons and dragons',\n",
       " 'fantasia',\n",
       " 'john cheever',\n",
       " 'john chancellor',\n",
       " 'porsche',\n",
       " 'dorothy sayers',\n",
       " 'fat sammys',\n",
       " 'peggy sue',\n",
       " 'starsky and hutch',\n",
       " 'ghidra',\n",
       " 'bermuda',\n",
       " 'elvis',\n",
       " 'rea express',\n",
       " 'be-bop',\n",
       " 'mcdonald',\n",
       " 'charmin',\n",
       " 'annie oakley',\n",
       " 'hertz',\n",
       " 'kleenex',\n",
       " 'lawrence belch',\n",
       " 'ben alexander',\n",
       " 'apple',\n",
       " 'klh',\n",
       " 'miller lite',\n",
       " 'great western',\n",
       " 'bob hope',\n",
       " 'sterno',\n",
       " 'i dream of jeannie',\n",
       " 'quoddy',\n",
       " 'jock mahoney',\n",
       " 'gary davis',\n",
       " 'detroit tigers',\n",
       " 'olds',\n",
       " 'pavlov',\n",
       " 'national enquirer',\n",
       " 'ritz',\n",
       " 'red sox',\n",
       " 'winslow homer',\n",
       " 'perry mason',\n",
       " 'gisele mackenzie',\n",
       " 'smith & wesson',\n",
       " 'bach',\n",
       " 'marty milner',\n",
       " 'your hit parade',\n",
       " 'j.j. cale',\n",
       " 'good-bye yellow brick road',\n",
       " 'monte hall',\n",
       " 'gm',\n",
       " 'agatha christie',\n",
       " 'lionel richie',\n",
       " 'robert redford',\n",
       " 'chivas',\n",
       " 'threes company',\n",
       " 'penthouse',\n",
       " 'delta 88',\n",
       " 'firebird',\n",
       " 'slurpy',\n",
       " 'hula hoops',\n",
       " 'henry james',\n",
       " 'briggs & stratton',\n",
       " 'sunoco',\n",
       " 'to tell the truth',\n",
       " 'souther comfort',\n",
       " 'this savage rapture',\n",
       " 'charles manson',\n",
       " 'nfl',\n",
       " 'soi',\n",
       " 'gilligans island',\n",
       " 'edith head',\n",
       " 'adreizi brothers',\n",
       " 'canada mints',\n",
       " 'cracker jack',\n",
       " 'phillies cheroot',\n",
       " 'num-zit',\n",
       " 'the manchester guardian',\n",
       " 'caesars palace',\n",
       " 'ritz crackers',\n",
       " 'exorcist',\n",
       " 'duz',\n",
       " 'lorne greene',\n",
       " 'john agar',\n",
       " 'father brown',\n",
       " 'monopoly',\n",
       " 'jaycee',\n",
       " 'wet-nap',\n",
       " 'hamburger helper',\n",
       " 'chargers',\n",
       " 'ford pinto',\n",
       " 'ford',\n",
       " 'washex',\n",
       " 'jaws',\n",
       " 'true argosy',\n",
       " 'anaïs',\n",
       " 'monkey man',\n",
       " 'muenster cheese',\n",
       " 'darvon',\n",
       " 'dodge',\n",
       " 'frisbee',\n",
       " 'd-con',\n",
       " 'we gotta get it on again',\n",
       " 'bally',\n",
       " 'hesse',\n",
       " 'monkey trial',\n",
       " 'lenny bruce',\n",
       " 'slurpies',\n",
       " 'bonneville',\n",
       " 'toyota',\n",
       " 'nike',\n",
       " 'warner anderson',\n",
       " 'brian wilson',\n",
       " 'hexlite',\n",
       " 'griff',\n",
       " 'dodge custom cab',\n",
       " 'jordache',\n",
       " 'maurice sendak',\n",
       " 'kodachrome',\n",
       " 'flatt and scruggs',\n",
       " 'psycho',\n",
       " 'chipwich',\n",
       " 'pat benatar',\n",
       " 'plymouth',\n",
       " 'readers digest',\n",
       " 'maxwell house',\n",
       " 'max von sydow',\n",
       " 'ripleys believe it or not',\n",
       " 'elton john',\n",
       " 'dennys',\n",
       " 'richard widmark',\n",
       " 'abdul allhazred',\n",
       " 'wranglers',\n",
       " 'milky way',\n",
       " 'amos n andy',\n",
       " 'dolby',\n",
       " 'aureomycin',\n",
       " 'judy blume',\n",
       " 'raquel welch',\n",
       " 'sting',\n",
       " 'john travolta',\n",
       " 'empirin',\n",
       " 'bausch & lomb',\n",
       " 'dial m for murder',\n",
       " 'mr. rogers',\n",
       " 'marlboro',\n",
       " 'norman vincent peale',\n",
       " 'wall street journal',\n",
       " 'karen carpenter',\n",
       " 'radio shack',\n",
       " 'loony tunes',\n",
       " 'bill cullen',\n",
       " 'levis',\n",
       " 'dorito',\n",
       " 'whats my line',\n",
       " 'polaroid',\n",
       " 'francis gary powers',\n",
       " 'dan fortune',\n",
       " 'captain queeg',\n",
       " 'chrysler imperial',\n",
       " 'bertrand russell',\n",
       " 'ernest hemingway',\n",
       " 'technicolor',\n",
       " 'schooner',\n",
       " 'mace',\n",
       " 'joe friday',\n",
       " 'cimarron',\n",
       " 'jell-o',\n",
       " 'bmw',\n",
       " 'tinkertoys',\n",
       " 'highway patrol',\n",
       " 'beechcraft',\n",
       " 'larry',\n",
       " 'jokers wild',\n",
       " 'tensor study lamps',\n",
       " 'weatherby',\n",
       " 'walt disney',\n",
       " 'stop and shop',\n",
       " 'louis lamour',\n",
       " 'the postman always rings twice',\n",
       " 'pall mall',\n",
       " 'rolaids',\n",
       " 'garry moore',\n",
       " 'the guardian',\n",
       " 'colt woodsman',\n",
       " 'soo line',\n",
       " 'tolkien',\n",
       " 'yorick',\n",
       " 'vantage 100',\n",
       " 'delco',\n",
       " 'donald westlake',\n",
       " 'ferrari',\n",
       " 'schwinn',\n",
       " 't. s. eliot',\n",
       " 'exxon',\n",
       " 'warner brothers',\n",
       " 'incredible shrinking man',\n",
       " 'wgan-tv',\n",
       " 'morns',\n",
       " 'burger king',\n",
       " 'monocle',\n",
       " 'dos passos',\n",
       " 'cadillac',\n",
       " 'rolls-royce',\n",
       " 'seven-up',\n",
       " 'rca',\n",
       " 'dairy freez',\n",
       " 'myron floren',\n",
       " 'chevy nova',\n",
       " 'victor canning',\n",
       " 'oshkosh',\n",
       " 'shop and save',\n",
       " 'saville row',\n",
       " 'kluge',\n",
       " 'the gong show',\n",
       " 'richard petty',\n",
       " 'hot stuff',\n",
       " 'j. c. penneys',\n",
       " 'salvation army',\n",
       " 'disney world',\n",
       " 'oldsmobile ninety-eight',\n",
       " 'horchow',\n",
       " 'dior',\n",
       " 'michelangelo',\n",
       " 'wizard of oz',\n",
       " 'chevrolet',\n",
       " 'sadie hawkins',\n",
       " 'norman bates',\n",
       " 'your show of shows',\n",
       " 'chevy impala',\n",
       " 'hogans heroes',\n",
       " 'chuck berry',\n",
       " 'mantovani',\n",
       " 'space command',\n",
       " 'anacin',\n",
       " 'lobstermen',\n",
       " 'mcdonalds',\n",
       " 'spider john koemer',\n",
       " 'jingles',\n",
       " 'national geographic',\n",
       " 'great northern',\n",
       " 'twenty one',\n",
       " 'zenith',\n",
       " 'kewpie',\n",
       " 'budweiser',\n",
       " 'con-tact',\n",
       " 'alligators all around',\n",
       " 'howdy doody',\n",
       " 'disney',\n",
       " 'von ronk',\n",
       " 'the $64,000 question',\n",
       " 'slaughterhouse five',\n",
       " 'howard cosell',\n",
       " 'chesterfield',\n",
       " 'paul stuart',\n",
       " 'hal march',\n",
       " 'darvocet',\n",
       " 'greyhound',\n",
       " 'lazy susan',\n",
       " 'julia child',\n",
       " 'be-bop-a-lula, shes my baby',\n",
       " 'bobby sherman',\n",
       " 'subaru',\n",
       " 'buick',\n",
       " 'bruce springsteen',\n",
       " 'ap wire',\n",
       " 'amoco',\n",
       " 'beach boys',\n",
       " 'arlene dahl',\n",
       " 'broderick crawford',\n",
       " 'mickey mouse',\n",
       " 'chryster',\n",
       " 'you cant always get what you want',\n",
       " 'ahab',\n",
       " 'soupy sales',\n",
       " 'honda',\n",
       " 'colt',\n",
       " 'universal pictures',\n",
       " 'zippo',\n",
       " 'henry glassman',\n",
       " 'philco',\n",
       " 'j.c. whitney',\n",
       " 'sears',\n",
       " 'detroit redwings',\n",
       " 'james bond',\n",
       " 'dialing for dollars',\n",
       " 'thomas carlyle',\n",
       " 'dannon',\n",
       " 'mammoth mart',\n",
       " 'tukkan the terrible',\n",
       " 'field and stream',\n",
       " 'alfie',\n",
       " 'tom wicker',\n",
       " 'fredericks of hollywood',\n",
       " 'saf-t-glass',\n",
       " 'molotov',\n",
       " 'calvin klein',\n",
       " 'niques',\n",
       " 'midnight rambler',\n",
       " 'cheez-doodles',\n",
       " 'bombardier skidoo',\n",
       " 'long island dragway',\n",
       " 'trifles',\n",
       " 'hey, mr. sun',\n",
       " 'home box office',\n",
       " 'rinso',\n",
       " 'ellery queen',\n",
       " 'woody woodpecker',\n",
       " 'manhattan transfer',\n",
       " 'kitty carlisle',\n",
       " 'ring-dings',\n",
       " 'waldorf-astoria',\n",
       " 'rolex',\n",
       " 'the day the earth stood still',\n",
       " 'paul harvey',\n",
       " 'gucci',\n",
       " 'merv griffin',\n",
       " 'lacoste',\n",
       " 'art linkletter',\n",
       " 'mothra',\n",
       " 'stetsons',\n",
       " 'david cassidy',\n",
       " 'captain midnight',\n",
       " 'the new york review of books',\n",
       " 'volvo',\n",
       " 'time magazine',\n",
       " 'and justice for all',\n",
       " 'panthers',\n",
       " 'star trek',\n",
       " 'ok corral',\n",
       " 'glade pine fresh',\n",
       " 'big mac',\n",
       " 'dragnet',\n",
       " 'diamond international',\n",
       " 'john carradine',\n",
       " 'q-tip',\n",
       " 'a. gordon pym',\n",
       " 'dallas cowgirls',\n",
       " 'electrolux',\n",
       " 'ramada inn',\n",
       " 'rolling stones',\n",
       " 'let it bleed',\n",
       " 'jack benny program',\n",
       " 'jack and jill',\n",
       " 'mets',\n",
       " 'shell',\n",
       " 'the new price is right',\n",
       " 'spencer tracy',\n",
       " 'twinkies',\n",
       " 'arco',\n",
       " 'thus spake zarathustra',\n",
       " 'mustangs',\n",
       " 'h. rider haggard',\n",
       " 'gravy train',\n",
       " 'richard stark',\n",
       " 'ltd',\n",
       " 'samsonite',\n",
       " 'henry youngman',\n",
       " 'tensor',\n",
       " 'guy madison',\n",
       " 'chris-craft',\n",
       " 'sylvester stallone',\n",
       " 'walkman',\n",
       " 'kurt vonnegut',\n",
       " 'rollerdrome',\n",
       " 'dylan',\n",
       " 'shop n save',\n",
       " 'seven flags over georgia',\n",
       " 'seargeant preston',\n",
       " 'kalishnikov',\n",
       " 'wild bill hickok',\n",
       " 'formica',\n",
       " 'godzilla',\n",
       " 'jimmy stewart',\n",
       " 'rin tin tin',\n",
       " 'i love lucy',\n",
       " 'phillips',\n",
       " 'pepto-bismol',\n",
       " 'king kong',\n",
       " 'bud',\n",
       " 'scripto',\n",
       " 'the ballad of john and yoko',\n",
       " 'new york times',\n",
       " 'michael jackson',\n",
       " 'john d. macdonald',\n",
       " 'herman wouk',\n",
       " 'lee strasberg',\n",
       " 'thousand island dressing',\n",
       " 'mr. bojangles',\n",
       " 'the gift of the magi',\n",
       " 'kent',\n",
       " 'new paltz',\n",
       " 'pontiac',\n",
       " 'dotto',\n",
       " 'miller',\n",
       " 'andy devine',\n",
       " 'garfield',\n",
       " 'american express',\n",
       " 'miracle chopper',\n",
       " 'greenbriar boys',\n",
       " 'moe',\n",
       " 'let it be',\n",
       " 'hbo',\n",
       " 's&h green stamps',\n",
       " 'ronald mcdonald',\n",
       " 'fontainbleau',\n",
       " 'krazy glue',\n",
       " 'ponderosa golf',\n",
       " 'sara lee cheesecake',\n",
       " 'mr. hyde jekyll',\n",
       " 'pig pen',\n",
       " 'beatles',\n",
       " 'pepsi',\n",
       " 'omar the tentmaker',\n",
       " 'amway',\n",
       " 'texaco',\n",
       " 'where are they now',\n",
       " 'jerry jeff walker',\n",
       " 'outdoor life',\n",
       " 'chevy',\n",
       " 'f troop',\n",
       " 'facing the lions',\n",
       " 'david janssen',\n",
       " 'brain from planet arous',\n",
       " 'sherman tank',\n",
       " 'national lampoon',\n",
       " 'dingo',\n",
       " 'olivetti',\n",
       " 'nivea',\n",
       " 'wilt chamberlain',\n",
       " 'tic tac dough',\n",
       " 'mr. t.',\n",
       " 'whoppers',\n",
       " 'mick jagger',\n",
       " 'dr. caligari',\n",
       " 'james cain',\n",
       " 'dick cavett',\n",
       " 'lets make a deal',\n",
       " 'perrier',\n",
       " 'j. w. dant',\n",
       " 'chancellor-brinkley',\n",
       " 'goodwill',\n",
       " 'vince lombardi',\n",
       " 'bankers life insurance',\n",
       " 'wyatt earp',\n",
       " 'don rickles',\n",
       " 'trix',\n",
       " 'clint eastwood',\n",
       " 'saab',\n",
       " 'mercedes',\n",
       " 'olivia newton john',\n",
       " 'gi joe',\n",
       " 'o. henry',\n",
       " 'waldenbooks',\n",
       " 'black jack gum',\n",
       " 'curly',\n",
       " 'tony curtis',\n",
       " 'peter rabbit',\n",
       " 'band-aid',\n",
       " 'pequod',\n",
       " 'forrest tucker',\n",
       " 'nite owl',\n",
       " 'tom rush',\n",
       " 'beverly hill-billies',\n",
       " 'mauser',\n",
       " 'trans am',\n",
       " 'banjo rag',\n",
       " 'ravi shankar',\n",
       " 'holiday inn',\n",
       " 'econoline',\n",
       " 'family feud',\n",
       " 'vw',\n",
       " 'jimmy cagney',\n",
       " 'eames',\n",
       " 'this is your life',\n",
       " 'yankees',\n",
       " 'guy lombardo',\n",
       " 'buttercup',\n",
       " 'j. press',\n",
       " 'timex',\n",
       " 'eberhard faber',\n",
       " 'thunderbird',\n",
       " 'hammond innes',\n",
       " 'sheraton',\n",
       " 'dirty harry',\n",
       " 'stranger in paradise',\n",
       " 'coke',\n",
       " 'malboros',\n",
       " 'jack narz',\n",
       " 'sony',\n",
       " 'datsun',\n",
       " 'marlboro light']"
      ]
     },
     "execution_count": 5,
     "metadata": {},
     "output_type": "execute_result"
    }
   ],
   "source": [
    "bachman_entities = list(set([clean_quotes(entity.strip().lower())  for entity in entities if len(entity.strip()) > 0]))\n",
    "bachman_entities"
   ]
  },
  {
   "cell_type": "code",
   "execution_count": 6,
   "id": "8cdadd04",
   "metadata": {},
   "outputs": [
    {
     "data": {
      "text/plain": [
       "525"
      ]
     },
     "execution_count": 6,
     "metadata": {},
     "output_type": "execute_result"
    }
   ],
   "source": [
    "len(bachman_entities)"
   ]
  },
  {
   "cell_type": "markdown",
   "id": "d18c870a",
   "metadata": {},
   "source": [
    "# 2. Convert books to SpaCy docs"
   ]
  },
  {
   "cell_type": "code",
   "execution_count": 7,
   "id": "19817ee6",
   "metadata": {},
   "outputs": [
    {
     "name": "stderr",
     "output_type": "stream",
     "text": [
      "100%|██████████████████████████████████████████████████████████████████████████████████████████| 71/71 [00:00<?, ?it/s]\n"
     ]
    }
   ],
   "source": [
    "os.chdir(\"full_novels\")\n",
    "authors,  titles = [], []\n",
    "for file in tqdm(os.listdir()):\n",
    "    if file.endswith(\".txt\"):\n",
    "        authors.append(file.split('-')[0])\n",
    "        titles.append(file.split('-')[2].split('.')[0])\n"
   ]
  },
  {
   "cell_type": "code",
   "execution_count": 8,
   "id": "733fea43",
   "metadata": {},
   "outputs": [
    {
     "name": "stderr",
     "output_type": "stream",
     "text": [
      "\r",
      "  0%|                                                                                           | 0/64 [00:00<?, ?it/s]"
     ]
    },
    {
     "name": "stdout",
     "output_type": "stream",
     "text": [
      "The_Long_Walk\n"
     ]
    },
    {
     "name": "stderr",
     "output_type": "stream",
     "text": [
      "\r",
      "  2%|█▎                                                                                 | 1/64 [00:15<16:09, 15.39s/it]"
     ]
    },
    {
     "name": "stdout",
     "output_type": "stream",
     "text": [
      "Roadwork\n"
     ]
    },
    {
     "name": "stderr",
     "output_type": "stream",
     "text": [
      "\r",
      "  3%|██▌                                                                                | 2/64 [00:29<15:09, 14.67s/it]"
     ]
    },
    {
     "name": "stdout",
     "output_type": "stream",
     "text": [
      "Rage\n"
     ]
    },
    {
     "name": "stderr",
     "output_type": "stream",
     "text": [
      "\r",
      "  5%|███▉                                                                               | 3/64 [00:38<12:08, 11.95s/it]"
     ]
    },
    {
     "name": "stdout",
     "output_type": "stream",
     "text": [
      "Blaze\n"
     ]
    },
    {
     "name": "stderr",
     "output_type": "stream",
     "text": [
      "\r",
      "  6%|█████▏                                                                             | 4/64 [00:50<11:59, 11.98s/it]"
     ]
    },
    {
     "name": "stdout",
     "output_type": "stream",
     "text": [
      "The_Running_Man\n"
     ]
    },
    {
     "name": "stderr",
     "output_type": "stream",
     "text": [
      "\r",
      "  8%|██████▍                                                                            | 5/64 [00:58<10:29, 10.68s/it]"
     ]
    },
    {
     "name": "stdout",
     "output_type": "stream",
     "text": [
      "Thinner\n"
     ]
    },
    {
     "name": "stderr",
     "output_type": "stream",
     "text": [
      "\r",
      "  9%|███████▊                                                                           | 6/64 [01:11<11:08, 11.53s/it]"
     ]
    },
    {
     "name": "stdout",
     "output_type": "stream",
     "text": [
      "The_Regulators\n"
     ]
    },
    {
     "name": "stderr",
     "output_type": "stream",
     "text": [
      "\r",
      " 11%|█████████                                                                          | 7/64 [01:29<12:48, 13.48s/it]"
     ]
    },
    {
     "name": "stdout",
     "output_type": "stream",
     "text": [
      "Black_Sunday\n"
     ]
    },
    {
     "name": "stderr",
     "output_type": "stream",
     "text": [
      "\r",
      " 12%|██████████▍                                                                        | 8/64 [01:41<12:05, 12.95s/it]"
     ]
    },
    {
     "name": "stdout",
     "output_type": "stream",
     "text": [
      "Red_Dragon\n"
     ]
    },
    {
     "name": "stderr",
     "output_type": "stream",
     "text": [
      "\r",
      " 14%|███████████▋                                                                       | 9/64 [01:56<12:36, 13.76s/it]"
     ]
    },
    {
     "name": "stdout",
     "output_type": "stream",
     "text": [
      "The_Silence_of_the_Lambs\n"
     ]
    },
    {
     "name": "stderr",
     "output_type": "stream",
     "text": [
      "\r",
      " 16%|████████████▊                                                                     | 10/64 [02:10<12:17, 13.66s/it]"
     ]
    },
    {
     "name": "stdout",
     "output_type": "stream",
     "text": [
      "Hannibal\n"
     ]
    },
    {
     "name": "stderr",
     "output_type": "stream",
     "text": [
      "\r",
      " 17%|██████████████                                                                    | 11/64 [02:28<13:13, 14.97s/it]"
     ]
    },
    {
     "name": "stdout",
     "output_type": "stream",
     "text": [
      "Hannibal_Rising\n"
     ]
    },
    {
     "name": "stderr",
     "output_type": "stream",
     "text": [
      "\r",
      " 19%|███████████████▍                                                                  | 12/64 [02:36<11:17, 13.03s/it]"
     ]
    },
    {
     "name": "stdout",
     "output_type": "stream",
     "text": [
      "Carrie\n"
     ]
    },
    {
     "name": "stderr",
     "output_type": "stream",
     "text": [
      "\r",
      " 20%|████████████████▋                                                                 | 13/64 [02:45<10:02, 11.81s/it]"
     ]
    },
    {
     "name": "stdout",
     "output_type": "stream",
     "text": [
      "Salems_Lot\n"
     ]
    },
    {
     "name": "stderr",
     "output_type": "stream",
     "text": [
      "\r",
      " 22%|█████████████████▉                                                                | 14/64 [03:12<13:42, 16.45s/it]"
     ]
    },
    {
     "name": "stdout",
     "output_type": "stream",
     "text": [
      "The_Shining\n"
     ]
    },
    {
     "name": "stderr",
     "output_type": "stream",
     "text": [
      "\r",
      " 23%|███████████████████▏                                                              | 15/64 [03:34<14:46, 18.10s/it]"
     ]
    },
    {
     "name": "stdout",
     "output_type": "stream",
     "text": [
      "The_Stand\n"
     ]
    },
    {
     "name": "stderr",
     "output_type": "stream",
     "text": [
      "\r",
      " 25%|████████████████████▌                                                             | 16/64 [05:00<30:50, 38.55s/it]"
     ]
    },
    {
     "name": "stdout",
     "output_type": "stream",
     "text": [
      "The_Dead_Zone\n"
     ]
    },
    {
     "name": "stderr",
     "output_type": "stream",
     "text": [
      "\r",
      " 27%|█████████████████████▊                                                            | 17/64 [05:27<27:17, 34.84s/it]"
     ]
    },
    {
     "name": "stdout",
     "output_type": "stream",
     "text": [
      "Insomnia\n"
     ]
    },
    {
     "name": "stderr",
     "output_type": "stream",
     "text": [
      "\r",
      " 28%|███████████████████████                                                           | 18/64 [06:00<26:30, 34.58s/it]"
     ]
    },
    {
     "name": "stdout",
     "output_type": "stream",
     "text": [
      "Rose_Madder\n"
     ]
    },
    {
     "name": "stderr",
     "output_type": "stream",
     "text": [
      "\r",
      " 30%|████████████████████████▎                                                         | 19/64 [06:26<23:49, 31.76s/it]"
     ]
    },
    {
     "name": "stdout",
     "output_type": "stream",
     "text": [
      "The_Green_Mile\n"
     ]
    },
    {
     "name": "stderr",
     "output_type": "stream",
     "text": [
      "\r",
      " 31%|█████████████████████████▋                                                        | 20/64 [06:44<20:17, 27.66s/it]"
     ]
    },
    {
     "name": "stdout",
     "output_type": "stream",
     "text": [
      "Desperation\n"
     ]
    },
    {
     "name": "stderr",
     "output_type": "stream",
     "text": [
      "\r",
      " 33%|██████████████████████████▉                                                       | 21/64 [07:15<20:32, 28.66s/it]"
     ]
    },
    {
     "name": "stdout",
     "output_type": "stream",
     "text": [
      "Wizard_and_Glass\n"
     ]
    },
    {
     "name": "stderr",
     "output_type": "stream",
     "text": [
      "\r",
      " 34%|████████████████████████████▏                                                     | 22/64 [08:01<23:43, 33.89s/it]"
     ]
    },
    {
     "name": "stdout",
     "output_type": "stream",
     "text": [
      "Bag_of_Bones\n"
     ]
    },
    {
     "name": "stderr",
     "output_type": "stream",
     "text": [
      "\r",
      " 36%|█████████████████████████████▍                                                    | 23/64 [08:40<24:10, 35.37s/it]"
     ]
    },
    {
     "name": "stdout",
     "output_type": "stream",
     "text": [
      "The_Girl_Who_Loved_Tom_Gordon\n"
     ]
    },
    {
     "name": "stderr",
     "output_type": "stream",
     "text": [
      "\r",
      " 38%|██████████████████████████████▊                                                   | 24/64 [08:50<18:39, 27.98s/it]"
     ]
    },
    {
     "name": "stdout",
     "output_type": "stream",
     "text": [
      "Dreamcatcher\n"
     ]
    },
    {
     "name": "stderr",
     "output_type": "stream",
     "text": [
      "\r",
      " 39%|████████████████████████████████                                                  | 25/64 [09:33<21:04, 32.43s/it]"
     ]
    },
    {
     "name": "stdout",
     "output_type": "stream",
     "text": [
      "From_a_Buick_8\n"
     ]
    },
    {
     "name": "stderr",
     "output_type": "stream",
     "text": [
      "\r",
      " 41%|█████████████████████████████████▎                                                | 26/64 [10:00<19:25, 30.66s/it]"
     ]
    },
    {
     "name": "stdout",
     "output_type": "stream",
     "text": [
      "Wolves_of_the_Calla\n"
     ]
    },
    {
     "name": "stderr",
     "output_type": "stream",
     "text": [
      "\r",
      " 42%|██████████████████████████████████▌                                               | 27/64 [10:53<23:05, 37.46s/it]"
     ]
    },
    {
     "name": "stdout",
     "output_type": "stream",
     "text": [
      "Song_of_Susannah\n"
     ]
    },
    {
     "name": "stderr",
     "output_type": "stream",
     "text": [
      "\r",
      " 44%|███████████████████████████████████▉                                              | 28/64 [11:14<19:34, 32.62s/it]"
     ]
    },
    {
     "name": "stdout",
     "output_type": "stream",
     "text": [
      "The_Dark_Tower\n"
     ]
    },
    {
     "name": "stderr",
     "output_type": "stream",
     "text": [
      "\r",
      " 45%|█████████████████████████████████████▏                                            | 29/64 [11:59<21:10, 36.30s/it]"
     ]
    },
    {
     "name": "stdout",
     "output_type": "stream",
     "text": [
      "Colorado_Kid\n"
     ]
    },
    {
     "name": "stderr",
     "output_type": "stream",
     "text": [
      "\r",
      " 47%|██████████████████████████████████████▍                                           | 30/64 [12:05<15:21, 27.11s/it]"
     ]
    },
    {
     "name": "stdout",
     "output_type": "stream",
     "text": [
      "Cell\n"
     ]
    },
    {
     "name": "stderr",
     "output_type": "stream",
     "text": [
      "\r",
      " 48%|███████████████████████████████████████▋                                          | 31/64 [12:27<14:09, 25.73s/it]"
     ]
    },
    {
     "name": "stdout",
     "output_type": "stream",
     "text": [
      "Liseys_Story\n"
     ]
    },
    {
     "name": "stderr",
     "output_type": "stream",
     "text": [
      "\r",
      " 50%|█████████████████████████████████████████                                         | 32/64 [12:51<13:26, 25.19s/it]"
     ]
    },
    {
     "name": "stdout",
     "output_type": "stream",
     "text": [
      "Star_Quest\n"
     ]
    },
    {
     "name": "stderr",
     "output_type": "stream",
     "text": [
      "\r",
      " 52%|██████████████████████████████████████████▎                                       | 33/64 [12:56<09:47, 18.96s/it]"
     ]
    },
    {
     "name": "stdout",
     "output_type": "stream",
     "text": [
      "Beastchild\n"
     ]
    },
    {
     "name": "stderr",
     "output_type": "stream",
     "text": [
      "\r",
      " 53%|███████████████████████████████████████████▌                                      | 34/64 [13:02<07:33, 15.11s/it]"
     ]
    },
    {
     "name": "stdout",
     "output_type": "stream",
     "text": [
      "Warlock\n"
     ]
    },
    {
     "name": "stderr",
     "output_type": "stream",
     "text": [
      "\r",
      " 55%|████████████████████████████████████████████▊                                     | 35/64 [13:09<06:06, 12.62s/it]"
     ]
    },
    {
     "name": "stdout",
     "output_type": "stream",
     "text": [
      "After_the_Last_Race\n"
     ]
    },
    {
     "name": "stderr",
     "output_type": "stream",
     "text": [
      "\r",
      " 56%|██████████████████████████████████████████████▏                                   | 36/64 [13:19<05:32, 11.86s/it]"
     ]
    },
    {
     "name": "stdout",
     "output_type": "stream",
     "text": [
      "Night_Chills\n"
     ]
    },
    {
     "name": "stderr",
     "output_type": "stream",
     "text": [
      "\r",
      " 58%|███████████████████████████████████████████████▍                                  | 37/64 [13:31<05:18, 11.80s/it]"
     ]
    },
    {
     "name": "stdout",
     "output_type": "stream",
     "text": [
      "The_Vision\n"
     ]
    },
    {
     "name": "stderr",
     "output_type": "stream",
     "text": [
      "\r",
      " 59%|████████████████████████████████████████████████▋                                 | 38/64 [13:39<04:40, 10.79s/it]"
     ]
    },
    {
     "name": "stdout",
     "output_type": "stream",
     "text": [
      "Whispers\n"
     ]
    },
    {
     "name": "stderr",
     "output_type": "stream",
     "text": [
      "\r",
      " 61%|█████████████████████████████████████████████████▉                                | 39/64 [14:00<05:49, 14.00s/it]"
     ]
    },
    {
     "name": "stdout",
     "output_type": "stream",
     "text": [
      "The_Eyes_of_Darkness\n"
     ]
    },
    {
     "name": "stderr",
     "output_type": "stream",
     "text": [
      "\r",
      " 62%|███████████████████████████████████████████████████▎                              | 40/64 [14:12<05:16, 13.20s/it]"
     ]
    },
    {
     "name": "stdout",
     "output_type": "stream",
     "text": [
      "Phantoms\n"
     ]
    },
    {
     "name": "stderr",
     "output_type": "stream",
     "text": [
      "\r",
      " 64%|████████████████████████████████████████████████████▌                             | 41/64 [14:29<05:31, 14.40s/it]"
     ]
    },
    {
     "name": "stdout",
     "output_type": "stream",
     "text": [
      "Strangers\n"
     ]
    },
    {
     "name": "stderr",
     "output_type": "stream",
     "text": [
      "\r",
      " 66%|█████████████████████████████████████████████████████▊                            | 42/64 [15:11<08:16, 22.55s/it]"
     ]
    },
    {
     "name": "stdout",
     "output_type": "stream",
     "text": [
      "Lightning\n"
     ]
    },
    {
     "name": "stderr",
     "output_type": "stream",
     "text": [
      "\r",
      " 67%|███████████████████████████████████████████████████████                           | 43/64 [15:29<07:27, 21.32s/it]"
     ]
    },
    {
     "name": "stdout",
     "output_type": "stream",
     "text": [
      "The_Bad_Place\n"
     ]
    },
    {
     "name": "stderr",
     "output_type": "stream",
     "text": [
      "\r",
      " 69%|████████████████████████████████████████████████████████▍                         | 44/64 [15:47<06:45, 20.26s/it]"
     ]
    },
    {
     "name": "stdout",
     "output_type": "stream",
     "text": [
      "Hideaway\n"
     ]
    },
    {
     "name": "stderr",
     "output_type": "stream",
     "text": [
      "\r",
      " 70%|█████████████████████████████████████████████████████████▋                        | 45/64 [16:03<06:00, 18.98s/it]"
     ]
    },
    {
     "name": "stdout",
     "output_type": "stream",
     "text": [
      "Winter_Moon\n"
     ]
    },
    {
     "name": "stderr",
     "output_type": "stream",
     "text": [
      "\r",
      " 72%|██████████████████████████████████████████████████████████▉                       | 46/64 [16:17<05:15, 17.55s/it]"
     ]
    },
    {
     "name": "stdout",
     "output_type": "stream",
     "text": [
      "Fear_Nothing\n"
     ]
    },
    {
     "name": "stderr",
     "output_type": "stream",
     "text": [
      "\r",
      " 73%|████████████████████████████████████████████████████████████▏                     | 47/64 [16:32<04:46, 16.87s/it]"
     ]
    },
    {
     "name": "stdout",
     "output_type": "stream",
     "text": [
      "From_the_Corner_of_His_Eye\n"
     ]
    },
    {
     "name": "stderr",
     "output_type": "stream",
     "text": [
      "\r",
      " 75%|█████████████████████████████████████████████████████████████▌                    | 48/64 [16:59<05:16, 19.79s/it]"
     ]
    },
    {
     "name": "stdout",
     "output_type": "stream",
     "text": [
      "By_the_Light_of_the_Moon\n"
     ]
    },
    {
     "name": "stderr",
     "output_type": "stream",
     "text": [
      "\r",
      " 77%|██████████████████████████████████████████████████████████████▊                   | 49/64 [17:15<04:39, 18.61s/it]"
     ]
    },
    {
     "name": "stdout",
     "output_type": "stream",
     "text": [
      "The_Taking\n"
     ]
    },
    {
     "name": "stderr",
     "output_type": "stream",
     "text": [
      "\r",
      " 78%|████████████████████████████████████████████████████████████████                  | 50/64 [17:25<03:46, 16.15s/it]"
     ]
    },
    {
     "name": "stdout",
     "output_type": "stream",
     "text": [
      "The_Husband\n"
     ]
    },
    {
     "name": "stderr",
     "output_type": "stream",
     "text": [
      "\r",
      " 80%|█████████████████████████████████████████████████████████████████▎                | 51/64 [17:36<03:08, 14.52s/it]"
     ]
    },
    {
     "name": "stdout",
     "output_type": "stream",
     "text": [
      "The_Good_Guy\n"
     ]
    },
    {
     "name": "stderr",
     "output_type": "stream",
     "text": [
      "\r",
      " 81%|██████████████████████████████████████████████████████████████████▋               | 52/64 [17:46<02:39, 13.30s/it]"
     ]
    },
    {
     "name": "stdout",
     "output_type": "stream",
     "text": [
      "Julia\n"
     ]
    },
    {
     "name": "stderr",
     "output_type": "stream",
     "text": [
      "\r",
      " 83%|███████████████████████████████████████████████████████████████████▉              | 53/64 [17:57<02:16, 12.36s/it]"
     ]
    },
    {
     "name": "stdout",
     "output_type": "stream",
     "text": [
      "If_You_Could_See_Me_Now\n"
     ]
    },
    {
     "name": "stderr",
     "output_type": "stream",
     "text": [
      "\r",
      " 84%|█████████████████████████████████████████████████████████████████████▏            | 54/64 [18:10<02:06, 12.61s/it]"
     ]
    },
    {
     "name": "stdout",
     "output_type": "stream",
     "text": [
      "Ghost_Story\n"
     ]
    },
    {
     "name": "stderr",
     "output_type": "stream",
     "text": [
      "\r",
      " 86%|██████████████████████████████████████████████████████████████████████▍           | 55/64 [18:32<02:19, 15.46s/it]"
     ]
    },
    {
     "name": "stdout",
     "output_type": "stream",
     "text": [
      "Shadowland\n"
     ]
    },
    {
     "name": "stderr",
     "output_type": "stream",
     "text": [
      "\r",
      " 88%|███████████████████████████████████████████████████████████████████████▊          | 56/64 [18:51<02:13, 16.69s/it]"
     ]
    },
    {
     "name": "stdout",
     "output_type": "stream",
     "text": [
      "Floating_Dragon\n"
     ]
    },
    {
     "name": "stderr",
     "output_type": "stream",
     "text": [
      "\r",
      " 89%|█████████████████████████████████████████████████████████████████████████         | 57/64 [19:20<02:22, 20.35s/it]"
     ]
    },
    {
     "name": "stdout",
     "output_type": "stream",
     "text": [
      "Koko\n"
     ]
    },
    {
     "name": "stderr",
     "output_type": "stream",
     "text": [
      "\r",
      " 91%|██████████████████████████████████████████████████████████████████████████▎       | 58/64 [19:46<02:10, 21.82s/it]"
     ]
    },
    {
     "name": "stdout",
     "output_type": "stream",
     "text": [
      "Mystery\n"
     ]
    },
    {
     "name": "stderr",
     "output_type": "stream",
     "text": [
      "\r",
      " 92%|███████████████████████████████████████████████████████████████████████████▌      | 59/64 [20:07<01:48, 21.68s/it]"
     ]
    },
    {
     "name": "stdout",
     "output_type": "stream",
     "text": [
      "The_Throat\n"
     ]
    },
    {
     "name": "stderr",
     "output_type": "stream",
     "text": [
      "\r",
      " 94%|████████████████████████████████████████████████████████████████████████████▉     | 60/64 [20:37<01:36, 24.20s/it]"
     ]
    },
    {
     "name": "stdout",
     "output_type": "stream",
     "text": [
      "Hellfire_Club\n"
     ]
    },
    {
     "name": "stderr",
     "output_type": "stream",
     "text": [
      "\r",
      " 95%|██████████████████████████████████████████████████████████████████████████████▏   | 61/64 [21:00<01:11, 23.97s/it]"
     ]
    },
    {
     "name": "stdout",
     "output_type": "stream",
     "text": [
      "Mr_X\n"
     ]
    },
    {
     "name": "stderr",
     "output_type": "stream",
     "text": [
      "\r",
      " 97%|███████████████████████████████████████████████████████████████████████████████▍  | 62/64 [21:23<00:47, 23.55s/it]"
     ]
    },
    {
     "name": "stdout",
     "output_type": "stream",
     "text": [
      "Lost_Boy_Lost_Girl\n"
     ]
    },
    {
     "name": "stderr",
     "output_type": "stream",
     "text": [
      "\r",
      " 98%|████████████████████████████████████████████████████████████████████████████████▋ | 63/64 [21:34<00:19, 19.72s/it]"
     ]
    },
    {
     "name": "stdout",
     "output_type": "stream",
     "text": [
      "In_The_Night_Room\n"
     ]
    },
    {
     "name": "stderr",
     "output_type": "stream",
     "text": [
      "100%|██████████████████████████████████████████████████████████████████████████████████| 64/64 [21:46<00:00, 20.41s/it]\n"
     ]
    }
   ],
   "source": [
    "titles_docs = {}\n",
    "\n",
    "\n",
    "for title in tqdm(titles): \n",
    "    print(title)\n",
    "    docs = []\n",
    "    for file in os.listdir():\n",
    "        if file.endswith(\".txt\") and title == file.split('-')[2].split('.')[0]:\n",
    "            with open(file, encoding='utf8') as f:\n",
    "                contents = f.read()\n",
    "                titles_docs[title] = nlp(contents)\n"
   ]
  },
  {
   "cell_type": "markdown",
   "id": "0fd61cc2",
   "metadata": {},
   "source": [
    "# 3. Count entities in randomly-sampled 10,000-token segments"
   ]
  },
  {
   "cell_type": "code",
   "execution_count": 9,
   "id": "a461f3a6",
   "metadata": {},
   "outputs": [
    {
     "name": "stderr",
     "output_type": "stream",
     "text": [
      "100%|████████████████████████████████████████████████████████████████████████████████| 100/100 [07:06<00:00,  4.26s/it]\n",
      "100%|████████████████████████████████████████████████████████████████████████████████| 100/100 [07:26<00:00,  4.46s/it]\n",
      "100%|████████████████████████████████████████████████████████████████████████████████| 100/100 [03:58<00:00,  2.39s/it]\n",
      "100%|████████████████████████████████████████████████████████████████████████████████| 100/100 [06:06<00:00,  3.66s/it]\n",
      "100%|████████████████████████████████████████████████████████████████████████████████| 100/100 [04:36<00:00,  2.77s/it]\n",
      "100%|████████████████████████████████████████████████████████████████████████████████| 100/100 [07:27<00:00,  4.48s/it]\n",
      "100%|████████████████████████████████████████████████████████████████████████████████| 100/100 [08:08<00:00,  4.89s/it]\n",
      "100%|████████████████████████████████████████████████████████████████████████████████| 100/100 [08:20<00:00,  5.00s/it]\n",
      "100%|████████████████████████████████████████████████████████████████████████████████| 100/100 [07:38<00:00,  4.59s/it]\n",
      "100%|████████████████████████████████████████████████████████████████████████████████| 100/100 [06:28<00:00,  3.88s/it]\n",
      "100%|████████████████████████████████████████████████████████████████████████████████| 100/100 [09:56<00:00,  5.97s/it]\n",
      "100%|████████████████████████████████████████████████████████████████████████████████| 100/100 [05:39<00:00,  3.39s/it]\n",
      "100%|█████████████████████████████████████████████████████████████████████████████| 100/100 [3:56:28<00:00, 141.88s/it]\n",
      "100%|████████████████████████████████████████████████████████████████████████████████| 100/100 [10:52<00:00,  6.52s/it]\n",
      "100%|████████████████████████████████████████████████████████████████████████████████| 100/100 [10:45<00:00,  6.46s/it]\n",
      "100%|████████████████████████████████████████████████████████████████████████████████| 100/100 [32:09<00:00, 19.30s/it]\n",
      "100%|████████████████████████████████████████████████████████████████████████████████| 100/100 [11:17<00:00,  6.77s/it]\n",
      "100%|████████████████████████████████████████████████████████████████████████████████| 100/100 [19:33<00:00, 11.73s/it]\n",
      "100%|████████████████████████████████████████████████████████████████████████████████| 100/100 [15:14<00:00,  9.14s/it]\n",
      "100%|████████████████████████████████████████████████████████████████████████████████| 100/100 [09:52<00:00,  5.93s/it]\n",
      "100%|████████████████████████████████████████████████████████████████████████████████| 100/100 [11:29<00:00,  6.90s/it]\n",
      "100%|████████████████████████████████████████████████████████████████████████████████| 100/100 [25:43<00:00, 15.43s/it]\n",
      "100%|████████████████████████████████████████████████████████████████████████████████| 100/100 [21:39<00:00, 13.00s/it]\n",
      "100%|████████████████████████████████████████████████████████████████████████████████| 100/100 [03:35<00:00,  2.16s/it]\n",
      "100%|████████████████████████████████████████████████████████████████████████████████| 100/100 [17:49<00:00, 10.70s/it]\n",
      "100%|████████████████████████████████████████████████████████████████████████████████| 100/100 [09:38<00:00,  5.79s/it]\n",
      "100%|████████████████████████████████████████████████████████████████████████████████| 100/100 [33:36<00:00, 20.17s/it]\n",
      "100%|████████████████████████████████████████████████████████████████████████████████| 100/100 [18:25<00:00, 11.06s/it]\n",
      "100%|████████████████████████████████████████████████████████████████████████████████| 100/100 [23:15<00:00, 13.95s/it]\n",
      "100%|████████████████████████████████████████████████████████████████████████████████| 100/100 [03:44<00:00,  2.24s/it]\n",
      "100%|████████████████████████████████████████████████████████████████████████████| 100/100 [12:31:22<00:00, 450.83s/it]\n",
      "100%|████████████████████████████████████████████████████████████████████████████████| 100/100 [18:24<00:00, 11.04s/it]\n",
      "100%|████████████████████████████████████████████████████████████████████████████████| 100/100 [02:19<00:00,  1.39s/it]\n",
      "100%|████████████████████████████████████████████████████████████████████████████████| 100/100 [03:09<00:00,  1.89s/it]\n",
      "100%|████████████████████████████████████████████████████████████████████████████████| 100/100 [04:26<00:00,  2.66s/it]\n",
      "100%|████████████████████████████████████████████████████████████████████████████████| 100/100 [08:17<00:00,  4.98s/it]\n",
      "100%|████████████████████████████████████████████████████████████████████████████████| 100/100 [13:23<00:00,  8.03s/it]\n",
      "100%|██████████████████████████████████████████████████████████████████████████████| 100/100 [1:14:47<00:00, 44.88s/it]\n",
      "100%|████████████████████████████████████████████████████████████████████████████████| 100/100 [12:00<00:00,  7.20s/it]\n",
      "100%|████████████████████████████████████████████████████████████████████████████████| 100/100 [04:56<00:00,  2.96s/it]\n",
      "100%|████████████████████████████████████████████████████████████████████████████████| 100/100 [11:11<00:00,  6.72s/it]\n",
      "100%|█████████████████████████████████████████████████████████████████████████████| 100/100 [8:48:29<00:00, 317.09s/it]\n",
      "100%|████████████████████████████████████████████████████████████████████████████████| 100/100 [11:47<00:00,  7.07s/it]\n",
      "100%|████████████████████████████████████████████████████████████████████████████████| 100/100 [10:56<00:00,  6.57s/it]\n",
      "100%|████████████████████████████████████████████████████████████████████████████████| 100/100 [07:16<00:00,  4.36s/it]\n",
      "100%|████████████████████████████████████████████████████████████████████████████████| 100/100 [10:27<00:00,  6.27s/it]\n",
      "100%|████████████████████████████████████████████████████████████████████████████████| 100/100 [13:51<00:00,  8.31s/it]\n",
      "100%|████████████████████████████████████████████████████████████████████████████████| 100/100 [31:32<00:00, 18.92s/it]\n",
      "100%|█████████████████████████████████████████████████████████████████████████████| 100/100 [7:45:16<00:00, 279.16s/it]\n",
      "100%|████████████████████████████████████████████████████████████████████████████████| 100/100 [03:49<00:00,  2.29s/it]\n",
      "100%|████████████████████████████████████████████████████████████████████████████████| 100/100 [05:23<00:00,  3.24s/it]\n",
      "100%|████████████████████████████████████████████████████████████████████████████████| 100/100 [05:21<00:00,  3.21s/it]\n",
      "100%|████████████████████████████████████████████████████████████████████████████████| 100/100 [06:18<00:00,  3.79s/it]\n",
      "100%|████████████████████████████████████████████████████████████████████████████████| 100/100 [04:55<00:00,  2.96s/it]\n",
      "100%|████████████████████████████████████████████████████████████████████████████████| 100/100 [13:48<00:00,  8.28s/it]\n",
      "100%|████████████████████████████████████████████████████████████████████████████████| 100/100 [10:05<00:00,  6.06s/it]\n",
      "100%|████████████████████████████████████████████████████████████████████████████████| 100/100 [18:28<00:00, 11.08s/it]\n",
      "100%|████████████████████████████████████████████████████████████████████████████████| 100/100 [16:56<00:00, 10.17s/it]\n",
      "100%|████████████████████████████████████████████████████████████████████████████████| 100/100 [13:19<00:00,  7.99s/it]\n",
      "100%|████████████████████████████████████████████████████████████████████████████████| 100/100 [16:58<00:00, 10.18s/it]\n",
      "100%|████████████████████████████████████████████████████████████████████████████████| 100/100 [14:02<00:00,  8.42s/it]\n",
      "100%|████████████████████████████████████████████████████████████████████████████████| 100/100 [13:25<00:00,  8.05s/it]\n",
      "100%|████████████████████████████████████████████████████████████████████████████████| 100/100 [06:04<00:00,  3.64s/it]\n",
      "100%|████████████████████████████████████████████████████████████████████████████████| 100/100 [07:13<00:00,  4.34s/it]\n"
     ]
    }
   ],
   "source": [
    "n_iterations = 100\n",
    "segment_length = 10000\n",
    "\n",
    "iteration = [i for i in range(0, n_iterations)]\n",
    "multi_index = pd.MultiIndex.from_product([titles, iteration], names=('book_title', 'iteration'))\n",
    "\n",
    "books_entity_counts = pd.DataFrame(index = multi_index, columns=['entity_count'])\n",
    "books_entity_counts.entity_count = books_entity_counts.entity_count.fillna(0)\n",
    "\n",
    "\n",
    "for title in titles: \n",
    "    for iteration in tqdm(range(0, n_iterations)):\n",
    "        entity_count = 0\n",
    "        doc = titles_docs[title]\n",
    "        random_start_ix = random.randint(0, len(doc)-segment_length-1)\n",
    "        segment_doc = doc[random_start_ix : random_start_ix+segment_length]\n",
    "        for entity in bachman_entities: \n",
    "            for ent in segment_doc.ents:\n",
    "                if entity == clean_quotes(ent.text.lower()):\n",
    "                    entity_count += 1\n",
    "        books_entity_counts.loc[title, iteration] = entity_count"
   ]
  },
  {
   "cell_type": "code",
   "execution_count": 10,
   "id": "3f9d9221",
   "metadata": {},
   "outputs": [
    {
     "data": {
      "text/html": [
       "<div>\n",
       "<style scoped>\n",
       "    .dataframe tbody tr th:only-of-type {\n",
       "        vertical-align: middle;\n",
       "    }\n",
       "\n",
       "    .dataframe tbody tr th {\n",
       "        vertical-align: top;\n",
       "    }\n",
       "\n",
       "    .dataframe thead th {\n",
       "        text-align: right;\n",
       "    }\n",
       "</style>\n",
       "<table border=\"1\" class=\"dataframe\">\n",
       "  <thead>\n",
       "    <tr style=\"text-align: right;\">\n",
       "      <th></th>\n",
       "      <th></th>\n",
       "      <th>entity_count</th>\n",
       "    </tr>\n",
       "    <tr>\n",
       "      <th>book_title</th>\n",
       "      <th>iteration</th>\n",
       "      <th></th>\n",
       "    </tr>\n",
       "  </thead>\n",
       "  <tbody>\n",
       "    <tr>\n",
       "      <th rowspan=\"5\" valign=\"top\">The_Long_Walk</th>\n",
       "      <th>0</th>\n",
       "      <td>1</td>\n",
       "    </tr>\n",
       "    <tr>\n",
       "      <th>1</th>\n",
       "      <td>1</td>\n",
       "    </tr>\n",
       "    <tr>\n",
       "      <th>2</th>\n",
       "      <td>1</td>\n",
       "    </tr>\n",
       "    <tr>\n",
       "      <th>3</th>\n",
       "      <td>2</td>\n",
       "    </tr>\n",
       "    <tr>\n",
       "      <th>4</th>\n",
       "      <td>2</td>\n",
       "    </tr>\n",
       "    <tr>\n",
       "      <th>...</th>\n",
       "      <th>...</th>\n",
       "      <td>...</td>\n",
       "    </tr>\n",
       "    <tr>\n",
       "      <th rowspan=\"5\" valign=\"top\">In_The_Night_Room</th>\n",
       "      <th>95</th>\n",
       "      <td>0</td>\n",
       "    </tr>\n",
       "    <tr>\n",
       "      <th>96</th>\n",
       "      <td>1</td>\n",
       "    </tr>\n",
       "    <tr>\n",
       "      <th>97</th>\n",
       "      <td>3</td>\n",
       "    </tr>\n",
       "    <tr>\n",
       "      <th>98</th>\n",
       "      <td>11</td>\n",
       "    </tr>\n",
       "    <tr>\n",
       "      <th>99</th>\n",
       "      <td>4</td>\n",
       "    </tr>\n",
       "  </tbody>\n",
       "</table>\n",
       "<p>6400 rows × 1 columns</p>\n",
       "</div>"
      ],
      "text/plain": [
       "                             entity_count\n",
       "book_title        iteration              \n",
       "The_Long_Walk     0                     1\n",
       "                  1                     1\n",
       "                  2                     1\n",
       "                  3                     2\n",
       "                  4                     2\n",
       "...                                   ...\n",
       "In_The_Night_Room 95                    0\n",
       "                  96                    1\n",
       "                  97                    3\n",
       "                  98                   11\n",
       "                  99                    4\n",
       "\n",
       "[6400 rows x 1 columns]"
      ]
     },
     "execution_count": 10,
     "metadata": {},
     "output_type": "execute_result"
    }
   ],
   "source": [
    "books_entity_counts"
   ]
  },
  {
   "cell_type": "code",
   "execution_count": 11,
   "id": "22b57ef8",
   "metadata": {},
   "outputs": [],
   "source": [
    "titles_authors = pd.DataFrame({\"title\": titles,\n",
    "                              \"author\": authors })\n",
    "entity_counts_books_authors = pd.merge(books_entity_counts.reset_index(), \n",
    "                                       titles_authors.reset_index(), \n",
    "                                       left_on='book_title', \n",
    "                                       right_on='title', \n",
    "                                       how='left' )[['author', 'book_title', 'iteration', 'entity_count']]\n"
   ]
  },
  {
   "cell_type": "code",
   "execution_count": 12,
   "id": "54255a3f",
   "metadata": {},
   "outputs": [
    {
     "data": {
      "text/html": [
       "<div>\n",
       "<style scoped>\n",
       "    .dataframe tbody tr th:only-of-type {\n",
       "        vertical-align: middle;\n",
       "    }\n",
       "\n",
       "    .dataframe tbody tr th {\n",
       "        vertical-align: top;\n",
       "    }\n",
       "\n",
       "    .dataframe thead th {\n",
       "        text-align: right;\n",
       "    }\n",
       "</style>\n",
       "<table border=\"1\" class=\"dataframe\">\n",
       "  <thead>\n",
       "    <tr style=\"text-align: right;\">\n",
       "      <th></th>\n",
       "      <th>author</th>\n",
       "      <th>book_title</th>\n",
       "      <th>iteration</th>\n",
       "      <th>entity_count</th>\n",
       "    </tr>\n",
       "  </thead>\n",
       "  <tbody>\n",
       "    <tr>\n",
       "      <th>0</th>\n",
       "      <td>bachman</td>\n",
       "      <td>The_Long_Walk</td>\n",
       "      <td>0</td>\n",
       "      <td>1</td>\n",
       "    </tr>\n",
       "    <tr>\n",
       "      <th>1</th>\n",
       "      <td>bachman</td>\n",
       "      <td>The_Long_Walk</td>\n",
       "      <td>1</td>\n",
       "      <td>1</td>\n",
       "    </tr>\n",
       "    <tr>\n",
       "      <th>2</th>\n",
       "      <td>bachman</td>\n",
       "      <td>The_Long_Walk</td>\n",
       "      <td>2</td>\n",
       "      <td>1</td>\n",
       "    </tr>\n",
       "    <tr>\n",
       "      <th>3</th>\n",
       "      <td>bachman</td>\n",
       "      <td>The_Long_Walk</td>\n",
       "      <td>3</td>\n",
       "      <td>2</td>\n",
       "    </tr>\n",
       "    <tr>\n",
       "      <th>4</th>\n",
       "      <td>bachman</td>\n",
       "      <td>The_Long_Walk</td>\n",
       "      <td>4</td>\n",
       "      <td>2</td>\n",
       "    </tr>\n",
       "    <tr>\n",
       "      <th>...</th>\n",
       "      <td>...</td>\n",
       "      <td>...</td>\n",
       "      <td>...</td>\n",
       "      <td>...</td>\n",
       "    </tr>\n",
       "    <tr>\n",
       "      <th>6395</th>\n",
       "      <td>straub</td>\n",
       "      <td>In_The_Night_Room</td>\n",
       "      <td>95</td>\n",
       "      <td>0</td>\n",
       "    </tr>\n",
       "    <tr>\n",
       "      <th>6396</th>\n",
       "      <td>straub</td>\n",
       "      <td>In_The_Night_Room</td>\n",
       "      <td>96</td>\n",
       "      <td>1</td>\n",
       "    </tr>\n",
       "    <tr>\n",
       "      <th>6397</th>\n",
       "      <td>straub</td>\n",
       "      <td>In_The_Night_Room</td>\n",
       "      <td>97</td>\n",
       "      <td>3</td>\n",
       "    </tr>\n",
       "    <tr>\n",
       "      <th>6398</th>\n",
       "      <td>straub</td>\n",
       "      <td>In_The_Night_Room</td>\n",
       "      <td>98</td>\n",
       "      <td>11</td>\n",
       "    </tr>\n",
       "    <tr>\n",
       "      <th>6399</th>\n",
       "      <td>straub</td>\n",
       "      <td>In_The_Night_Room</td>\n",
       "      <td>99</td>\n",
       "      <td>4</td>\n",
       "    </tr>\n",
       "  </tbody>\n",
       "</table>\n",
       "<p>6400 rows × 4 columns</p>\n",
       "</div>"
      ],
      "text/plain": [
       "       author         book_title  iteration  entity_count\n",
       "0     bachman      The_Long_Walk          0             1\n",
       "1     bachman      The_Long_Walk          1             1\n",
       "2     bachman      The_Long_Walk          2             1\n",
       "3     bachman      The_Long_Walk          3             2\n",
       "4     bachman      The_Long_Walk          4             2\n",
       "...       ...                ...        ...           ...\n",
       "6395   straub  In_The_Night_Room         95             0\n",
       "6396   straub  In_The_Night_Room         96             1\n",
       "6397   straub  In_The_Night_Room         97             3\n",
       "6398   straub  In_The_Night_Room         98            11\n",
       "6399   straub  In_The_Night_Room         99             4\n",
       "\n",
       "[6400 rows x 4 columns]"
      ]
     },
     "execution_count": 12,
     "metadata": {},
     "output_type": "execute_result"
    }
   ],
   "source": [
    "entity_counts_books_authors.to_csv(\"pop_culture_refs_counts_books_10000token_segments.csv\")\n",
    "entity_counts_books_authors"
   ]
  },
  {
   "cell_type": "markdown",
   "id": "2d902d3d",
   "metadata": {},
   "source": [
    "# 4. Descriptive statistics of entity counts"
   ]
  },
  {
   "cell_type": "code",
   "execution_count": 13,
   "id": "2d916e26",
   "metadata": {},
   "outputs": [],
   "source": [
    "df = pd.read_csv(\"pop_culture_refs_counts_books_10000token_segments.csv\")\n",
    "grouped = df.groupby([\"author\", \"book_title\"])['entity_count'].agg([np.mean, np.median, np.min, np.max, np.std])\n",
    "grouped.to_csv(\"descriptive_stats_entity_counts.csv\")"
   ]
  },
  {
   "cell_type": "code",
   "execution_count": 16,
   "id": "285fbc64",
   "metadata": {},
   "outputs": [
    {
     "data": {
      "text/html": [
       "<div>\n",
       "<style scoped>\n",
       "    .dataframe tbody tr th:only-of-type {\n",
       "        vertical-align: middle;\n",
       "    }\n",
       "\n",
       "    .dataframe tbody tr th {\n",
       "        vertical-align: top;\n",
       "    }\n",
       "\n",
       "    .dataframe thead th {\n",
       "        text-align: right;\n",
       "    }\n",
       "</style>\n",
       "<table border=\"1\" class=\"dataframe\">\n",
       "  <thead>\n",
       "    <tr style=\"text-align: right;\">\n",
       "      <th></th>\n",
       "      <th>Unnamed: 0</th>\n",
       "      <th>author</th>\n",
       "      <th>book_title</th>\n",
       "      <th>iteration</th>\n",
       "      <th>entity_count</th>\n",
       "    </tr>\n",
       "  </thead>\n",
       "  <tbody>\n",
       "    <tr>\n",
       "      <th>0</th>\n",
       "      <td>0</td>\n",
       "      <td>Bachman</td>\n",
       "      <td>The Long Walk</td>\n",
       "      <td>0</td>\n",
       "      <td>1</td>\n",
       "    </tr>\n",
       "    <tr>\n",
       "      <th>1</th>\n",
       "      <td>1</td>\n",
       "      <td>Bachman</td>\n",
       "      <td>The Long Walk</td>\n",
       "      <td>1</td>\n",
       "      <td>1</td>\n",
       "    </tr>\n",
       "    <tr>\n",
       "      <th>2</th>\n",
       "      <td>2</td>\n",
       "      <td>Bachman</td>\n",
       "      <td>The Long Walk</td>\n",
       "      <td>2</td>\n",
       "      <td>1</td>\n",
       "    </tr>\n",
       "    <tr>\n",
       "      <th>3</th>\n",
       "      <td>3</td>\n",
       "      <td>Bachman</td>\n",
       "      <td>The Long Walk</td>\n",
       "      <td>3</td>\n",
       "      <td>2</td>\n",
       "    </tr>\n",
       "    <tr>\n",
       "      <th>4</th>\n",
       "      <td>4</td>\n",
       "      <td>Bachman</td>\n",
       "      <td>The Long Walk</td>\n",
       "      <td>4</td>\n",
       "      <td>2</td>\n",
       "    </tr>\n",
       "    <tr>\n",
       "      <th>...</th>\n",
       "      <td>...</td>\n",
       "      <td>...</td>\n",
       "      <td>...</td>\n",
       "      <td>...</td>\n",
       "      <td>...</td>\n",
       "    </tr>\n",
       "    <tr>\n",
       "      <th>6395</th>\n",
       "      <td>6395</td>\n",
       "      <td>Straub</td>\n",
       "      <td>In The Night Room</td>\n",
       "      <td>95</td>\n",
       "      <td>0</td>\n",
       "    </tr>\n",
       "    <tr>\n",
       "      <th>6396</th>\n",
       "      <td>6396</td>\n",
       "      <td>Straub</td>\n",
       "      <td>In The Night Room</td>\n",
       "      <td>96</td>\n",
       "      <td>1</td>\n",
       "    </tr>\n",
       "    <tr>\n",
       "      <th>6397</th>\n",
       "      <td>6397</td>\n",
       "      <td>Straub</td>\n",
       "      <td>In The Night Room</td>\n",
       "      <td>97</td>\n",
       "      <td>3</td>\n",
       "    </tr>\n",
       "    <tr>\n",
       "      <th>6398</th>\n",
       "      <td>6398</td>\n",
       "      <td>Straub</td>\n",
       "      <td>In The Night Room</td>\n",
       "      <td>98</td>\n",
       "      <td>11</td>\n",
       "    </tr>\n",
       "    <tr>\n",
       "      <th>6399</th>\n",
       "      <td>6399</td>\n",
       "      <td>Straub</td>\n",
       "      <td>In The Night Room</td>\n",
       "      <td>99</td>\n",
       "      <td>4</td>\n",
       "    </tr>\n",
       "  </tbody>\n",
       "</table>\n",
       "<p>6400 rows × 5 columns</p>\n",
       "</div>"
      ],
      "text/plain": [
       "      Unnamed: 0   author         book_title  iteration  entity_count\n",
       "0              0  Bachman      The Long Walk          0             1\n",
       "1              1  Bachman      The Long Walk          1             1\n",
       "2              2  Bachman      The Long Walk          2             1\n",
       "3              3  Bachman      The Long Walk          3             2\n",
       "4              4  Bachman      The Long Walk          4             2\n",
       "...          ...      ...                ...        ...           ...\n",
       "6395        6395   Straub  In The Night Room         95             0\n",
       "6396        6396   Straub  In The Night Room         96             1\n",
       "6397        6397   Straub  In The Night Room         97             3\n",
       "6398        6398   Straub  In The Night Room         98            11\n",
       "6399        6399   Straub  In The Night Room         99             4\n",
       "\n",
       "[6400 rows x 5 columns]"
      ]
     },
     "execution_count": 16,
     "metadata": {},
     "output_type": "execute_result"
    }
   ],
   "source": [
    "df.book_title=df.book_title.str.replace(\"_\", \" \");\n",
    "df.author=df.author.str.capitalize()\n",
    "df"
   ]
  },
  {
   "cell_type": "code",
   "execution_count": 32,
   "id": "3bbc0888",
   "metadata": {},
   "outputs": [
    {
     "data": {
      "text/html": [
       "<div>\n",
       "<style scoped>\n",
       "    .dataframe tbody tr th:only-of-type {\n",
       "        vertical-align: middle;\n",
       "    }\n",
       "\n",
       "    .dataframe tbody tr th {\n",
       "        vertical-align: top;\n",
       "    }\n",
       "\n",
       "    .dataframe thead th {\n",
       "        text-align: right;\n",
       "    }\n",
       "</style>\n",
       "<table border=\"1\" class=\"dataframe\">\n",
       "  <thead>\n",
       "    <tr style=\"text-align: right;\">\n",
       "      <th></th>\n",
       "      <th>mean</th>\n",
       "      <th>median</th>\n",
       "      <th>amin</th>\n",
       "      <th>amax</th>\n",
       "      <th>std</th>\n",
       "    </tr>\n",
       "    <tr>\n",
       "      <th>author</th>\n",
       "      <th></th>\n",
       "      <th></th>\n",
       "      <th></th>\n",
       "      <th></th>\n",
       "      <th></th>\n",
       "    </tr>\n",
       "  </thead>\n",
       "  <tbody>\n",
       "    <tr>\n",
       "      <th>Bachman</th>\n",
       "      <td>10.552857</td>\n",
       "      <td>6.0</td>\n",
       "      <td>0</td>\n",
       "      <td>53</td>\n",
       "      <td>11.320474</td>\n",
       "    </tr>\n",
       "    <tr>\n",
       "      <th>Harris</th>\n",
       "      <td>2.104000</td>\n",
       "      <td>1.0</td>\n",
       "      <td>0</td>\n",
       "      <td>13</td>\n",
       "      <td>2.291656</td>\n",
       "    </tr>\n",
       "    <tr>\n",
       "      <th>King</th>\n",
       "      <td>6.179500</td>\n",
       "      <td>3.0</td>\n",
       "      <td>0</td>\n",
       "      <td>89</td>\n",
       "      <td>9.200413</td>\n",
       "    </tr>\n",
       "    <tr>\n",
       "      <th>Koontz</th>\n",
       "      <td>7.908000</td>\n",
       "      <td>3.0</td>\n",
       "      <td>0</td>\n",
       "      <td>118</td>\n",
       "      <td>14.857823</td>\n",
       "    </tr>\n",
       "    <tr>\n",
       "      <th>Straub</th>\n",
       "      <td>4.401667</td>\n",
       "      <td>2.0</td>\n",
       "      <td>0</td>\n",
       "      <td>78</td>\n",
       "      <td>10.332520</td>\n",
       "    </tr>\n",
       "  </tbody>\n",
       "</table>\n",
       "</div>"
      ],
      "text/plain": [
       "              mean  median  amin  amax        std\n",
       "author                                           \n",
       "Bachman  10.552857     6.0     0    53  11.320474\n",
       "Harris    2.104000     1.0     0    13   2.291656\n",
       "King      6.179500     3.0     0    89   9.200413\n",
       "Koontz    7.908000     3.0     0   118  14.857823\n",
       "Straub    4.401667     2.0     0    78  10.332520"
      ]
     },
     "execution_count": 32,
     "metadata": {},
     "output_type": "execute_result"
    }
   ],
   "source": [
    "df.groupby([\"author\"])['entity_count'].agg([np.mean, np.median, np.min, np.max, np.std])"
   ]
  },
  {
   "cell_type": "code",
   "execution_count": 30,
   "id": "d02e6300",
   "metadata": {},
   "outputs": [
    {
     "data": {
      "text/plain": [
       "[Text(0, 0.5, 'Book Title'), Text(0.5, 0, 'Pop Culture Reference Count')]"
      ]
     },
     "execution_count": 30,
     "metadata": {},
     "output_type": "execute_result"
    },
    {
     "data": {
      "image/png": "[encoded data removed]",
      "text/plain": [
       "<Figure size 720x1440 with 1 Axes>"
      ]
     },
     "metadata": {},
     "output_type": "display_data"
    }
   ],
   "source": [
    "sns.set(rc={'figure.figsize':(10,20)})\n",
    "sns.boxplot(x=df['entity_count'], y=df['book_title'], hue=df['author'], dodge=False).set(ylabel=\"Book Title\", xlabel=\"Pop Culture Reference Count\")"
   ]
  }
 ],
 "metadata": {
  "kernelspec": {
   "display_name": "Python 3 (ipykernel)",
   "language": "python",
   "name": "python3"
  },
  "language_info": {
   "codemirror_mode": {
    "name": "ipython",
    "version": 3
   },
   "file_extension": ".py",
   "mimetype": "text/x-python",
   "name": "python",
   "nbconvert_exporter": "python",
   "pygments_lexer": "ipython3",
   "version": "3.9.12"
  }
 },
 "nbformat": 4,
 "nbformat_minor": 5
}
