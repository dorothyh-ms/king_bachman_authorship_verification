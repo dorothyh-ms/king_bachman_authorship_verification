{
 "cells": [
  {
   "cell_type": "code",
   "execution_count": 2,
   "id": "6b52a6d7",
   "metadata": {},
   "outputs": [
    {
     "data": {
      "text/html": [
       "<table>\n",
       "<thead><tr><th scope=col>X</th><th scope=col>author</th><th scope=col>book_title</th><th scope=col>iteration</th><th scope=col>entity_count</th></tr></thead>\n",
       "<tbody>\n",
       "\t<tr><td> 0           </td><td>bachman      </td><td>The_Long_Walk</td><td> 0           </td><td>3            </td></tr>\n",
       "\t<tr><td> 1           </td><td>bachman      </td><td>The_Long_Walk</td><td> 1           </td><td>1            </td></tr>\n",
       "\t<tr><td> 2           </td><td>bachman      </td><td>The_Long_Walk</td><td> 2           </td><td>1            </td></tr>\n",
       "\t<tr><td> 3           </td><td>bachman      </td><td>The_Long_Walk</td><td> 3           </td><td>2            </td></tr>\n",
       "\t<tr><td> 4           </td><td>bachman      </td><td>The_Long_Walk</td><td> 4           </td><td>1            </td></tr>\n",
       "\t<tr><td> 5           </td><td>bachman      </td><td>The_Long_Walk</td><td> 5           </td><td>3            </td></tr>\n",
       "\t<tr><td> 6           </td><td>bachman      </td><td>The_Long_Walk</td><td> 6           </td><td>0            </td></tr>\n",
       "\t<tr><td> 7           </td><td>bachman      </td><td>The_Long_Walk</td><td> 7           </td><td>1            </td></tr>\n",
       "\t<tr><td> 8           </td><td>bachman      </td><td>The_Long_Walk</td><td> 8           </td><td>3            </td></tr>\n",
       "\t<tr><td> 9           </td><td>bachman      </td><td>The_Long_Walk</td><td> 9           </td><td>2            </td></tr>\n",
       "\t<tr><td>10           </td><td>bachman      </td><td>The_Long_Walk</td><td>10           </td><td>3            </td></tr>\n",
       "\t<tr><td>11           </td><td>bachman      </td><td>The_Long_Walk</td><td>11           </td><td>1            </td></tr>\n",
       "\t<tr><td>12           </td><td>bachman      </td><td>The_Long_Walk</td><td>12           </td><td>4            </td></tr>\n",
       "\t<tr><td>13           </td><td>bachman      </td><td>The_Long_Walk</td><td>13           </td><td>3            </td></tr>\n",
       "\t<tr><td>14           </td><td>bachman      </td><td>The_Long_Walk</td><td>14           </td><td>1            </td></tr>\n",
       "\t<tr><td>15           </td><td>bachman      </td><td>The_Long_Walk</td><td>15           </td><td>2            </td></tr>\n",
       "\t<tr><td>16           </td><td>bachman      </td><td>The_Long_Walk</td><td>16           </td><td>2            </td></tr>\n",
       "\t<tr><td>17           </td><td>bachman      </td><td>The_Long_Walk</td><td>17           </td><td>3            </td></tr>\n",
       "\t<tr><td>18           </td><td>bachman      </td><td>The_Long_Walk</td><td>18           </td><td>4            </td></tr>\n",
       "\t<tr><td>19           </td><td>bachman      </td><td>The_Long_Walk</td><td>19           </td><td>1            </td></tr>\n",
       "\t<tr><td>20           </td><td>bachman      </td><td>The_Long_Walk</td><td>20           </td><td>2            </td></tr>\n",
       "\t<tr><td>21           </td><td>bachman      </td><td>The_Long_Walk</td><td>21           </td><td>1            </td></tr>\n",
       "\t<tr><td>22           </td><td>bachman      </td><td>The_Long_Walk</td><td>22           </td><td>3            </td></tr>\n",
       "\t<tr><td>23           </td><td>bachman      </td><td>The_Long_Walk</td><td>23           </td><td>1            </td></tr>\n",
       "\t<tr><td>24           </td><td>bachman      </td><td>The_Long_Walk</td><td>24           </td><td>2            </td></tr>\n",
       "\t<tr><td>25           </td><td>bachman      </td><td>The_Long_Walk</td><td>25           </td><td>3            </td></tr>\n",
       "\t<tr><td>26           </td><td>bachman      </td><td>The_Long_Walk</td><td>26           </td><td>1            </td></tr>\n",
       "\t<tr><td>27           </td><td>bachman      </td><td>The_Long_Walk</td><td>27           </td><td>4            </td></tr>\n",
       "\t<tr><td>28           </td><td>bachman      </td><td>The_Long_Walk</td><td>28           </td><td>0            </td></tr>\n",
       "\t<tr><td>29           </td><td>bachman      </td><td>The_Long_Walk</td><td>29           </td><td>2            </td></tr>\n",
       "\t<tr><td>...</td><td>...</td><td>...</td><td>...</td><td>...</td></tr>\n",
       "\t<tr><td>6370             </td><td>straub           </td><td>In_The_Night_Room</td><td>70               </td><td> 6               </td></tr>\n",
       "\t<tr><td>6371             </td><td>straub           </td><td>In_The_Night_Room</td><td>71               </td><td> 1               </td></tr>\n",
       "\t<tr><td>6372             </td><td>straub           </td><td>In_The_Night_Room</td><td>72               </td><td> 1               </td></tr>\n",
       "\t<tr><td>6373             </td><td>straub           </td><td>In_The_Night_Room</td><td>73               </td><td> 0               </td></tr>\n",
       "\t<tr><td>6374             </td><td>straub           </td><td>In_The_Night_Room</td><td>74               </td><td> 0               </td></tr>\n",
       "\t<tr><td>6375             </td><td>straub           </td><td>In_The_Night_Room</td><td>75               </td><td> 3               </td></tr>\n",
       "\t<tr><td>6376             </td><td>straub           </td><td>In_The_Night_Room</td><td>76               </td><td> 6               </td></tr>\n",
       "\t<tr><td>6377             </td><td>straub           </td><td>In_The_Night_Room</td><td>77               </td><td> 3               </td></tr>\n",
       "\t<tr><td>6378             </td><td>straub           </td><td>In_The_Night_Room</td><td>78               </td><td>11               </td></tr>\n",
       "\t<tr><td>6379             </td><td>straub           </td><td>In_The_Night_Room</td><td>79               </td><td> 7               </td></tr>\n",
       "\t<tr><td>6380             </td><td>straub           </td><td>In_The_Night_Room</td><td>80               </td><td> 3               </td></tr>\n",
       "\t<tr><td>6381             </td><td>straub           </td><td>In_The_Night_Room</td><td>81               </td><td> 6               </td></tr>\n",
       "\t<tr><td>6382             </td><td>straub           </td><td>In_The_Night_Room</td><td>82               </td><td> 1               </td></tr>\n",
       "\t<tr><td>6383             </td><td>straub           </td><td>In_The_Night_Room</td><td>83               </td><td> 3               </td></tr>\n",
       "\t<tr><td>6384             </td><td>straub           </td><td>In_The_Night_Room</td><td>84               </td><td> 1               </td></tr>\n",
       "\t<tr><td>6385             </td><td>straub           </td><td>In_The_Night_Room</td><td>85               </td><td>10               </td></tr>\n",
       "\t<tr><td>6386             </td><td>straub           </td><td>In_The_Night_Room</td><td>86               </td><td> 3               </td></tr>\n",
       "\t<tr><td>6387             </td><td>straub           </td><td>In_The_Night_Room</td><td>87               </td><td> 0               </td></tr>\n",
       "\t<tr><td>6388             </td><td>straub           </td><td>In_The_Night_Room</td><td>88               </td><td> 0               </td></tr>\n",
       "\t<tr><td>6389             </td><td>straub           </td><td>In_The_Night_Room</td><td>89               </td><td> 8               </td></tr>\n",
       "\t<tr><td>6390             </td><td>straub           </td><td>In_The_Night_Room</td><td>90               </td><td> 1               </td></tr>\n",
       "\t<tr><td>6391             </td><td>straub           </td><td>In_The_Night_Room</td><td>91               </td><td> 4               </td></tr>\n",
       "\t<tr><td>6392             </td><td>straub           </td><td>In_The_Night_Room</td><td>92               </td><td> 0               </td></tr>\n",
       "\t<tr><td>6393             </td><td>straub           </td><td>In_The_Night_Room</td><td>93               </td><td> 3               </td></tr>\n",
       "\t<tr><td>6394             </td><td>straub           </td><td>In_The_Night_Room</td><td>94               </td><td> 1               </td></tr>\n",
       "\t<tr><td>6395             </td><td>straub           </td><td>In_The_Night_Room</td><td>95               </td><td> 0               </td></tr>\n",
       "\t<tr><td>6396             </td><td>straub           </td><td>In_The_Night_Room</td><td>96               </td><td> 6               </td></tr>\n",
       "\t<tr><td>6397             </td><td>straub           </td><td>In_The_Night_Room</td><td>97               </td><td>11               </td></tr>\n",
       "\t<tr><td>6398             </td><td>straub           </td><td>In_The_Night_Room</td><td>98               </td><td> 3               </td></tr>\n",
       "\t<tr><td>6399             </td><td>straub           </td><td>In_The_Night_Room</td><td>99               </td><td> 3               </td></tr>\n",
       "</tbody>\n",
       "</table>\n"
      ],
      "text/latex": [
       "\\begin{tabular}{r|lllll}\n",
       " X & author & book\\_title & iteration & entity\\_count\\\\\n",
       "\\hline\n",
       "\t  0                & bachman           & The\\_Long\\_Walk &  0                & 3                \\\\\n",
       "\t  1                & bachman           & The\\_Long\\_Walk &  1                & 1                \\\\\n",
       "\t  2                & bachman           & The\\_Long\\_Walk &  2                & 1                \\\\\n",
       "\t  3                & bachman           & The\\_Long\\_Walk &  3                & 2                \\\\\n",
       "\t  4                & bachman           & The\\_Long\\_Walk &  4                & 1                \\\\\n",
       "\t  5                & bachman           & The\\_Long\\_Walk &  5                & 3                \\\\\n",
       "\t  6                & bachman           & The\\_Long\\_Walk &  6                & 0                \\\\\n",
       "\t  7                & bachman           & The\\_Long\\_Walk &  7                & 1                \\\\\n",
       "\t  8                & bachman           & The\\_Long\\_Walk &  8                & 3                \\\\\n",
       "\t  9                & bachman           & The\\_Long\\_Walk &  9                & 2                \\\\\n",
       "\t 10                & bachman           & The\\_Long\\_Walk & 10                & 3                \\\\\n",
       "\t 11                & bachman           & The\\_Long\\_Walk & 11                & 1                \\\\\n",
       "\t 12                & bachman           & The\\_Long\\_Walk & 12                & 4                \\\\\n",
       "\t 13                & bachman           & The\\_Long\\_Walk & 13                & 3                \\\\\n",
       "\t 14                & bachman           & The\\_Long\\_Walk & 14                & 1                \\\\\n",
       "\t 15                & bachman           & The\\_Long\\_Walk & 15                & 2                \\\\\n",
       "\t 16                & bachman           & The\\_Long\\_Walk & 16                & 2                \\\\\n",
       "\t 17                & bachman           & The\\_Long\\_Walk & 17                & 3                \\\\\n",
       "\t 18                & bachman           & The\\_Long\\_Walk & 18                & 4                \\\\\n",
       "\t 19                & bachman           & The\\_Long\\_Walk & 19                & 1                \\\\\n",
       "\t 20                & bachman           & The\\_Long\\_Walk & 20                & 2                \\\\\n",
       "\t 21                & bachman           & The\\_Long\\_Walk & 21                & 1                \\\\\n",
       "\t 22                & bachman           & The\\_Long\\_Walk & 22                & 3                \\\\\n",
       "\t 23                & bachman           & The\\_Long\\_Walk & 23                & 1                \\\\\n",
       "\t 24                & bachman           & The\\_Long\\_Walk & 24                & 2                \\\\\n",
       "\t 25                & bachman           & The\\_Long\\_Walk & 25                & 3                \\\\\n",
       "\t 26                & bachman           & The\\_Long\\_Walk & 26                & 1                \\\\\n",
       "\t 27                & bachman           & The\\_Long\\_Walk & 27                & 4                \\\\\n",
       "\t 28                & bachman           & The\\_Long\\_Walk & 28                & 0                \\\\\n",
       "\t 29                & bachman           & The\\_Long\\_Walk & 29                & 2                \\\\\n",
       "\t ... & ... & ... & ... & ...\\\\\n",
       "\t 6370                    & straub                  & In\\_The\\_Night\\_Room & 70                      &  6                     \\\\\n",
       "\t 6371                    & straub                  & In\\_The\\_Night\\_Room & 71                      &  1                     \\\\\n",
       "\t 6372                    & straub                  & In\\_The\\_Night\\_Room & 72                      &  1                     \\\\\n",
       "\t 6373                    & straub                  & In\\_The\\_Night\\_Room & 73                      &  0                     \\\\\n",
       "\t 6374                    & straub                  & In\\_The\\_Night\\_Room & 74                      &  0                     \\\\\n",
       "\t 6375                    & straub                  & In\\_The\\_Night\\_Room & 75                      &  3                     \\\\\n",
       "\t 6376                    & straub                  & In\\_The\\_Night\\_Room & 76                      &  6                     \\\\\n",
       "\t 6377                    & straub                  & In\\_The\\_Night\\_Room & 77                      &  3                     \\\\\n",
       "\t 6378                    & straub                  & In\\_The\\_Night\\_Room & 78                      & 11                     \\\\\n",
       "\t 6379                    & straub                  & In\\_The\\_Night\\_Room & 79                      &  7                     \\\\\n",
       "\t 6380                    & straub                  & In\\_The\\_Night\\_Room & 80                      &  3                     \\\\\n",
       "\t 6381                    & straub                  & In\\_The\\_Night\\_Room & 81                      &  6                     \\\\\n",
       "\t 6382                    & straub                  & In\\_The\\_Night\\_Room & 82                      &  1                     \\\\\n",
       "\t 6383                    & straub                  & In\\_The\\_Night\\_Room & 83                      &  3                     \\\\\n",
       "\t 6384                    & straub                  & In\\_The\\_Night\\_Room & 84                      &  1                     \\\\\n",
       "\t 6385                    & straub                  & In\\_The\\_Night\\_Room & 85                      & 10                     \\\\\n",
       "\t 6386                    & straub                  & In\\_The\\_Night\\_Room & 86                      &  3                     \\\\\n",
       "\t 6387                    & straub                  & In\\_The\\_Night\\_Room & 87                      &  0                     \\\\\n",
       "\t 6388                    & straub                  & In\\_The\\_Night\\_Room & 88                      &  0                     \\\\\n",
       "\t 6389                    & straub                  & In\\_The\\_Night\\_Room & 89                      &  8                     \\\\\n",
       "\t 6390                    & straub                  & In\\_The\\_Night\\_Room & 90                      &  1                     \\\\\n",
       "\t 6391                    & straub                  & In\\_The\\_Night\\_Room & 91                      &  4                     \\\\\n",
       "\t 6392                    & straub                  & In\\_The\\_Night\\_Room & 92                      &  0                     \\\\\n",
       "\t 6393                    & straub                  & In\\_The\\_Night\\_Room & 93                      &  3                     \\\\\n",
       "\t 6394                    & straub                  & In\\_The\\_Night\\_Room & 94                      &  1                     \\\\\n",
       "\t 6395                    & straub                  & In\\_The\\_Night\\_Room & 95                      &  0                     \\\\\n",
       "\t 6396                    & straub                  & In\\_The\\_Night\\_Room & 96                      &  6                     \\\\\n",
       "\t 6397                    & straub                  & In\\_The\\_Night\\_Room & 97                      & 11                     \\\\\n",
       "\t 6398                    & straub                  & In\\_The\\_Night\\_Room & 98                      &  3                     \\\\\n",
       "\t 6399                    & straub                  & In\\_The\\_Night\\_Room & 99                      &  3                     \\\\\n",
       "\\end{tabular}\n"
      ],
      "text/markdown": [
       "\n",
       "| X | author | book_title | iteration | entity_count |\n",
       "|---|---|---|---|---|\n",
       "|  0            | bachman       | The_Long_Walk |  0            | 3             |\n",
       "|  1            | bachman       | The_Long_Walk |  1            | 1             |\n",
       "|  2            | bachman       | The_Long_Walk |  2            | 1             |\n",
       "|  3            | bachman       | The_Long_Walk |  3            | 2             |\n",
       "|  4            | bachman       | The_Long_Walk |  4            | 1             |\n",
       "|  5            | bachman       | The_Long_Walk |  5            | 3             |\n",
       "|  6            | bachman       | The_Long_Walk |  6            | 0             |\n",
       "|  7            | bachman       | The_Long_Walk |  7            | 1             |\n",
       "|  8            | bachman       | The_Long_Walk |  8            | 3             |\n",
       "|  9            | bachman       | The_Long_Walk |  9            | 2             |\n",
       "| 10            | bachman       | The_Long_Walk | 10            | 3             |\n",
       "| 11            | bachman       | The_Long_Walk | 11            | 1             |\n",
       "| 12            | bachman       | The_Long_Walk | 12            | 4             |\n",
       "| 13            | bachman       | The_Long_Walk | 13            | 3             |\n",
       "| 14            | bachman       | The_Long_Walk | 14            | 1             |\n",
       "| 15            | bachman       | The_Long_Walk | 15            | 2             |\n",
       "| 16            | bachman       | The_Long_Walk | 16            | 2             |\n",
       "| 17            | bachman       | The_Long_Walk | 17            | 3             |\n",
       "| 18            | bachman       | The_Long_Walk | 18            | 4             |\n",
       "| 19            | bachman       | The_Long_Walk | 19            | 1             |\n",
       "| 20            | bachman       | The_Long_Walk | 20            | 2             |\n",
       "| 21            | bachman       | The_Long_Walk | 21            | 1             |\n",
       "| 22            | bachman       | The_Long_Walk | 22            | 3             |\n",
       "| 23            | bachman       | The_Long_Walk | 23            | 1             |\n",
       "| 24            | bachman       | The_Long_Walk | 24            | 2             |\n",
       "| 25            | bachman       | The_Long_Walk | 25            | 3             |\n",
       "| 26            | bachman       | The_Long_Walk | 26            | 1             |\n",
       "| 27            | bachman       | The_Long_Walk | 27            | 4             |\n",
       "| 28            | bachman       | The_Long_Walk | 28            | 0             |\n",
       "| 29            | bachman       | The_Long_Walk | 29            | 2             |\n",
       "| ... | ... | ... | ... | ... |\n",
       "| 6370              | straub            | In_The_Night_Room | 70                |  6                |\n",
       "| 6371              | straub            | In_The_Night_Room | 71                |  1                |\n",
       "| 6372              | straub            | In_The_Night_Room | 72                |  1                |\n",
       "| 6373              | straub            | In_The_Night_Room | 73                |  0                |\n",
       "| 6374              | straub            | In_The_Night_Room | 74                |  0                |\n",
       "| 6375              | straub            | In_The_Night_Room | 75                |  3                |\n",
       "| 6376              | straub            | In_The_Night_Room | 76                |  6                |\n",
       "| 6377              | straub            | In_The_Night_Room | 77                |  3                |\n",
       "| 6378              | straub            | In_The_Night_Room | 78                | 11                |\n",
       "| 6379              | straub            | In_The_Night_Room | 79                |  7                |\n",
       "| 6380              | straub            | In_The_Night_Room | 80                |  3                |\n",
       "| 6381              | straub            | In_The_Night_Room | 81                |  6                |\n",
       "| 6382              | straub            | In_The_Night_Room | 82                |  1                |\n",
       "| 6383              | straub            | In_The_Night_Room | 83                |  3                |\n",
       "| 6384              | straub            | In_The_Night_Room | 84                |  1                |\n",
       "| 6385              | straub            | In_The_Night_Room | 85                | 10                |\n",
       "| 6386              | straub            | In_The_Night_Room | 86                |  3                |\n",
       "| 6387              | straub            | In_The_Night_Room | 87                |  0                |\n",
       "| 6388              | straub            | In_The_Night_Room | 88                |  0                |\n",
       "| 6389              | straub            | In_The_Night_Room | 89                |  8                |\n",
       "| 6390              | straub            | In_The_Night_Room | 90                |  1                |\n",
       "| 6391              | straub            | In_The_Night_Room | 91                |  4                |\n",
       "| 6392              | straub            | In_The_Night_Room | 92                |  0                |\n",
       "| 6393              | straub            | In_The_Night_Room | 93                |  3                |\n",
       "| 6394              | straub            | In_The_Night_Room | 94                |  1                |\n",
       "| 6395              | straub            | In_The_Night_Room | 95                |  0                |\n",
       "| 6396              | straub            | In_The_Night_Room | 96                |  6                |\n",
       "| 6397              | straub            | In_The_Night_Room | 97                | 11                |\n",
       "| 6398              | straub            | In_The_Night_Room | 98                |  3                |\n",
       "| 6399              | straub            | In_The_Night_Room | 99                |  3                |\n",
       "\n"
      ],
      "text/plain": [
       "     X    author  book_title        iteration entity_count\n",
       "1     0   bachman The_Long_Walk      0        3           \n",
       "2     1   bachman The_Long_Walk      1        1           \n",
       "3     2   bachman The_Long_Walk      2        1           \n",
       "4     3   bachman The_Long_Walk      3        2           \n",
       "5     4   bachman The_Long_Walk      4        1           \n",
       "6     5   bachman The_Long_Walk      5        3           \n",
       "7     6   bachman The_Long_Walk      6        0           \n",
       "8     7   bachman The_Long_Walk      7        1           \n",
       "9     8   bachman The_Long_Walk      8        3           \n",
       "10    9   bachman The_Long_Walk      9        2           \n",
       "11   10   bachman The_Long_Walk     10        3           \n",
       "12   11   bachman The_Long_Walk     11        1           \n",
       "13   12   bachman The_Long_Walk     12        4           \n",
       "14   13   bachman The_Long_Walk     13        3           \n",
       "15   14   bachman The_Long_Walk     14        1           \n",
       "16   15   bachman The_Long_Walk     15        2           \n",
       "17   16   bachman The_Long_Walk     16        2           \n",
       "18   17   bachman The_Long_Walk     17        3           \n",
       "19   18   bachman The_Long_Walk     18        4           \n",
       "20   19   bachman The_Long_Walk     19        1           \n",
       "21   20   bachman The_Long_Walk     20        2           \n",
       "22   21   bachman The_Long_Walk     21        1           \n",
       "23   22   bachman The_Long_Walk     22        3           \n",
       "24   23   bachman The_Long_Walk     23        1           \n",
       "25   24   bachman The_Long_Walk     24        2           \n",
       "26   25   bachman The_Long_Walk     25        3           \n",
       "27   26   bachman The_Long_Walk     26        1           \n",
       "28   27   bachman The_Long_Walk     27        4           \n",
       "29   28   bachman The_Long_Walk     28        0           \n",
       "30   29   bachman The_Long_Walk     29        2           \n",
       "...  ...  ...     ...               ...       ...         \n",
       "6371 6370 straub  In_The_Night_Room 70         6          \n",
       "6372 6371 straub  In_The_Night_Room 71         1          \n",
       "6373 6372 straub  In_The_Night_Room 72         1          \n",
       "6374 6373 straub  In_The_Night_Room 73         0          \n",
       "6375 6374 straub  In_The_Night_Room 74         0          \n",
       "6376 6375 straub  In_The_Night_Room 75         3          \n",
       "6377 6376 straub  In_The_Night_Room 76         6          \n",
       "6378 6377 straub  In_The_Night_Room 77         3          \n",
       "6379 6378 straub  In_The_Night_Room 78        11          \n",
       "6380 6379 straub  In_The_Night_Room 79         7          \n",
       "6381 6380 straub  In_The_Night_Room 80         3          \n",
       "6382 6381 straub  In_The_Night_Room 81         6          \n",
       "6383 6382 straub  In_The_Night_Room 82         1          \n",
       "6384 6383 straub  In_The_Night_Room 83         3          \n",
       "6385 6384 straub  In_The_Night_Room 84         1          \n",
       "6386 6385 straub  In_The_Night_Room 85        10          \n",
       "6387 6386 straub  In_The_Night_Room 86         3          \n",
       "6388 6387 straub  In_The_Night_Room 87         0          \n",
       "6389 6388 straub  In_The_Night_Room 88         0          \n",
       "6390 6389 straub  In_The_Night_Room 89         8          \n",
       "6391 6390 straub  In_The_Night_Room 90         1          \n",
       "6392 6391 straub  In_The_Night_Room 91         4          \n",
       "6393 6392 straub  In_The_Night_Room 92         0          \n",
       "6394 6393 straub  In_The_Night_Room 93         3          \n",
       "6395 6394 straub  In_The_Night_Room 94         1          \n",
       "6396 6395 straub  In_The_Night_Room 95         0          \n",
       "6397 6396 straub  In_The_Night_Room 96         6          \n",
       "6398 6397 straub  In_The_Night_Room 97        11          \n",
       "6399 6398 straub  In_The_Night_Room 98         3          \n",
       "6400 6399 straub  In_The_Night_Room 99         3          "
      ]
     },
     "metadata": {},
     "output_type": "display_data"
    }
   ],
   "source": [
    "df <- read.delim('pop_culture_refs_counts_books_10000token_segments.csv', sep=',')\n",
    "df"
   ]
  },
  {
   "cell_type": "code",
   "execution_count": 3,
   "id": "8303a5ae",
   "metadata": {},
   "outputs": [
    {
     "data": {
      "image/png": "[encoded data removed]",
      "text/plain": [
       "plot without title"
      ]
     },
     "metadata": {},
     "output_type": "display_data"
    }
   ],
   "source": [
    "boxplot(df$entity_count~df$author, ylab='Pop Culture Reference Count', xlab='Author')"
   ]
  },
  {
   "cell_type": "code",
   "execution_count": 4,
   "id": "de964095",
   "metadata": {},
   "outputs": [],
   "source": [
    "bachman_entity_counts = df[df$author == 'bachman', ]$entity_count\n",
    "king_entity_counts = df[df$author == 'king', ]$entity_count\n",
    "harris_entity_counts = df[df$author == 'harris', ]$entity_count\n",
    "koontz_entity_counts = df[df$author == 'koontz', ]$entity_count\n",
    "straub_entity_counts = df[df$author == 'straub', ]$entity_count"
   ]
  },
  {
   "cell_type": "code",
   "execution_count": 5,
   "id": "74a63edc",
   "metadata": {},
   "outputs": [
    {
     "data": {
      "text/html": [
       "2000"
      ],
      "text/latex": [
       "2000"
      ],
      "text/markdown": [
       "2000"
      ],
      "text/plain": [
       "[1] 2000"
      ]
     },
     "metadata": {},
     "output_type": "display_data"
    }
   ],
   "source": [
    "length(king_entity_counts)"
   ]
  },
  {
   "cell_type": "code",
   "execution_count": 6,
   "id": "ff21dede",
   "metadata": {
    "scrolled": true
   },
   "outputs": [
    {
     "data": {
      "text/plain": [
       "\n",
       "\tWilcoxon rank sum test with continuity correction\n",
       "\n",
       "data:  bachman_entity_counts and straub_entity_counts\n",
       "W = 662439, p-value < 2.2e-16\n",
       "alternative hypothesis: true location shift is greater than 0\n"
      ]
     },
     "metadata": {},
     "output_type": "display_data"
    },
    {
     "data": {
      "text/plain": [
       "\n",
       "\tWilcoxon rank sum test with continuity correction\n",
       "\n",
       "data:  bachman_entity_counts and koontz_entity_counts\n",
       "W = 1011395, p-value < 2.2e-16\n",
       "alternative hypothesis: true location shift is greater than 0\n"
      ]
     },
     "metadata": {},
     "output_type": "display_data"
    },
    {
     "data": {
      "text/plain": [
       "\n",
       "\tWilcoxon rank sum test with continuity correction\n",
       "\n",
       "data:  bachman_entity_counts and king_entity_counts\n",
       "W = 963633, p-value < 2.2e-16\n",
       "alternative hypothesis: true location shift is greater than 0\n"
      ]
     },
     "metadata": {},
     "output_type": "display_data"
    },
    {
     "data": {
      "text/plain": [
       "\n",
       "\tWilcoxon rank sum test with continuity correction\n",
       "\n",
       "data:  bachman_entity_counts and harris_entity_counts\n",
       "W = 274381, p-value < 2.2e-16\n",
       "alternative hypothesis: true location shift is greater than 0\n"
      ]
     },
     "metadata": {},
     "output_type": "display_data"
    }
   ],
   "source": [
    "# Bachman vs rest\n",
    "wilcox.test(bachman_entity_counts, straub_entity_counts, alternative=\"greater\")\n",
    "wilcox.test(bachman_entity_counts, koontz_entity_counts, alternative=\"greater\")\n",
    "wilcox.test(bachman_entity_counts, king_entity_counts, alternative=\"greater\")\n",
    "wilcox.test(bachman_entity_counts, harris_entity_counts, alternative=\"greater\")"
   ]
  },
  {
   "cell_type": "code",
   "execution_count": 13,
   "id": "3ef4888b",
   "metadata": {},
   "outputs": [
    {
     "data": {
      "text/plain": [
       "\n",
       "\tWilcoxon rank sum test with continuity correction\n",
       "\n",
       "data:  king_entity_counts and straub_entity_counts\n",
       "W = 1560287, p-value < 2.2e-16\n",
       "alternative hypothesis: true location shift is greater than 0\n"
      ]
     },
     "metadata": {},
     "output_type": "display_data"
    },
    {
     "data": {
      "text/plain": [
       "\n",
       "\tWilcoxon rank sum test with continuity correction\n",
       "\n",
       "data:  king_entity_counts and koontz_entity_counts\n",
       "W = 2222412, p-value = 3.658e-10\n",
       "alternative hypothesis: true location shift is greater than 0\n"
      ]
     },
     "metadata": {},
     "output_type": "display_data"
    },
    {
     "data": {
      "text/plain": [
       "\n",
       "\tWilcoxon rank sum test with continuity correction\n",
       "\n",
       "data:  king_entity_counts and harris_entity_counts\n",
       "W = 639999, p-value < 2.2e-16\n",
       "alternative hypothesis: true location shift is greater than 0\n"
      ]
     },
     "metadata": {},
     "output_type": "display_data"
    }
   ],
   "source": [
    "# King vs rest\n",
    "wilcox.test(king_entity_counts, straub_entity_counts, alternative=\"greater\")\n",
    "\n",
    "wilcox.test(king_entity_counts, koontz_entity_counts, alternative=\"greater\")\n",
    "\n",
    "wilcox.test(king_entity_counts, harris_entity_counts, alternative=\"greater\")"
   ]
  }
 ],
 "metadata": {
  "kernelspec": {
   "display_name": "R",
   "language": "R",
   "name": "ir"
  },
  "language_info": {
   "codemirror_mode": "r",
   "file_extension": ".r",
   "mimetype": "text/x-r-source",
   "name": "R",
   "pygments_lexer": "r",
   "version": "3.6.1"
  }
 },
 "nbformat": 4,
 "nbformat_minor": 5
}
