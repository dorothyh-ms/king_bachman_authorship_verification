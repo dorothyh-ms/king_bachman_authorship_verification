{
 "cells": [
  {
   "cell_type": "code",
   "execution_count": 1,
   "id": "c8385c4e",
   "metadata": {},
   "outputs": [],
   "source": [
    "import os\n",
    "import pandas as pd\n",
    "from tqdm import tqdm\n",
    "from sklearn.feature_extraction.text import TfidfVectorizer\n",
    "from sklearn.preprocessing import *\n",
    "from scipy.sparse import csr_matrix\n",
    "import numpy as np\n",
    "from scipy.spatial import distance\n",
    "import numpy as np\n",
    "from scipy.spatial.distance import cosine\n",
    "import random\n",
    "os.chdir(top_dir)\n",
    "\n",
    "np.random.seed(0)\n",
    "random.seed(0)\n",
    "\n",
    "n_iterations = 10000\n",
    "feature_proportion = 0.5"
   ]
  },
  {
   "cell_type": "code",
   "execution_count": 2,
   "id": "654902bd",
   "metadata": {},
   "outputs": [
    {
     "name": "stdout",
     "output_type": "stream",
     "text": [
      "12\n"
     ]
    },
    {
     "data": {
      "text/plain": [
       "[{'use_idf': True,\n",
       "  'max_features': 10000,\n",
       "  'analyzer': 'char',\n",
       "  'min_df': 2,\n",
       "  'lowercase': True,\n",
       "  'norm': 'l1',\n",
       "  'ngram_range': (2, 2)},\n",
       " {'use_idf': True,\n",
       "  'max_features': 10000,\n",
       "  'analyzer': 'char',\n",
       "  'min_df': 2,\n",
       "  'lowercase': True,\n",
       "  'norm': 'l1',\n",
       "  'ngram_range': (3, 3)},\n",
       " {'use_idf': True,\n",
       "  'max_features': 10000,\n",
       "  'analyzer': 'char',\n",
       "  'min_df': 2,\n",
       "  'lowercase': True,\n",
       "  'norm': 'l1',\n",
       "  'ngram_range': (4, 4)},\n",
       " {'use_idf': False,\n",
       "  'max_features': 10000,\n",
       "  'analyzer': 'char',\n",
       "  'min_df': 2,\n",
       "  'lowercase': True,\n",
       "  'norm': 'l1',\n",
       "  'ngram_range': (2, 2)},\n",
       " {'use_idf': False,\n",
       "  'max_features': 10000,\n",
       "  'analyzer': 'char',\n",
       "  'min_df': 2,\n",
       "  'lowercase': True,\n",
       "  'norm': 'l1',\n",
       "  'ngram_range': (3, 3)},\n",
       " {'use_idf': False,\n",
       "  'max_features': 10000,\n",
       "  'analyzer': 'char',\n",
       "  'min_df': 2,\n",
       "  'lowercase': True,\n",
       "  'norm': 'l1',\n",
       "  'ngram_range': (4, 4)},\n",
       " {'use_idf': True,\n",
       "  'max_features': 10000,\n",
       "  'analyzer': 'word',\n",
       "  'min_df': 2,\n",
       "  'lowercase': True,\n",
       "  'norm': 'l1',\n",
       "  'ngram_range': (1, 1)},\n",
       " {'use_idf': True,\n",
       "  'max_features': 10000,\n",
       "  'analyzer': 'word',\n",
       "  'min_df': 2,\n",
       "  'lowercase': True,\n",
       "  'norm': 'l1',\n",
       "  'ngram_range': (2, 2)},\n",
       " {'use_idf': True,\n",
       "  'max_features': 10000,\n",
       "  'analyzer': 'word',\n",
       "  'min_df': 2,\n",
       "  'lowercase': True,\n",
       "  'norm': 'l1',\n",
       "  'ngram_range': (3, 3)},\n",
       " {'use_idf': False,\n",
       "  'max_features': 10000,\n",
       "  'analyzer': 'word',\n",
       "  'min_df': 2,\n",
       "  'lowercase': True,\n",
       "  'norm': 'l1',\n",
       "  'ngram_range': (1, 1)},\n",
       " {'use_idf': False,\n",
       "  'max_features': 10000,\n",
       "  'analyzer': 'word',\n",
       "  'min_df': 2,\n",
       "  'lowercase': True,\n",
       "  'norm': 'l1',\n",
       "  'ngram_range': (2, 2)},\n",
       " {'use_idf': False,\n",
       "  'max_features': 10000,\n",
       "  'analyzer': 'word',\n",
       "  'min_df': 2,\n",
       "  'lowercase': True,\n",
       "  'norm': 'l1',\n",
       "  'ngram_range': (3, 3)}]"
      ]
     },
     "execution_count": 2,
     "metadata": {},
     "output_type": "execute_result"
    }
   ],
   "source": [
    "# Create a list of vectorizer settings - each one will create\n",
    "# a new feature space from the corpus. \n",
    "\n",
    "vectorizers_settings = []\n",
    "idf_settings = [True, False]\n",
    "char_ngram_ranges = range(2,5) # 5-grams not included\n",
    "word_ngram_ranges = range(1,4) # 4-grams not included\n",
    "\n",
    "for idf_setting in idf_settings: \n",
    "    for ngram_range in char_ngram_ranges: \n",
    "        vectorizer_setting= {'use_idf': idf_setting,\n",
    "                  'max_features': 10000,\n",
    "                  'analyzer': 'char',\n",
    "                  'min_df': 2,\n",
    "                  'lowercase': True,\n",
    "                  'norm': 'l1',\n",
    "                  'ngram_range': (ngram_range, ngram_range)}\n",
    "        vectorizers_settings.append(vectorizer_setting)\n",
    "for idf_setting in idf_settings: \n",
    "    for ngram_range in word_ngram_ranges: \n",
    "        vectorizer_setting= {'use_idf': idf_setting,\n",
    "                  'max_features': 10000,\n",
    "                  'analyzer': 'word',\n",
    "                  'min_df': 2,\n",
    "                  'lowercase': True,\n",
    "                  'norm': 'l1',\n",
    "                  'ngram_range': (ngram_range, ngram_range)}\n",
    "        vectorizers_settings.append(vectorizer_setting)\n",
    "\n",
    "print(len(vectorizers_settings))\n",
    "vectorizers_settings"
   ]
  },
  {
   "cell_type": "code",
   "execution_count": 3,
   "id": "e064b36b",
   "metadata": {},
   "outputs": [
    {
     "name": "stdout",
     "output_type": "stream",
     "text": [
      "################ LOADING SEGMENTS ################\n",
      "1000\n"
     ]
    },
    {
     "name": "stderr",
     "output_type": "stream",
     "text": [
      "\r",
      "  0%|                                                                                           | 0/12 [00:00<?, ?it/s]"
     ]
    },
    {
     "name": "stdout",
     "output_type": "stream",
     "text": [
      "     author     date          title  segment_number  \\\n",
      "0   bachman  1966.67  The_Long_Walk               0   \n",
      "1   bachman  1966.67  The_Long_Walk               1   \n",
      "12  bachman  1966.67  The_Long_Walk               2   \n",
      "23  bachman  1966.67  The_Long_Walk               3   \n",
      "34  bachman  1966.67  The_Long_Walk               4   \n",
      "\n",
      "                                                 text  \n",
      "0   part one starting out the long walk chapter 1 ...  \n",
      "1   hand and waved the tears were flowing now he c...  \n",
      "12  the major said sweeping them with the blank le...  \n",
      "23  nt he had forgotten the major s fingers droppe...  \n",
      "34  in garraty s belly that felt like a sticky bal...  \n",
      "\n",
      "################ GETTING SEGMENT FEATURE SPACES ################\n"
     ]
    },
    {
     "name": "stderr",
     "output_type": "stream",
     "text": [
      "C:\\anaconda\\lib\\site-packages\\sklearn\\utils\\deprecation.py:87: FutureWarning: Function get_feature_names is deprecated; get_feature_names is deprecated in 1.0 and will be removed in 1.2. Please use get_feature_names_out instead.\n",
      "  warnings.warn(msg, category=FutureWarning)\n",
      "  8%|██████▉                                                                            | 1/12 [00:18<03:26, 18.74s/it]C:\\anaconda\\lib\\site-packages\\sklearn\\utils\\deprecation.py:87: FutureWarning: Function get_feature_names is deprecated; get_feature_names is deprecated in 1.0 and will be removed in 1.2. Please use get_feature_names_out instead.\n",
      "  warnings.warn(msg, category=FutureWarning)\n",
      " 17%|█████████████▊                                                                     | 2/12 [00:44<03:50, 23.02s/it]C:\\anaconda\\lib\\site-packages\\sklearn\\utils\\deprecation.py:87: FutureWarning: Function get_feature_names is deprecated; get_feature_names is deprecated in 1.0 and will be removed in 1.2. Please use get_feature_names_out instead.\n",
      "  warnings.warn(msg, category=FutureWarning)\n",
      " 25%|████████████████████▊                                                              | 3/12 [01:15<03:59, 26.65s/it]C:\\anaconda\\lib\\site-packages\\sklearn\\utils\\deprecation.py:87: FutureWarning: Function get_feature_names is deprecated; get_feature_names is deprecated in 1.0 and will be removed in 1.2. Please use get_feature_names_out instead.\n",
      "  warnings.warn(msg, category=FutureWarning)\n",
      " 33%|███████████████████████████▋                                                       | 4/12 [01:35<03:10, 23.82s/it]C:\\anaconda\\lib\\site-packages\\sklearn\\utils\\deprecation.py:87: FutureWarning: Function get_feature_names is deprecated; get_feature_names is deprecated in 1.0 and will be removed in 1.2. Please use get_feature_names_out instead.\n",
      "  warnings.warn(msg, category=FutureWarning)\n",
      " 42%|██████████████████████████████████▌                                                | 5/12 [02:02<02:55, 25.11s/it]C:\\anaconda\\lib\\site-packages\\sklearn\\utils\\deprecation.py:87: FutureWarning: Function get_feature_names is deprecated; get_feature_names is deprecated in 1.0 and will be removed in 1.2. Please use get_feature_names_out instead.\n",
      "  warnings.warn(msg, category=FutureWarning)\n",
      " 50%|█████████████████████████████████████████▌                                         | 6/12 [02:33<02:41, 26.94s/it]C:\\anaconda\\lib\\site-packages\\sklearn\\utils\\deprecation.py:87: FutureWarning: Function get_feature_names is deprecated; get_feature_names is deprecated in 1.0 and will be removed in 1.2. Please use get_feature_names_out instead.\n",
      "  warnings.warn(msg, category=FutureWarning)\n",
      " 58%|████████████████████████████████████████████████▍                                  | 7/12 [02:42<01:46, 21.33s/it]C:\\anaconda\\lib\\site-packages\\sklearn\\utils\\deprecation.py:87: FutureWarning: Function get_feature_names is deprecated; get_feature_names is deprecated in 1.0 and will be removed in 1.2. Please use get_feature_names_out instead.\n",
      "  warnings.warn(msg, category=FutureWarning)\n",
      " 67%|███████████████████████████████████████████████████████▎                           | 8/12 [03:02<01:22, 20.67s/it]C:\\anaconda\\lib\\site-packages\\sklearn\\utils\\deprecation.py:87: FutureWarning: Function get_feature_names is deprecated; get_feature_names is deprecated in 1.0 and will be removed in 1.2. Please use get_feature_names_out instead.\n",
      "  warnings.warn(msg, category=FutureWarning)\n",
      " 75%|██████████████████████████████████████████████████████████████▎                    | 9/12 [03:33<01:12, 24.08s/it]C:\\anaconda\\lib\\site-packages\\sklearn\\utils\\deprecation.py:87: FutureWarning: Function get_feature_names is deprecated; get_feature_names is deprecated in 1.0 and will be removed in 1.2. Please use get_feature_names_out instead.\n",
      "  warnings.warn(msg, category=FutureWarning)\n",
      " 83%|████████████████████████████████████████████████████████████████████▎             | 10/12 [03:40<00:37, 18.82s/it]C:\\anaconda\\lib\\site-packages\\sklearn\\utils\\deprecation.py:87: FutureWarning: Function get_feature_names is deprecated; get_feature_names is deprecated in 1.0 and will be removed in 1.2. Please use get_feature_names_out instead.\n",
      "  warnings.warn(msg, category=FutureWarning)\n",
      " 92%|███████████████████████████████████████████████████████████████████████████▏      | 11/12 [03:57<00:18, 18.28s/it]C:\\anaconda\\lib\\site-packages\\sklearn\\utils\\deprecation.py:87: FutureWarning: Function get_feature_names is deprecated; get_feature_names is deprecated in 1.0 and will be removed in 1.2. Please use get_feature_names_out instead.\n",
      "  warnings.warn(msg, category=FutureWarning)\n",
      "100%|██████████████████████████████████████████████████████████████████████████████████| 12/12 [04:29<00:00, 22.50s/it]\n",
      "  0%|                                                                                          | 0/603 [00:00<?, ?it/s]"
     ]
    },
    {
     "name": "stdout",
     "output_type": "stream",
     "text": [
      "\n",
      "################ GETTING COSINE DISTANCES ################\n"
     ]
    },
    {
     "name": "stderr",
     "output_type": "stream",
     "text": [
      "100%|██████████████████████████████████████████████████████████████████████████████| 603/603 [7:03:07<00:00, 42.10s/it]\n"
     ]
    },
    {
     "name": "stdout",
     "output_type": "stream",
     "text": [
      "\n",
      "################ SAVING DISTANCES ################\n",
      "   target index  bootstrap iteration candidate  distance\n",
      "0             0                    0    koontz  0.649912\n",
      "1             0                    0      king  0.639094\n",
      "2             0                    0    straub  0.666699\n",
      "3             0                    0    harris  0.632350\n",
      "4             0                    1    koontz  0.652695\n",
      "\n",
      "################ SAVING RANKS ################\n",
      "################ LOADING SEGMENTS ################\n",
      "5000\n"
     ]
    },
    {
     "name": "stderr",
     "output_type": "stream",
     "text": [
      "\r",
      "  0%|                                                                                           | 0/12 [00:00<?, ?it/s]"
     ]
    },
    {
     "name": "stdout",
     "output_type": "stream",
     "text": [
      "     author     date          title  segment_number  \\\n",
      "0   bachman  1966.67  The_Long_Walk               0   \n",
      "1   bachman  1966.67  The_Long_Walk               1   \n",
      "9   bachman  1966.67  The_Long_Walk               2   \n",
      "10  bachman  1966.67  The_Long_Walk               3   \n",
      "11  bachman  1966.67  The_Long_Walk               4   \n",
      "\n",
      "                                                 text  \n",
      "0   part one starting out the long walk chapter 1 ...  \n",
      "1   he had screamed i ca nt i cant i ca nt i cant ...  \n",
      "9   pushed the other boys aside they dragged ewing...  \n",
      "10  s wrong with graveyards henry old buddy a fine...  \n",
      "11  estimate because they had been walking for jus...  \n",
      "\n",
      "################ GETTING SEGMENT FEATURE SPACES ################\n"
     ]
    },
    {
     "name": "stderr",
     "output_type": "stream",
     "text": [
      "C:\\anaconda\\lib\\site-packages\\sklearn\\utils\\deprecation.py:87: FutureWarning: Function get_feature_names is deprecated; get_feature_names is deprecated in 1.0 and will be removed in 1.2. Please use get_feature_names_out instead.\n",
      "  warnings.warn(msg, category=FutureWarning)\n",
      "  8%|██████▉                                                                            | 1/12 [00:15<02:53, 15.77s/it]C:\\anaconda\\lib\\site-packages\\sklearn\\utils\\deprecation.py:87: FutureWarning: Function get_feature_names is deprecated; get_feature_names is deprecated in 1.0 and will be removed in 1.2. Please use get_feature_names_out instead.\n",
      "  warnings.warn(msg, category=FutureWarning)\n",
      " 17%|█████████████▊                                                                     | 2/12 [00:31<02:35, 15.54s/it]C:\\anaconda\\lib\\site-packages\\sklearn\\utils\\deprecation.py:87: FutureWarning: Function get_feature_names is deprecated; get_feature_names is deprecated in 1.0 and will be removed in 1.2. Please use get_feature_names_out instead.\n",
      "  warnings.warn(msg, category=FutureWarning)\n",
      " 25%|████████████████████▊                                                              | 3/12 [00:51<02:39, 17.74s/it]C:\\anaconda\\lib\\site-packages\\sklearn\\utils\\deprecation.py:87: FutureWarning: Function get_feature_names is deprecated; get_feature_names is deprecated in 1.0 and will be removed in 1.2. Please use get_feature_names_out instead.\n",
      "  warnings.warn(msg, category=FutureWarning)\n",
      " 33%|███████████████████████████▋                                                       | 4/12 [01:05<02:11, 16.40s/it]C:\\anaconda\\lib\\site-packages\\sklearn\\utils\\deprecation.py:87: FutureWarning: Function get_feature_names is deprecated; get_feature_names is deprecated in 1.0 and will be removed in 1.2. Please use get_feature_names_out instead.\n",
      "  warnings.warn(msg, category=FutureWarning)\n",
      " 42%|██████████████████████████████████▌                                                | 5/12 [01:21<01:53, 16.15s/it]C:\\anaconda\\lib\\site-packages\\sklearn\\utils\\deprecation.py:87: FutureWarning: Function get_feature_names is deprecated; get_feature_names is deprecated in 1.0 and will be removed in 1.2. Please use get_feature_names_out instead.\n",
      "  warnings.warn(msg, category=FutureWarning)\n",
      " 50%|█████████████████████████████████████████▌                                         | 6/12 [01:41<01:44, 17.45s/it]C:\\anaconda\\lib\\site-packages\\sklearn\\utils\\deprecation.py:87: FutureWarning: Function get_feature_names is deprecated; get_feature_names is deprecated in 1.0 and will be removed in 1.2. Please use get_feature_names_out instead.\n",
      "  warnings.warn(msg, category=FutureWarning)\n",
      " 58%|████████████████████████████████████████████████▍                                  | 7/12 [01:46<01:06, 13.28s/it]C:\\anaconda\\lib\\site-packages\\sklearn\\utils\\deprecation.py:87: FutureWarning: Function get_feature_names is deprecated; get_feature_names is deprecated in 1.0 and will be removed in 1.2. Please use get_feature_names_out instead.\n",
      "  warnings.warn(msg, category=FutureWarning)\n",
      " 67%|███████████████████████████████████████████████████████▎                           | 8/12 [02:01<00:55, 13.92s/it]C:\\anaconda\\lib\\site-packages\\sklearn\\utils\\deprecation.py:87: FutureWarning: Function get_feature_names is deprecated; get_feature_names is deprecated in 1.0 and will be removed in 1.2. Please use get_feature_names_out instead.\n",
      "  warnings.warn(msg, category=FutureWarning)\n",
      " 75%|██████████████████████████████████████████████████████████████▎                    | 9/12 [02:30<00:55, 18.48s/it]C:\\anaconda\\lib\\site-packages\\sklearn\\utils\\deprecation.py:87: FutureWarning: Function get_feature_names is deprecated; get_feature_names is deprecated in 1.0 and will be removed in 1.2. Please use get_feature_names_out instead.\n",
      "  warnings.warn(msg, category=FutureWarning)\n",
      " 83%|████████████████████████████████████████████████████████████████████▎             | 10/12 [02:35<00:28, 14.35s/it]C:\\anaconda\\lib\\site-packages\\sklearn\\utils\\deprecation.py:87: FutureWarning: Function get_feature_names is deprecated; get_feature_names is deprecated in 1.0 and will be removed in 1.2. Please use get_feature_names_out instead.\n",
      "  warnings.warn(msg, category=FutureWarning)\n",
      " 92%|███████████████████████████████████████████████████████████████████████████▏      | 11/12 [02:50<00:14, 14.61s/it]C:\\anaconda\\lib\\site-packages\\sklearn\\utils\\deprecation.py:87: FutureWarning: Function get_feature_names is deprecated; get_feature_names is deprecated in 1.0 and will be removed in 1.2. Please use get_feature_names_out instead.\n",
      "  warnings.warn(msg, category=FutureWarning)\n",
      "100%|██████████████████████████████████████████████████████████████████████████████████| 12/12 [03:18<00:00, 16.57s/it]\n",
      "  0%|                                                                                          | 0/118 [00:00<?, ?it/s]"
     ]
    },
    {
     "name": "stdout",
     "output_type": "stream",
     "text": [
      "\n",
      "################ GETTING COSINE DISTANCES ################\n"
     ]
    },
    {
     "name": "stderr",
     "output_type": "stream",
     "text": [
      "100%|██████████████████████████████████████████████████████████████████████████████| 118/118 [1:17:38<00:00, 39.48s/it]\n"
     ]
    },
    {
     "name": "stdout",
     "output_type": "stream",
     "text": [
      "\n",
      "################ SAVING DISTANCES ################\n",
      "   target index  bootstrap iteration candidate  distance\n",
      "0             0                    0    koontz  0.599363\n",
      "1             0                    0      king  0.573740\n",
      "2             0                    0    straub  0.565397\n",
      "3             0                    0    harris  0.592330\n",
      "4             0                    1    koontz  0.596453\n",
      "\n",
      "################ SAVING RANKS ################\n",
      "################ LOADING SEGMENTS ################\n",
      "10000\n"
     ]
    },
    {
     "name": "stderr",
     "output_type": "stream",
     "text": [
      "\r",
      "  0%|                                                                                           | 0/12 [00:00<?, ?it/s]"
     ]
    },
    {
     "name": "stdout",
     "output_type": "stream",
     "text": [
      "    author     date          title  segment_number  \\\n",
      "0  bachman  1966.67  The_Long_Walk               0   \n",
      "1  bachman  1966.67  The_Long_Walk               1   \n",
      "2  bachman  1966.67  The_Long_Walk               2   \n",
      "3  bachman  1966.67  The_Long_Walk               3   \n",
      "4  bachman  1966.67  The_Long_Walk               4   \n",
      "\n",
      "                                                text  \n",
      "0  part one starting out the long walk chapter 1 ...  \n",
      "1  pushed the other boys aside they dragged ewing...  \n",
      "2  estimate because they had been walking for jus...  \n",
      "3  nt get there until tonight then the mention of...  \n",
      "4  grandmother who was waving back and chewing we...  \n",
      "\n",
      "################ GETTING SEGMENT FEATURE SPACES ################\n"
     ]
    },
    {
     "name": "stderr",
     "output_type": "stream",
     "text": [
      "C:\\anaconda\\lib\\site-packages\\sklearn\\utils\\deprecation.py:87: FutureWarning: Function get_feature_names is deprecated; get_feature_names is deprecated in 1.0 and will be removed in 1.2. Please use get_feature_names_out instead.\n",
      "  warnings.warn(msg, category=FutureWarning)\n",
      "  8%|██████▉                                                                            | 1/12 [00:15<02:48, 15.28s/it]C:\\anaconda\\lib\\site-packages\\sklearn\\utils\\deprecation.py:87: FutureWarning: Function get_feature_names is deprecated; get_feature_names is deprecated in 1.0 and will be removed in 1.2. Please use get_feature_names_out instead.\n",
      "  warnings.warn(msg, category=FutureWarning)\n",
      " 17%|█████████████▊                                                                     | 2/12 [00:31<02:35, 15.58s/it]C:\\anaconda\\lib\\site-packages\\sklearn\\utils\\deprecation.py:87: FutureWarning: Function get_feature_names is deprecated; get_feature_names is deprecated in 1.0 and will be removed in 1.2. Please use get_feature_names_out instead.\n",
      "  warnings.warn(msg, category=FutureWarning)\n",
      " 25%|████████████████████▊                                                              | 3/12 [00:50<02:34, 17.14s/it]C:\\anaconda\\lib\\site-packages\\sklearn\\utils\\deprecation.py:87: FutureWarning: Function get_feature_names is deprecated; get_feature_names is deprecated in 1.0 and will be removed in 1.2. Please use get_feature_names_out instead.\n",
      "  warnings.warn(msg, category=FutureWarning)\n",
      " 33%|███████████████████████████▋                                                       | 4/12 [01:04<02:09, 16.24s/it]C:\\anaconda\\lib\\site-packages\\sklearn\\utils\\deprecation.py:87: FutureWarning: Function get_feature_names is deprecated; get_feature_names is deprecated in 1.0 and will be removed in 1.2. Please use get_feature_names_out instead.\n",
      "  warnings.warn(msg, category=FutureWarning)\n",
      " 42%|██████████████████████████████████▌                                                | 5/12 [01:21<01:53, 16.24s/it]C:\\anaconda\\lib\\site-packages\\sklearn\\utils\\deprecation.py:87: FutureWarning: Function get_feature_names is deprecated; get_feature_names is deprecated in 1.0 and will be removed in 1.2. Please use get_feature_names_out instead.\n",
      "  warnings.warn(msg, category=FutureWarning)\n",
      " 50%|█████████████████████████████████████████▌                                         | 6/12 [01:40<01:44, 17.34s/it]C:\\anaconda\\lib\\site-packages\\sklearn\\utils\\deprecation.py:87: FutureWarning: Function get_feature_names is deprecated; get_feature_names is deprecated in 1.0 and will be removed in 1.2. Please use get_feature_names_out instead.\n",
      "  warnings.warn(msg, category=FutureWarning)\n",
      " 58%|████████████████████████████████████████████████▍                                  | 7/12 [01:45<01:05, 13.15s/it]C:\\anaconda\\lib\\site-packages\\sklearn\\utils\\deprecation.py:87: FutureWarning: Function get_feature_names is deprecated; get_feature_names is deprecated in 1.0 and will be removed in 1.2. Please use get_feature_names_out instead.\n",
      "  warnings.warn(msg, category=FutureWarning)\n",
      " 67%|███████████████████████████████████████████████████████▎                           | 8/12 [02:00<00:54, 13.72s/it]C:\\anaconda\\lib\\site-packages\\sklearn\\utils\\deprecation.py:87: FutureWarning: Function get_feature_names is deprecated; get_feature_names is deprecated in 1.0 and will be removed in 1.2. Please use get_feature_names_out instead.\n",
      "  warnings.warn(msg, category=FutureWarning)\n",
      " 75%|██████████████████████████████████████████████████████████████▎                    | 9/12 [02:28<00:54, 18.28s/it]C:\\anaconda\\lib\\site-packages\\sklearn\\utils\\deprecation.py:87: FutureWarning: Function get_feature_names is deprecated; get_feature_names is deprecated in 1.0 and will be removed in 1.2. Please use get_feature_names_out instead.\n",
      "  warnings.warn(msg, category=FutureWarning)\n",
      " 83%|████████████████████████████████████████████████████████████████████▎             | 10/12 [02:33<00:28, 14.14s/it]C:\\anaconda\\lib\\site-packages\\sklearn\\utils\\deprecation.py:87: FutureWarning: Function get_feature_names is deprecated; get_feature_names is deprecated in 1.0 and will be removed in 1.2. Please use get_feature_names_out instead.\n",
      "  warnings.warn(msg, category=FutureWarning)\n",
      " 92%|███████████████████████████████████████████████████████████████████████████▏      | 11/12 [02:48<00:14, 14.40s/it]C:\\anaconda\\lib\\site-packages\\sklearn\\utils\\deprecation.py:87: FutureWarning: Function get_feature_names is deprecated; get_feature_names is deprecated in 1.0 and will be removed in 1.2. Please use get_feature_names_out instead.\n",
      "  warnings.warn(msg, category=FutureWarning)\n",
      "100%|██████████████████████████████████████████████████████████████████████████████████| 12/12 [03:16<00:00, 16.37s/it]\n",
      "  0%|                                                                                           | 0/57 [00:00<?, ?it/s]"
     ]
    },
    {
     "name": "stdout",
     "output_type": "stream",
     "text": [
      "\n",
      "################ GETTING COSINE DISTANCES ################\n"
     ]
    },
    {
     "name": "stderr",
     "output_type": "stream",
     "text": [
      "100%|██████████████████████████████████████████████████████████████████████████████████| 57/57 [37:15<00:00, 39.23s/it]\n"
     ]
    },
    {
     "name": "stdout",
     "output_type": "stream",
     "text": [
      "\n",
      "################ SAVING DISTANCES ################\n",
      "   target index  bootstrap iteration candidate  distance\n",
      "0             0                    0    koontz  0.618513\n",
      "1             0                    0      king  0.512126\n",
      "2             0                    0    straub  0.575015\n",
      "3             0                    0    harris  0.575386\n",
      "4             0                    1    koontz  0.567484\n",
      "\n",
      "################ SAVING RANKS ################\n"
     ]
    }
   ],
   "source": [
    "segment_lengths = [1000, 5000, 10000]\n",
    "\n",
    "for segment_length in segment_lengths:\n",
    "    \n",
    "    print(\"################ LOADING SEGMENTS ################\")\n",
    "    print(segment_length)\n",
    "    authors, dates, titles, segment_numbers, texts = [], [], [], [], []\n",
    "    segment_directory=top_dir + \"\\\\segments\\\\{}token_segments\\\\\".format(segment_length)\n",
    "    for file in os.listdir(segment_directory):\n",
    "        if file.endswith(\".txt\"):\n",
    "            authors.append(file.split('-')[0])\n",
    "            dates.append(file.split('-')[1])\n",
    "            titles.append(file.split('-')[2])\n",
    "            segment_numbers.append(file.split('-')[3].split(\".\")[0])\n",
    "            with open(segment_directory+file, encoding='utf8') as f:\n",
    "                contents = f.read()\n",
    "                texts.append(contents)\n",
    "    \n",
    "    authors_segments = pd.DataFrame({\n",
    "        'author': authors,\n",
    "        'date':dates, \n",
    "        'title':titles,\n",
    "        'segment_number': segment_numbers,\n",
    "        'text':texts})\n",
    "\n",
    "    # Convert segment number column to numeric so dataframe rows can be sorted\n",
    "    authors_segments.segment_number = pd.to_numeric(authors_segments.segment_number)\n",
    "    authors_segments = authors_segments.sort_values(by=['author', 'date', 'segment_number'])\n",
    "    print(authors_segments.head())\n",
    "    \n",
    "    authors_segment_metadata = authors_segments[['author', \n",
    "                                     'date', \n",
    "                                     'title', \n",
    "                                     'segment_number']]\n",
    "    # Iterate over vectorizer settings, make feature spaces,\n",
    "    # append each new feature space to the dataframe authors_metadata. \n",
    "    # Number of rows = number of segments\n",
    "    # Number of columns = number of columns created by 1st vectorizer + number of columns created by 2nd vectorizer + ... \n",
    "    feature_spaces = []\n",
    "    \n",
    "    print(\"\\n################ GETTING SEGMENT FEATURE SPACES ################\")\n",
    "    feature_names = []\n",
    "    for vectorizer_setting in tqdm(vectorizers_settings): \n",
    "        vectorizer = TfidfVectorizer(**vectorizer_setting)\n",
    "        docterm_matrix = vectorizer.fit_transform(authors_segments.text).toarray()\n",
    "        scaler = MinMaxScaler()\n",
    "        feature_spaces.append(scaler.fit_transform(docterm_matrix))\n",
    "        feature_names.extend(vectorizer.get_feature_names())\n",
    "    \n",
    "    feature_spaces_array = np.hstack(feature_spaces)\n",
    "    \n",
    "    \n",
    "    candidates = {}\n",
    "    for author in (\"koontz\", \"king\", \"straub\", \"harris\"):\n",
    "        candidates[author] = feature_spaces_array[authors_segment_metadata['author'] == author]\n",
    "    \n",
    "    bachman = feature_spaces_array[authors_segment_metadata['author'] == 'bachman']\n",
    "    \n",
    "    num_random_features = int(feature_spaces_array.shape[1]*feature_proportion)\n",
    "    pd.concat([authors_segment_metadata, pd.DataFrame(feature_spaces_array, columns=feature_names)], axis=1).to_csv(\"bachman_segments_features_array_{}token_segments.csv\".format(segment_length), encoding='utf-8')\n",
    "    # Get distances of every Bachman segment to segments from other authors 10,000 times\n",
    "    print(\"\\n################ GETTING COSINE DISTANCES ################\")\n",
    "    results = []\n",
    "    for idx, target_segment in tqdm(list(enumerate(bachman))): \n",
    "        for iteration in range(n_iterations):\n",
    "            rand_feature_col_idxs = np.random.choice(feature_spaces_array.shape[1], num_random_features, replace=False)\n",
    "            target_vector = target_segment[rand_feature_col_idxs]\n",
    "\n",
    "            for candidate in candidates: \n",
    "                random_segment = candidates[candidate][np.random.choice(candidates[candidate].shape[0]), rand_feature_col_idxs]\n",
    "                results.append((idx, iteration, candidate, cosine(target_vector, random_segment)))\n",
    "    \n",
    "    print(\"\\n################ SAVING DISTANCES ################\")\n",
    "    df = pd.DataFrame(results, columns = ('target index', 'bootstrap iteration', 'candidate', 'distance'))\n",
    "    print(df.head())\n",
    "    os.chdir(top_dir)\n",
    "    df.to_csv(\"bachman_segments_author_candidate_cosine_distances_{}token_segments.csv\".format(segment_length), encoding='utf-8')\n",
    "    \n",
    "    print(\"\\n################ SAVING RANKS ################\")\n",
    "    pivoted_df = df.pivot(index=['target index', 'bootstrap iteration'], columns='candidate')['distance']\n",
    "    pivoted_df = pivoted_df.rank(1)\n",
    "    pivoted_df.to_csv(\"bachman_segments_author_candidate_ranks_{}token_segments.csv\".format(segment_length), encoding='utf-8')"
   ]
  }
 ],
 "metadata": {
  "kernelspec": {
   "display_name": "Python 3 (ipykernel)",
   "language": "python",
   "name": "python3"
  },
  "language_info": {
   "codemirror_mode": {
    "name": "ipython",
    "version": 3
   },
   "file_extension": ".py",
   "mimetype": "text/x-python",
   "name": "python",
   "nbconvert_exporter": "python",
   "pygments_lexer": "ipython3",
   "version": "3.9.12"
  }
 },
 "nbformat": 4,
 "nbformat_minor": 5
}
