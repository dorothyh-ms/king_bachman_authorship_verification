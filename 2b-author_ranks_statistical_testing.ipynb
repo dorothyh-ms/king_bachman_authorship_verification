{
 "cells": [
  {
   "cell_type": "markdown",
   "id": "0750848b",
   "metadata": {},
   "source": [
    "# 1. Raw counts chi-squared - significance testing"
   ]
  },
  {
   "cell_type": "code",
   "execution_count": 3,
   "id": "62f3180a",
   "metadata": {},
   "outputs": [
    {
     "data": {
      "text/html": [
       "<table>\n",
       "<thead><tr><th scope=col>harris</th><th scope=col>king</th><th scope=col>koontz</th><th scope=col>straub</th></tr></thead>\n",
       "<tbody>\n",
       "\t<tr><td> 610246</td><td>2689770</td><td>1016961</td><td>1713023</td></tr>\n",
       "\t<tr><td>1097760</td><td>1726106</td><td>1436258</td><td>1769876</td></tr>\n",
       "\t<tr><td>1732672</td><td>1047431</td><td>1782336</td><td>1467561</td></tr>\n",
       "\t<tr><td>2589322</td><td> 566693</td><td>1794445</td><td>1079540</td></tr>\n",
       "</tbody>\n",
       "</table>\n"
      ],
      "text/latex": [
       "\\begin{tabular}{r|llll}\n",
       " harris & king & koontz & straub\\\\\n",
       "\\hline\n",
       "\t  610246 & 2689770 & 1016961 & 1713023\\\\\n",
       "\t 1097760 & 1726106 & 1436258 & 1769876\\\\\n",
       "\t 1732672 & 1047431 & 1782336 & 1467561\\\\\n",
       "\t 2589322 &  566693 & 1794445 & 1079540\\\\\n",
       "\\end{tabular}\n"
      ],
      "text/markdown": [
       "\n",
       "| harris | king | koontz | straub |\n",
       "|---|---|---|---|\n",
       "|  610246 | 2689770 | 1016961 | 1713023 |\n",
       "| 1097760 | 1726106 | 1436258 | 1769876 |\n",
       "| 1732672 | 1047431 | 1782336 | 1467561 |\n",
       "| 2589322 |  566693 | 1794445 | 1079540 |\n",
       "\n"
      ],
      "text/plain": [
       "  harris  king    koontz  straub \n",
       "1  610246 2689770 1016961 1713023\n",
       "2 1097760 1726106 1436258 1769876\n",
       "3 1732672 1047431 1782336 1467561\n",
       "4 2589322  566693 1794445 1079540"
      ]
     },
     "metadata": {},
     "output_type": "display_data"
    }
   ],
   "source": [
    "df_1000 <- read.csv('predicted_author_candidate_raw_counts_1000token_segments.csv', fileEncoding=\"UTF-8-BOM\")\n",
    "df_1000 <- df_1000[-c(1)]\n",
    "rank_counts_1000 <- data.matrix(df_1000)\n",
    "rownames(rank_counts_1000) <- c('1', '2', '3', '4')\n",
    "rank_counts_1000"
   ]
  },
  {
   "cell_type": "code",
   "execution_count": 5,
   "id": "53359b0a",
   "metadata": {},
   "outputs": [
    {
     "data": {
      "text/plain": [
       "\n",
       "\tPearson's Chi-squared test\n",
       "\n",
       "data:  rank_counts_1000\n",
       "X-squared = 3605789, df = 9, p-value < 2.2e-16\n"
      ]
     },
     "metadata": {},
     "output_type": "display_data"
    },
    {
     "data": {
      "text/html": [
       "<table>\n",
       "<thead><tr><th scope=col>harris</th><th scope=col>king</th><th scope=col>koontz</th><th scope=col>straub</th></tr></thead>\n",
       "<tbody>\n",
       "\t<tr><td>1507500</td><td>1507500</td><td>1507500</td><td>1507500</td></tr>\n",
       "\t<tr><td>1507500</td><td>1507500</td><td>1507500</td><td>1507500</td></tr>\n",
       "\t<tr><td>1507500</td><td>1507500</td><td>1507500</td><td>1507500</td></tr>\n",
       "\t<tr><td>1507500</td><td>1507500</td><td>1507500</td><td>1507500</td></tr>\n",
       "</tbody>\n",
       "</table>\n"
      ],
      "text/latex": [
       "\\begin{tabular}{r|llll}\n",
       " harris & king & koontz & straub\\\\\n",
       "\\hline\n",
       "\t 1507500 & 1507500 & 1507500 & 1507500\\\\\n",
       "\t 1507500 & 1507500 & 1507500 & 1507500\\\\\n",
       "\t 1507500 & 1507500 & 1507500 & 1507500\\\\\n",
       "\t 1507500 & 1507500 & 1507500 & 1507500\\\\\n",
       "\\end{tabular}\n"
      ],
      "text/markdown": [
       "\n",
       "| harris | king | koontz | straub |\n",
       "|---|---|---|---|\n",
       "| 1507500 | 1507500 | 1507500 | 1507500 |\n",
       "| 1507500 | 1507500 | 1507500 | 1507500 |\n",
       "| 1507500 | 1507500 | 1507500 | 1507500 |\n",
       "| 1507500 | 1507500 | 1507500 | 1507500 |\n",
       "\n"
      ],
      "text/plain": [
       "  harris  king    koontz  straub \n",
       "1 1507500 1507500 1507500 1507500\n",
       "2 1507500 1507500 1507500 1507500\n",
       "3 1507500 1507500 1507500 1507500\n",
       "4 1507500 1507500 1507500 1507500"
      ]
     },
     "metadata": {},
     "output_type": "display_data"
    }
   ],
   "source": [
    "chisq.test(rank_counts_1000)\n",
    "expected <- chisq.test(rank_counts_1000)$expected\n",
    "expected\n",
    "\n",
    "# All of the expected cell counts are over 5, so this requirement is fulfilled"
   ]
  },
  {
   "cell_type": "code",
   "execution_count": 28,
   "id": "4ffcda69",
   "metadata": {},
   "outputs": [
    {
     "data": {
      "image/png": "[encoded data removed]",
      "text/plain": [
       "plot without title"
      ]
     },
     "metadata": {},
     "output_type": "display_data"
    }
   ],
   "source": [
    "# install.packages(\"vcd\")\n",
    "library(vcd)\n",
    "assocplot(rank_counts_1000, col = c(\"lightblue\", \"pink\"), xlab=\"Rank\", ylab=\"Author\")\n",
    "\n",
    "\n",
    "# Author and test outcome are significantly correlated"
   ]
  },
  {
   "cell_type": "code",
   "execution_count": 18,
   "id": "220793a5",
   "metadata": {},
   "outputs": [
    {
     "data": {
      "text/html": [
       "<table>\n",
       "<thead><tr><th scope=col>harris</th><th scope=col>king</th><th scope=col>koontz</th><th scope=col>straub</th></tr></thead>\n",
       "<tbody>\n",
       "\t<tr><td> 53382</td><td>700794</td><td>114408</td><td>311416</td></tr>\n",
       "\t<tr><td>169660</td><td>300558</td><td>250128</td><td>459654</td></tr>\n",
       "\t<tr><td>372617</td><td>129288</td><td>403656</td><td>274439</td></tr>\n",
       "\t<tr><td>584341</td><td> 49360</td><td>411808</td><td>134491</td></tr>\n",
       "</tbody>\n",
       "</table>\n"
      ],
      "text/latex": [
       "\\begin{tabular}{r|llll}\n",
       " harris & king & koontz & straub\\\\\n",
       "\\hline\n",
       "\t  53382 & 700794 & 114408 & 311416\\\\\n",
       "\t 169660 & 300558 & 250128 & 459654\\\\\n",
       "\t 372617 & 129288 & 403656 & 274439\\\\\n",
       "\t 584341 &  49360 & 411808 & 134491\\\\\n",
       "\\end{tabular}\n"
      ],
      "text/markdown": [
       "\n",
       "| harris | king | koontz | straub |\n",
       "|---|---|---|---|\n",
       "|  53382 | 700794 | 114408 | 311416 |\n",
       "| 169660 | 300558 | 250128 | 459654 |\n",
       "| 372617 | 129288 | 403656 | 274439 |\n",
       "| 584341 |  49360 | 411808 | 134491 |\n",
       "\n"
      ],
      "text/plain": [
       "  harris king   koontz straub\n",
       "1  53382 700794 114408 311416\n",
       "2 169660 300558 250128 459654\n",
       "3 372617 129288 403656 274439\n",
       "4 584341  49360 411808 134491"
      ]
     },
     "metadata": {},
     "output_type": "display_data"
    }
   ],
   "source": [
    "df_5000 <- read.csv('predicted_author_candidate_raw_counts_5000token_segments.csv', fileEncoding=\"UTF-8-BOM\")\n",
    "df_5000 <- df_5000[-c(1)]\n",
    "rank_counts_5000 <- data.matrix(df_5000)\n",
    "rownames(rank_counts_5000) <- c('1', '2', '3', '4')\n",
    "rank_counts_5000"
   ]
  },
  {
   "cell_type": "code",
   "execution_count": 19,
   "id": "eb81009c",
   "metadata": {},
   "outputs": [
    {
     "data": {
      "text/plain": [
       "\n",
       "\tPearson's Chi-squared test\n",
       "\n",
       "data:  rank_counts_5000\n",
       "X-squared = 1796524, df = 9, p-value < 2.2e-16\n"
      ]
     },
     "metadata": {},
     "output_type": "display_data"
    },
    {
     "data": {
      "text/html": [
       "<table>\n",
       "<thead><tr><th scope=col>harris</th><th scope=col>king</th><th scope=col>koontz</th><th scope=col>straub</th></tr></thead>\n",
       "<tbody>\n",
       "\t<tr><td>295000</td><td>295000</td><td>295000</td><td>295000</td></tr>\n",
       "\t<tr><td>295000</td><td>295000</td><td>295000</td><td>295000</td></tr>\n",
       "\t<tr><td>295000</td><td>295000</td><td>295000</td><td>295000</td></tr>\n",
       "\t<tr><td>295000</td><td>295000</td><td>295000</td><td>295000</td></tr>\n",
       "</tbody>\n",
       "</table>\n"
      ],
      "text/latex": [
       "\\begin{tabular}{r|llll}\n",
       " harris & king & koontz & straub\\\\\n",
       "\\hline\n",
       "\t 295000 & 295000 & 295000 & 295000\\\\\n",
       "\t 295000 & 295000 & 295000 & 295000\\\\\n",
       "\t 295000 & 295000 & 295000 & 295000\\\\\n",
       "\t 295000 & 295000 & 295000 & 295000\\\\\n",
       "\\end{tabular}\n"
      ],
      "text/markdown": [
       "\n",
       "| harris | king | koontz | straub |\n",
       "|---|---|---|---|\n",
       "| 295000 | 295000 | 295000 | 295000 |\n",
       "| 295000 | 295000 | 295000 | 295000 |\n",
       "| 295000 | 295000 | 295000 | 295000 |\n",
       "| 295000 | 295000 | 295000 | 295000 |\n",
       "\n"
      ],
      "text/plain": [
       "  harris king   koontz straub\n",
       "1 295000 295000 295000 295000\n",
       "2 295000 295000 295000 295000\n",
       "3 295000 295000 295000 295000\n",
       "4 295000 295000 295000 295000"
      ]
     },
     "metadata": {},
     "output_type": "display_data"
    }
   ],
   "source": [
    "chisq.test(rank_counts_5000)\n",
    "expected <- chisq.test(rank_counts_5000)$expected\n",
    "expected"
   ]
  },
  {
   "cell_type": "code",
   "execution_count": 20,
   "id": "4aab20bc",
   "metadata": {},
   "outputs": [
    {
     "data": {
      "image/png": "[encoded data removed]",
      "text/plain": [
       "plot without title"
      ]
     },
     "metadata": {},
     "output_type": "display_data"
    }
   ],
   "source": [
    "assocplot(rank_counts_5000, col = c(\"lightblue\", \"pink\"), xlab=\"Rank\", ylab=\"Author\")"
   ]
  },
  {
   "cell_type": "code",
   "execution_count": 22,
   "id": "928bddb6",
   "metadata": {},
   "outputs": [
    {
     "data": {
      "text/html": [
       "<table>\n",
       "<thead><tr><th scope=col>harris</th><th scope=col>king</th><th scope=col>koontz</th><th scope=col>straub</th></tr></thead>\n",
       "<tbody>\n",
       "\t<tr><td> 19670</td><td>376213</td><td> 41853</td><td>132264</td></tr>\n",
       "\t<tr><td> 74644</td><td>126535</td><td>114837</td><td>253984</td></tr>\n",
       "\t<tr><td>192376</td><td> 49199</td><td>197814</td><td>130611</td></tr>\n",
       "\t<tr><td>283310</td><td> 18053</td><td>215496</td><td> 53141</td></tr>\n",
       "</tbody>\n",
       "</table>\n"
      ],
      "text/latex": [
       "\\begin{tabular}{r|llll}\n",
       " harris & king & koontz & straub\\\\\n",
       "\\hline\n",
       "\t  19670 & 376213 &  41853 & 132264\\\\\n",
       "\t  74644 & 126535 & 114837 & 253984\\\\\n",
       "\t 192376 &  49199 & 197814 & 130611\\\\\n",
       "\t 283310 &  18053 & 215496 &  53141\\\\\n",
       "\\end{tabular}\n"
      ],
      "text/markdown": [
       "\n",
       "| harris | king | koontz | straub |\n",
       "|---|---|---|---|\n",
       "|  19670 | 376213 |  41853 | 132264 |\n",
       "|  74644 | 126535 | 114837 | 253984 |\n",
       "| 192376 |  49199 | 197814 | 130611 |\n",
       "| 283310 |  18053 | 215496 |  53141 |\n",
       "\n"
      ],
      "text/plain": [
       "  harris king   koontz straub\n",
       "1  19670 376213  41853 132264\n",
       "2  74644 126535 114837 253984\n",
       "3 192376  49199 197814 130611\n",
       "4 283310  18053 215496  53141"
      ]
     },
     "metadata": {},
     "output_type": "display_data"
    }
   ],
   "source": [
    "df_10000 <- read.csv('predicted_author_candidate_raw_counts_10000token_segments.csv', fileEncoding=\"UTF-8-BOM\")\n",
    "df_10000 <- df_10000[-c(1)]\n",
    "rank_counts_10000 <- data.matrix(df_10000)\n",
    "rownames(rank_counts_10000) <- c('1', '2', '3', '4')\n",
    "rank_counts_10000"
   ]
  },
  {
   "cell_type": "code",
   "execution_count": 23,
   "id": "9c44f446",
   "metadata": {},
   "outputs": [
    {
     "data": {
      "text/plain": [
       "\n",
       "\tPearson's Chi-squared test\n",
       "\n",
       "data:  rank_counts_10000\n",
       "X-squared = 1129954, df = 9, p-value < 2.2e-16\n"
      ]
     },
     "metadata": {},
     "output_type": "display_data"
    },
    {
     "data": {
      "text/html": [
       "<table>\n",
       "<thead><tr><th scope=col>harris</th><th scope=col>king</th><th scope=col>koontz</th><th scope=col>straub</th></tr></thead>\n",
       "<tbody>\n",
       "\t<tr><td>142500</td><td>142500</td><td>142500</td><td>142500</td></tr>\n",
       "\t<tr><td>142500</td><td>142500</td><td>142500</td><td>142500</td></tr>\n",
       "\t<tr><td>142500</td><td>142500</td><td>142500</td><td>142500</td></tr>\n",
       "\t<tr><td>142500</td><td>142500</td><td>142500</td><td>142500</td></tr>\n",
       "</tbody>\n",
       "</table>\n"
      ],
      "text/latex": [
       "\\begin{tabular}{r|llll}\n",
       " harris & king & koontz & straub\\\\\n",
       "\\hline\n",
       "\t 142500 & 142500 & 142500 & 142500\\\\\n",
       "\t 142500 & 142500 & 142500 & 142500\\\\\n",
       "\t 142500 & 142500 & 142500 & 142500\\\\\n",
       "\t 142500 & 142500 & 142500 & 142500\\\\\n",
       "\\end{tabular}\n"
      ],
      "text/markdown": [
       "\n",
       "| harris | king | koontz | straub |\n",
       "|---|---|---|---|\n",
       "| 142500 | 142500 | 142500 | 142500 |\n",
       "| 142500 | 142500 | 142500 | 142500 |\n",
       "| 142500 | 142500 | 142500 | 142500 |\n",
       "| 142500 | 142500 | 142500 | 142500 |\n",
       "\n"
      ],
      "text/plain": [
       "  harris king   koontz straub\n",
       "1 142500 142500 142500 142500\n",
       "2 142500 142500 142500 142500\n",
       "3 142500 142500 142500 142500\n",
       "4 142500 142500 142500 142500"
      ]
     },
     "metadata": {},
     "output_type": "display_data"
    }
   ],
   "source": [
    "chisq.test(rank_counts_10000)\n",
    "expected <- chisq.test(rank_counts_10000)$expected\n",
    "expected"
   ]
  },
  {
   "cell_type": "code",
   "execution_count": 24,
   "id": "e700d07e",
   "metadata": {},
   "outputs": [
    {
     "data": {
      "image/png": "[encoded data removed]",
      "text/plain": [
       "plot without title"
      ]
     },
     "metadata": {},
     "output_type": "display_data"
    }
   ],
   "source": [
    "assocplot(rank_counts_10000, col = c(\"lightblue\", \"pink\"), xlab=\"Rank\", ylab=\"Author\")"
   ]
  }
 ],
 "metadata": {
  "kernelspec": {
   "display_name": "R",
   "language": "R",
   "name": "ir"
  },
  "language_info": {
   "codemirror_mode": "r",
   "file_extension": ".r",
   "mimetype": "text/x-r-source",
   "name": "R",
   "pygments_lexer": "r",
   "version": "3.6.1"
  }
 },
 "nbformat": 4,
 "nbformat_minor": 5
}
