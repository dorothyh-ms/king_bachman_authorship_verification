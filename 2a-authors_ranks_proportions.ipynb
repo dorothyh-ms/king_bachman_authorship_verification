{
 "cells": [
  {
   "cell_type": "code",
   "execution_count": 1,
   "id": "9722512f",
   "metadata": {},
   "outputs": [],
   "source": [
    "import os\n",
    "import pandas as pd\n",
    "import numpy as np\n",
    "from tqdm import tqdm\n",
    "np.random.seed(0)\n",
    "segment_lengths = [1000, 5000, 10000]\n",
    "os.chdir(top_dir)\n"
   ]
  },
  {
   "cell_type": "code",
   "execution_count": 6,
   "id": "499fb3d7",
   "metadata": {},
   "outputs": [
    {
     "name": "stderr",
     "output_type": "stream",
     "text": [
      "\r",
      "  0%|          | 0/3 [00:00<?, ?it/s]"
     ]
    },
    {
     "name": "stdout",
     "output_type": "stream",
     "text": [
      "\n",
      "################ RANKS FOR SEGMENT LENGTHS 1000 ################\n",
      "1000\n",
      "\n",
      "################ GETTING COUNTS AND PROPORTIONS OF RANKS ################\n",
      "The_Long_Walk\n",
      "Roadwork\n",
      "Rage\n",
      "Blaze\n",
      "The_Running_Man\n",
      "Thinner\n",
      "The_Regulators\n"
     ]
    },
    {
     "name": "stderr",
     "output_type": "stream",
     "text": [
      "\r",
      " 33%|███▎      | 1/3 [04:14<08:29, 254.72s/it]"
     ]
    },
    {
     "name": "stdout",
     "output_type": "stream",
     "text": [
      "\n",
      "################ RANKS FOR SEGMENT LENGTHS 5000 ################\n",
      "5000\n",
      "\n",
      "################ GETTING COUNTS AND PROPORTIONS OF RANKS ################\n",
      "The_Long_Walk\n",
      "Roadwork\n",
      "Rage\n",
      "Blaze\n",
      "The_Running_Man\n",
      "Thinner\n",
      "The_Regulators\n"
     ]
    },
    {
     "name": "stderr",
     "output_type": "stream",
     "text": [
      "\r",
      " 67%|██████▋   | 2/3 [05:02<02:12, 132.74s/it]"
     ]
    },
    {
     "name": "stdout",
     "output_type": "stream",
     "text": [
      "\n",
      "################ RANKS FOR SEGMENT LENGTHS 10000 ################\n",
      "10000\n",
      "\n",
      "################ GETTING COUNTS AND PROPORTIONS OF RANKS ################\n",
      "The_Long_Walk\n",
      "Roadwork\n",
      "Rage\n",
      "Blaze\n",
      "The_Running_Man\n",
      "Thinner\n",
      "The_Regulators\n"
     ]
    },
    {
     "name": "stderr",
     "output_type": "stream",
     "text": [
      "100%|██████████| 3/3 [05:27<00:00, 109.32s/it]\n"
     ]
    }
   ],
   "source": [
    "for segment_length in tqdm(segment_lengths):\n",
    "    print(\"\\n################ RANKS FOR SEGMENT LENGTHS {} ################\".format(segment_length))\n",
    "    print(segment_length)\n",
    "    authors, dates, titles, segment_numbers, texts = [], [], [], [], []\n",
    "    for file in os.listdir(\"segments\\\\{}token_segments\".format(segment_length)):\n",
    "        if file.endswith(\".txt\"):\n",
    "            authors.append(file.split('-')[0])\n",
    "            dates.append(file.split('-')[1])\n",
    "            titles.append(file.split('-')[2])\n",
    "            segment_numbers.append(file.split('-')[3].split(\".\")[0])\n",
    "            with open(top_dir+\"segments\\\\{}token_segments\\\\\".format(segment_length)+file, encoding='utf8') as f:\n",
    "                contents = f.read()\n",
    "                texts.append(contents)\n",
    "\n",
    "    authors_segments = pd.DataFrame({\n",
    "        'author': authors,\n",
    "        'date':dates, \n",
    "        'title':titles,\n",
    "        'segment_number': segment_numbers,\n",
    "        'text':texts})\n",
    "\n",
    "    # Convert segment number column to numeric so dataframe rows can be sorted\n",
    "    authors_segments.segment_number = pd.to_numeric(authors_segments.segment_number)\n",
    "    authors_segments = authors_segments.sort_values(by=['author', 'date', 'segment_number'])\n",
    "    authors_features = authors_segments[['author', \n",
    "                                     'date', \n",
    "                                     'title', \n",
    "                                     'segment_number']]\n",
    "    bachman_df = authors_features[authors_features['author'] == 'bachman'].reset_index()\n",
    "    os.chdir(top_dir)\n",
    "    ranks = pd.read_csv(\"bachman_segments_author_candidate_ranks_{}token_segments.csv\".format(segment_length))\n",
    "    ranks.set_index('target index', inplace=True)\n",
    "    ranks_titles = ranks.join(bachman_df['title'])\n",
    "    rank_index = [rank for rank in range(1,5)] * len(ranks_titles.title.unique())\n",
    "    title_index = [title for title in ranks_titles.title.unique() for i in range(1,5)]\n",
    "    arrays = [title_index, rank_index]\n",
    "    tuples = list(zip(*arrays))\n",
    "    authors = ('harris', 'king', 'koontz', 'straub')\n",
    "    title_rank_index = pd.MultiIndex.from_tuples(tuples, names=[\"title\", \"rank\"])\n",
    "    title_author_rank_proportions = pd.DataFrame(columns = authors, index=title_rank_index)\n",
    "    title_author_rank_counts = pd.DataFrame(columns = authors, index=title_rank_index)\n",
    "    print(\"\\n################ GETTING COUNTS AND PROPORTIONS OF RANKS ################\")\n",
    "        \n",
    "    # For every backhman book\n",
    "    for title in ranks_titles.title.unique():\n",
    "        print(title)\n",
    "        # For every rank 1-4\n",
    "        for rank in range(1,5):\n",
    "            # Create an empty row to fill\n",
    "            proportion_row = []\n",
    "            raw_count_row = [] \n",
    "            # For every candidate author\n",
    "            for author in authors:\n",
    "                # Get the number of iterations where a candidate was ranked 1st, 2nd, 3rd, etc.\n",
    "                predicted_author_count = ranks_titles.loc[(ranks_titles[author] == rank) & (ranks_titles['title'] == title)].shape[0]\n",
    "                # Divide by number of observations for that book (# segments * 1000 iterations per segment)\n",
    "                predicted_author_proportion = predicted_author_count / ranks_titles.loc[(ranks_titles['title'] == title)].shape[0]\n",
    "                # Add the proportion of iterations that predicted an author to have a certain rank\n",
    "                proportion_row.append(predicted_author_proportion)\n",
    "                raw_count_row.append(predicted_author_count)\n",
    "            # After going through all iterations, add the row to the new dataframe\n",
    "            title_author_rank_counts.loc[(title, rank), :] = raw_count_row\n",
    "            title_author_rank_proportions.loc[(title, rank), :] = proportion_row\n",
    "    title_author_rank_counts.groupby('rank').agg('sum').to_csv(\"predicted_author_candidate_raw_counts_{}token_segments.csv\".format(segment_length))\n",
    "    title_author_rank_proportions.to_csv(\"predicted_author_candidate_proportions_{}token_segments.csv\".format(segment_length))"
   ]
  }
 ],
 "metadata": {
  "kernelspec": {
   "display_name": "Python 3 (ipykernel)",
   "language": "python",
   "name": "python3"
  },
  "language_info": {
   "codemirror_mode": {
    "name": "ipython",
    "version": 3
   },
   "file_extension": ".py",
   "mimetype": "text/x-python",
   "name": "python",
   "nbconvert_exporter": "python",
   "pygments_lexer": "ipython3",
   "version": "3.9.13"
  }
 },
 "nbformat": 4,
 "nbformat_minor": 5
}
